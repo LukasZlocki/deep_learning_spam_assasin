{
 "cells": [
  {
   "cell_type": "code",
   "execution_count": null,
   "id": "906f497c-f85a-432b-be11-3b9645a4b6a8",
   "metadata": {},
   "outputs": [],
   "source": [
    "# Deep Learning Spam Assasing Project\n",
    "# Goal: Implement neural network to filter spam form email messages"
   ]
  },
  {
   "cell_type": "code",
   "execution_count": null,
   "id": "2a6b2c1f-3464-4264-b1c9-8acf0049fcb7",
   "metadata": {},
   "outputs": [],
   "source": [
    "# Activity plan:\n",
    "# Step I : Data collection and data pre processing.\n",
    "#     * Gather data\n",
    "#     * Clean data\n",
    "#     * Lebel the data\n",
    "#\n",
    "# Step II : Model selection.\n",
    "#     * Choose model(RNN, CNN, LSTM)\n",
    "#     * Model implementation\n",
    "#\n",
    "# Step III : Model implementation\n",
    "#     * Design model\n",
    "#     * Split data into training/test sets\n",
    "#     * Train model\n",
    "#\n",
    "# Step IV : Model quality evaluation\n",
    "#     * Setup quality tools\n",
    "#     * Perform tests to evaluate performance\n",
    "#\n",
    "# Step V : Project documentation\n",
    "#     * Add comments to code"
   ]
  },
  {
   "cell_type": "code",
   "execution_count": 1,
   "id": "0d31e427-0c93-4715-bacf-77f131ca9e02",
   "metadata": {},
   "outputs": [],
   "source": [
    "# import packages\n",
    "import pandas as pd # manipulating the data purpose\n",
    "import csv\n",
    "import os\n",
    "import numpy as np\n",
    "from sklearn.model_selection import train_test_split # Split test/train data randomly\n",
    "from sklearn.feature_extraction.text import CountVectorizer # Convert a collection of text documents to a matrix of token counts\n",
    "from sklearn.naive_bayes import MultinomialNB # add classifier for classification of words"
   ]
  },
  {
   "cell_type": "code",
   "execution_count": null,
   "id": "4130ec2d-cf4a-44e2-ae0c-7323214e1726",
   "metadata": {},
   "outputs": [],
   "source": [
    "# Step I : Data collection and data pre processing.\n",
    "#     * Gather data"
   ]
  },
  {
   "cell_type": "code",
   "execution_count": null,
   "id": "486cf292-e8ba-4dd3-9704-67beb906b103",
   "metadata": {},
   "outputs": [],
   "source": [
    "# Define input directory containing the files and output CSV file path\n",
    "input_directory_non_spam = 'C:/VirtualServer/src_spam_assasin/srcdata/easy_ham'\n",
    "input_directory_spam = 'C:/VirtualServer/src_spam_assasin/srcdata/spam'\n",
    "output_csv_non_spam = 'output_emails_non_spam.csv'\n",
    "output_csv_spam = 'output_emails_spam.csv'"
   ]
  },
  {
   "cell_type": "code",
   "execution_count": null,
   "id": "93fbfbd5-33db-4a0d-b6d5-21b3ad26aacb",
   "metadata": {},
   "outputs": [],
   "source": [
    "def convert_src_to_csv(input_directory, output_csv, spam_classification_number):\n",
    "    ''''\n",
    "        Retrive emails from given folder and returns dataset with columns:\n",
    "            *email text\n",
    "            *classification\n",
    "        \n",
    "        Parameters:\n",
    "            input_directory (string): directory where emails are beeing stored\n",
    "            output_csv (string): output file name where collected data will be stored\n",
    "            spam_classification_number (int): classification label. 0 - not spam / 1 - spam\n",
    "\n",
    "        Returns:\n",
    "            List of dataset splited into two columns:\n",
    "            *email text : all emails are stored here \n",
    "            *classification : classification label\n",
    "    '''\n",
    "    # List to hold all rows of data\n",
    "    data_rows = []\n",
    "\n",
    "    # Iterate over all files in the input directory\n",
    "    for filename in os.listdir(input_directory):\n",
    "        file_path = os.path.join(input_directory, filename)\n",
    "        \n",
    "        # Only process if it's a file\n",
    "        if os.path.isfile(file_path):\n",
    "            with open(file_path, 'r', encoding='utf-8', errors='ignore') as file:\n",
    "                file_content = file.read().strip()\n",
    "                # Replace newlines with spaces to have one constant text\n",
    "                file_content_single_line = file_content.replace('\\n', ' ')\n",
    "                file_content_no_sign = file_content_single_line.replace(',', ' ')\n",
    "                # Append file content as a row in data_rows\n",
    "                data_rows.append([file_content_no_sign, spam_classification_number])\n",
    "\n",
    "    # Write all data to the CSV file\n",
    "    with open(output_csv, 'w', newline='', encoding='utf-8') as csv_file:\n",
    "        writer = csv.writer(csv_file)\n",
    "        writer.writerow(['text', 'label'])  # Write header\n",
    "        writer.writerows(data_rows)"
   ]
  },
  {
   "cell_type": "code",
   "execution_count": null,
   "id": "442d9b60-7500-442f-9c9e-bc3d54a71469",
   "metadata": {},
   "outputs": [],
   "source": []
  }
 ],
 "metadata": {
  "kernelspec": {
   "display_name": "Python 3 (ipykernel)",
   "language": "python",
   "name": "python3"
  },
  "language_info": {
   "codemirror_mode": {
    "name": "ipython",
    "version": 3
   },
   "file_extension": ".py",
   "mimetype": "text/x-python",
   "name": "python",
   "nbconvert_exporter": "python",
   "pygments_lexer": "ipython3",
   "version": "3.12.3"
  }
 },
 "nbformat": 4,
 "nbformat_minor": 5
}
