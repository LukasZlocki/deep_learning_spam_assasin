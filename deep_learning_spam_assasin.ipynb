{
 "cells": [
  {
   "cell_type": "code",
   "execution_count": 50,
   "id": "906f497c-f85a-432b-be11-3b9645a4b6a8",
   "metadata": {},
   "outputs": [],
   "source": [
    "# Deep Learning Spam Assasing Project\n",
    "# Goal: Implement neural network to filter spam form email messages\n",
    "\n"
   ]
  },
  {
   "cell_type": "code",
   "execution_count": 51,
   "id": "2a6b2c1f-3464-4264-b1c9-8acf0049fcb7",
   "metadata": {},
   "outputs": [],
   "source": [
    "# Activity plan:\n",
    "# Step I : Data collection and data pre processing.\n",
    "#     * Gather data\n",
    "#     * Clean data\n",
    "#     * Lebel the data\n",
    "#\n",
    "# Step II : Model selection.\n",
    "#     * Choose model(RNN, CNN, LSTM)\n",
    "#     * Model implementation\n",
    "#\n",
    "# Step III : Model implementation\n",
    "#     * Design model\n",
    "#     * Split data into training/test sets\n",
    "#     * Train model\n",
    "#\n",
    "# Step IV : Model quality evaluation\n",
    "#     * Setup quality tools\n",
    "#     * Perform tests to evaluate performance\n",
    "#\n",
    "# Step V : Project documentation\n",
    "#     * Add comments to code\n",
    "\n"
   ]
  },
  {
   "cell_type": "code",
   "execution_count": 52,
   "id": "0d31e427-0c93-4715-bacf-77f131ca9e02",
   "metadata": {},
   "outputs": [],
   "source": [
    "# import packages\n",
    "import pandas as pd # manipulating the data purpose\n",
    "import csv\n",
    "import os\n",
    "import numpy as np\n",
    "from sklearn.model_selection import train_test_split # Split test/train data randomly\n",
    "from sklearn.feature_extraction.text import CountVectorizer # Convert a collection of text documents to a matrix of token counts\n",
    "from sklearn.naive_bayes import MultinomialNB # add classifier for classification of words\n",
    "import re"
   ]
  },
  {
   "cell_type": "code",
   "execution_count": 53,
   "id": "4130ec2d-cf4a-44e2-ae0c-7323214e1726",
   "metadata": {},
   "outputs": [],
   "source": [
    "# Step I : Data collection and data pre processing.\n",
    "#     * Gather data\n",
    "\n"
   ]
  },
  {
   "cell_type": "code",
   "execution_count": 54,
   "id": "486cf292-e8ba-4dd3-9704-67beb906b103",
   "metadata": {},
   "outputs": [],
   "source": [
    "# Define input directory containing the files and output CSV file path\n",
    "input_directory_non_spam = 'C:/VirtualServer/src_spam_assasin/srcdata/easy_ham'\n",
    "input_directory_spam = 'C:/VirtualServer/src_spam_assasin/srcdata/spam'\n",
    "output_csv_non_spam = 'output_emails_non_spam.csv'\n",
    "output_csv_spam = 'output_emails_spam.csv'"
   ]
  },
  {
   "cell_type": "code",
   "execution_count": 55,
   "id": "93fbfbd5-33db-4a0d-b6d5-21b3ad26aacb",
   "metadata": {},
   "outputs": [],
   "source": [
    "def load_emails_data(input_directory):\n",
    "    '''\n",
    "    Load all emails from given directory\n",
    "\n",
    "    Returns\n",
    "    List of emails dataset\n",
    "    '''\n",
    "    \n",
    "    # List to hold all rows of data\n",
    "    emails_dataset = []\n",
    "\n",
    "    # Iterate over all files in the input directory\n",
    "    for filename in os.listdir(input_directory):\n",
    "        file_path = os.path.join(input_directory, filename)\n",
    "        # Only process if it's a file\n",
    "        if os.path.isfile(file_path):\n",
    "            with open(file_path, 'r', encoding='utf-8', errors='ignore') as file:\n",
    "                file_content = file.read().strip()\n",
    "                # Replace newlines with spaces to have one constant text\n",
    "                file_content_single_line = file_content.replace('\\n', ' ')\n",
    "                file_content_no_sign = file_content_single_line.replace(',', ' ')\n",
    "                emails_dataset.append(file_content_no_sign)\n",
    "    return emails_dataset"
   ]
  },
  {
   "cell_type": "code",
   "execution_count": 56,
   "id": "b5f6000a-72e9-456f-be56-5eed8ab695e0",
   "metadata": {},
   "outputs": [
    {
     "name": "stdout",
     "output_type": "stream",
     "text": [
      "********************************************************\n",
      "From exmh-workers-admin@redhat.com  Thu Aug 22 12:36:23 2002 Return-Path: <exmh-workers-admin@example.com> Delivered-To: zzzz@localhost.netnoteinc.com Received: from localhost (localhost [127.0.0.1]) \tby phobos.labs.netnoteinc.com (Postfix) with ESMTP id D03E543C36 \tfor <zzzz@localhost>; Thu  22 Aug 2002 07:36:16 -0400 (EDT) Received: from phobos [127.0.0.1] \tby localhost with IMAP (fetchmail-5.9.0) \tfor zzzz@localhost (single-drop); Thu  22 Aug 2002 12:36:16 +0100 (IST) Received: from listman.example.com (listman.example.com [66.187.233.211]) by     dogma.slashnull.org (8.11.6/8.11.6) with ESMTP id g7MBYrZ04811 for     <zzzz-exmh@example.com>; Thu  22 Aug 2002 12:34:53 +0100 Received: from listman.example.com (localhost.localdomain [127.0.0.1]) by     listman.redhat.com (Postfix) with ESMTP id 8386540858; Thu  22 Aug 2002     07:35:02 -0400 (EDT) Delivered-To: exmh-workers@listman.example.com Received: from int-mx1.corp.example.com (int-mx1.corp.example.com     [172.16.52.254]) by listman.redhat.com (Postfix) with ESMTP id 10CF8406D7     for <exmh-workers@listman.redhat.com>; Thu  22 Aug 2002 07:34:10 -0400     (EDT) Received: (from mail@localhost) by int-mx1.corp.example.com (8.11.6/8.11.6)     id g7MBY7g11259 for exmh-workers@listman.redhat.com; Thu  22 Aug 2002     07:34:07 -0400 Received: from mx1.example.com (mx1.example.com [172.16.48.31]) by     int-mx1.corp.redhat.com (8.11.6/8.11.6) with SMTP id g7MBY7Y11255 for     <exmh-workers@redhat.com>; Thu  22 Aug 2002 07:34:07 -0400 Received: from ratree.psu.ac.th ([202.28.97.6]) by mx1.example.com     (8.11.6/8.11.6) with SMTP id g7MBIhl25223 for <exmh-workers@redhat.com>;     Thu  22 Aug 2002 07:18:55 -0400 Received: from delta.cs.mu.OZ.AU (delta.coe.psu.ac.th [172.30.0.98]) by     ratree.psu.ac.th (8.11.6/8.11.6) with ESMTP id g7MBWel29762;     Thu  22 Aug 2002 18:32:40 +0700 (ICT) Received: from munnari.OZ.AU (localhost [127.0.0.1]) by delta.cs.mu.OZ.AU     (8.11.6/8.11.6) with ESMTP id g7MBQPW13260; Thu  22 Aug 2002 18:26:25     +0700 (ICT) From: Robert Elz <kre@munnari.OZ.AU> To: Chris Garrigues <cwg-dated-1030377287.06fa6d@DeepEddy.Com> Cc: exmh-workers@example.com Subject: Re: New Sequences Window In-Reply-To: <1029945287.4797.TMDA@deepeddy.vircio.com> References: <1029945287.4797.TMDA@deepeddy.vircio.com>     <1029882468.3116.TMDA@deepeddy.vircio.com> <9627.1029933001@munnari.OZ.AU>     <1029943066.26919.TMDA@deepeddy.vircio.com>     <1029944441.398.TMDA@deepeddy.vircio.com> MIME-Version: 1.0 Content-Type: text/plain; charset=us-ascii Message-Id: <13258.1030015585@munnari.OZ.AU> X-Loop: exmh-workers@example.com Sender: exmh-workers-admin@example.com Errors-To: exmh-workers-admin@example.com X-Beenthere: exmh-workers@example.com X-Mailman-Version: 2.0.1 Precedence: bulk List-Help: <mailto:exmh-workers-request@example.com?subject=help> List-Post: <mailto:exmh-workers@example.com> List-Subscribe: <https://listman.example.com/mailman/listinfo/exmh-workers>      <mailto:exmh-workers-request@redhat.com?subject=subscribe> List-Id: Discussion list for EXMH developers <exmh-workers.example.com> List-Unsubscribe: <https://listman.example.com/mailman/listinfo/exmh-workers>      <mailto:exmh-workers-request@redhat.com?subject=unsubscribe> List-Archive: <https://listman.example.com/mailman/private/exmh-workers/> Date: Thu  22 Aug 2002 18:26:25 +0700      Date:        Wed  21 Aug 2002 10:54:46 -0500     From:        Chris Garrigues <cwg-dated-1030377287.06fa6d@DeepEddy.Com>     Message-ID:  <1029945287.4797.TMDA@deepeddy.vircio.com>     | I can't reproduce this error.  For me it is very repeatable... (like every time  without fail).  This is the debug log of the pick happening ...  18:19:03 Pick_It {exec pick +inbox -list -lbrace -lbrace -subject ftp -rbrace -rbrace} {4852-4852 -sequence mercury} 18:19:03 exec pick +inbox -list -lbrace -lbrace -subject ftp -rbrace -rbrace 4852-4852 -sequence mercury 18:19:04 Ftoc_PickMsgs {{1 hit}} 18:19:04 Marking 1 hits 18:19:04 tkerror: syntax error in expression \"int ...  Note  if I run the pick command by hand ...  delta$ pick +inbox -list -lbrace -lbrace -subject ftp -rbrace -rbrace  4852-4852 -sequence mercury 1 hit  That's where the \"1 hit\" comes from (obviously).  The version of nmh I'm using is ...  delta$ pick -version pick -- nmh-1.0.4 [compiled on fuchsia.cs.mu.OZ.AU at Sun Mar 17 14:55:56 ICT 2002]  And the relevant part of my .mh_profile ...  delta$ mhparam pick -seq sel -list   Since the pick command works  the sequence (actually  both of them  the one that's explicit on the command line  from the search popup  and the one that comes from .mh_profile) do get created.  kre  ps: this is still using the version of the code form a day ago  I haven't been able to reach the cvs repository today (local routing issue I think).    _______________________________________________ Exmh-workers mailing list Exmh-workers@redhat.com https://listman.redhat.com/mailman/listinfo/exmh-workers\n",
      "********************************************************\n"
     ]
    }
   ],
   "source": [
    "# Load ONLY ham emails\n",
    "emails_dataset_raw_ham =  load_emails_data(input_directory_non_spam)\n",
    "\n",
    "counter = 0\n",
    "for element in emails_dataset_raw_ham:\n",
    "    if counter < 1:\n",
    "        print(\"********************************************************\")\n",
    "        print(f\"{element}\")\n",
    "        print(\"********************************************************\")\n",
    "    else:\n",
    "        break;\n",
    "    counter = counter +1"
   ]
  },
  {
   "cell_type": "code",
   "execution_count": 57,
   "id": "f1a86674-2ca7-4b59-862b-43330b3aab32",
   "metadata": {},
   "outputs": [
    {
     "name": "stdout",
     "output_type": "stream",
     "text": [
      "********************************************************\n",
      "From exmh-workers-admin@redhat.com  Thu Aug 22 12:36:23 2002 Return-Path: <exmh-workers-admin@example.com> Delivered-To: zzzz@localhost.netnoteinc.com Received: from localhost (localhost [127.0.0.1]) \tby phobos.labs.netnoteinc.com (Postfix) with ESMTP id D03E543C36 \tfor <zzzz@localhost>; Thu  22 Aug 2002 07:36:16 -0400 (EDT) Received: from phobos [127.0.0.1] \tby localhost with IMAP (fetchmail-5.9.0) \tfor zzzz@localhost (single-drop); Thu  22 Aug 2002 12:36:16 +0100 (IST) Received: from listman.example.com (listman.example.com [66.187.233.211]) by     dogma.slashnull.org (8.11.6/8.11.6) with ESMTP id g7MBYrZ04811 for     <zzzz-exmh@example.com>; Thu  22 Aug 2002 12:34:53 +0100 Received: from listman.example.com (localhost.localdomain [127.0.0.1]) by     listman.redhat.com (Postfix) with ESMTP id 8386540858; Thu  22 Aug 2002     07:35:02 -0400 (EDT) Delivered-To: exmh-workers@listman.example.com Received: from int-mx1.corp.example.com (int-mx1.corp.example.com     [172.16.52.254]) by listman.redhat.com (Postfix) with ESMTP id 10CF8406D7     for <exmh-workers@listman.redhat.com>; Thu  22 Aug 2002 07:34:10 -0400     (EDT) Received: (from mail@localhost) by int-mx1.corp.example.com (8.11.6/8.11.6)     id g7MBY7g11259 for exmh-workers@listman.redhat.com; Thu  22 Aug 2002     07:34:07 -0400 Received: from mx1.example.com (mx1.example.com [172.16.48.31]) by     int-mx1.corp.redhat.com (8.11.6/8.11.6) with SMTP id g7MBY7Y11255 for     <exmh-workers@redhat.com>; Thu  22 Aug 2002 07:34:07 -0400 Received: from ratree.psu.ac.th ([202.28.97.6]) by mx1.example.com     (8.11.6/8.11.6) with SMTP id g7MBIhl25223 for <exmh-workers@redhat.com>;     Thu  22 Aug 2002 07:18:55 -0400 Received: from delta.cs.mu.OZ.AU (delta.coe.psu.ac.th [172.30.0.98]) by     ratree.psu.ac.th (8.11.6/8.11.6) with ESMTP id g7MBWel29762;     Thu  22 Aug 2002 18:32:40 +0700 (ICT) Received: from munnari.OZ.AU (localhost [127.0.0.1]) by delta.cs.mu.OZ.AU     (8.11.6/8.11.6) with ESMTP id g7MBQPW13260; Thu  22 Aug 2002 18:26:25     +0700 (ICT) From: Robert Elz <kre@munnari.OZ.AU> To: Chris Garrigues <cwg-dated-1030377287.06fa6d@DeepEddy.Com> Cc: exmh-workers@example.com Subject: Re: New Sequences Window In-Reply-To: <1029945287.4797.TMDA@deepeddy.vircio.com> References: <1029945287.4797.TMDA@deepeddy.vircio.com>     <1029882468.3116.TMDA@deepeddy.vircio.com> <9627.1029933001@munnari.OZ.AU>     <1029943066.26919.TMDA@deepeddy.vircio.com>     <1029944441.398.TMDA@deepeddy.vircio.com> MIME-Version: 1.0 Content-Type: text/plain; charset=us-ascii Message-Id: <13258.1030015585@munnari.OZ.AU> X-Loop: exmh-workers@example.com Sender: exmh-workers-admin@example.com Errors-To: exmh-workers-admin@example.com X-Beenthere: exmh-workers@example.com X-Mailman-Version: 2.0.1 Precedence: bulk List-Help: <mailto:exmh-workers-request@example.com?subject=help> List-Post: <mailto:exmh-workers@example.com> List-Subscribe: <https://listman.example.com/mailman/listinfo/exmh-workers>      <mailto:exmh-workers-request@redhat.com?subject=subscribe> List-Id: Discussion list for EXMH developers <exmh-workers.example.com> List-Unsubscribe: <https://listman.example.com/mailman/listinfo/exmh-workers>      <mailto:exmh-workers-request@redhat.com?subject=unsubscribe> List-Archive: <https://listman.example.com/mailman/private/exmh-workers/> Date: Thu  22 Aug 2002 18:26:25 +0700      Date:        Wed  21 Aug 2002 10:54:46 -0500     From:        Chris Garrigues <cwg-dated-1030377287.06fa6d@DeepEddy.Com>     Message-ID:  <1029945287.4797.TMDA@deepeddy.vircio.com>     | I can't reproduce this error.  For me it is very repeatable... (like every time  without fail).  This is the debug log of the pick happening ...  18:19:03 Pick_It {exec pick +inbox -list -lbrace -lbrace -subject ftp -rbrace -rbrace} {4852-4852 -sequence mercury} 18:19:03 exec pick +inbox -list -lbrace -lbrace -subject ftp -rbrace -rbrace 4852-4852 -sequence mercury 18:19:04 Ftoc_PickMsgs {{1 hit}} 18:19:04 Marking 1 hits 18:19:04 tkerror: syntax error in expression \"int ...  Note  if I run the pick command by hand ...  delta$ pick +inbox -list -lbrace -lbrace -subject ftp -rbrace -rbrace  4852-4852 -sequence mercury 1 hit  That's where the \"1 hit\" comes from (obviously).  The version of nmh I'm using is ...  delta$ pick -version pick -- nmh-1.0.4 [compiled on fuchsia.cs.mu.OZ.AU at Sun Mar 17 14:55:56 ICT 2002]  And the relevant part of my .mh_profile ...  delta$ mhparam pick -seq sel -list   Since the pick command works  the sequence (actually  both of them  the one that's explicit on the command line  from the search popup  and the one that comes from .mh_profile) do get created.  kre  ps: this is still using the version of the code form a day ago  I haven't been able to reach the cvs repository today (local routing issue I think).    _______________________________________________ Exmh-workers mailing list Exmh-workers@redhat.com https://listman.redhat.com/mailman/listinfo/exmh-workers\n",
      "********************************************************\n"
     ]
    }
   ],
   "source": [
    "# Load ONLY spam emails\n",
    "emails_dataset_raw_spam =  load_emails_data(input_directory_spam)\n",
    "\n",
    "counter = 0\n",
    "for element in emails_dataset_raw_ham:\n",
    "    if counter < 1:\n",
    "        print(\"********************************************************\")\n",
    "        print(f\"{element}\")\n",
    "        print(\"********************************************************\")\n",
    "    else:\n",
    "        break;\n",
    "    counter = counter +1"
   ]
  },
  {
   "cell_type": "code",
   "execution_count": 58,
   "id": "30d20e23-6076-4e52-910f-ab208ab13a51",
   "metadata": {},
   "outputs": [],
   "source": [
    "# Data are loaded and divided to HAM and SPAM\n",
    "# SPAM : emails_dataset_raw_spam \n",
    "# HAM : emails_dataset_raw_ham\n",
    "\n"
   ]
  },
  {
   "cell_type": "code",
   "execution_count": 59,
   "id": "5eeb6da2-8db2-45ae-9e5f-d590de9fbcd0",
   "metadata": {},
   "outputs": [],
   "source": [
    "# Step I : Data collection and data pre processing.\n",
    "#     * Clean data\n",
    "\n"
   ]
  },
  {
   "cell_type": "code",
   "execution_count": 60,
   "id": "232b0037-359b-40cd-9428-38ed8e4ddb25",
   "metadata": {},
   "outputs": [],
   "source": [
    "# extracting pure email body - cleaning the data\n",
    "def extract_pure_email(raw_emails):\n",
    "    key_word = 'Date:'\n",
    "    cleaned_email = []\n",
    "    for email in raw_emails:\n",
    "        # Find the line with \"Subject:\" and extract everything from that line onward\n",
    "        subject_start = re.search(key_word, email, re.MULTILINE)\n",
    "        if subject_start:\n",
    "            extracted_content = email[subject_start.start():]\n",
    "            cleaned_email.append(extracted_content)\n",
    "    return cleaned_email"
   ]
  },
  {
   "cell_type": "code",
   "execution_count": 61,
   "id": "e2910a9a-ebf0-4b63-be54-8fc94e3ad96e",
   "metadata": {},
   "outputs": [
    {
     "name": "stdout",
     "output_type": "stream",
     "text": [
      "********************************************************\n",
      "Date: Thu  22 Aug 2002 18:26:25 +0700      Date:        Wed  21 Aug 2002 10:54:46 -0500     From:        Chris Garrigues <cwg-dated-1030377287.06fa6d@DeepEddy.Com>     Message-ID:  <1029945287.4797.TMDA@deepeddy.vircio.com>     | I can't reproduce this error.  For me it is very repeatable... (like every time  without fail).  This is the debug log of the pick happening ...  18:19:03 Pick_It {exec pick +inbox -list -lbrace -lbrace -subject ftp -rbrace -rbrace} {4852-4852 -sequence mercury} 18:19:03 exec pick +inbox -list -lbrace -lbrace -subject ftp -rbrace -rbrace 4852-4852 -sequence mercury 18:19:04 Ftoc_PickMsgs {{1 hit}} 18:19:04 Marking 1 hits 18:19:04 tkerror: syntax error in expression \"int ...  Note  if I run the pick command by hand ...  delta$ pick +inbox -list -lbrace -lbrace -subject ftp -rbrace -rbrace  4852-4852 -sequence mercury 1 hit  That's where the \"1 hit\" comes from (obviously).  The version of nmh I'm using is ...  delta$ pick -version pick -- nmh-1.0.4 [compiled on fuchsia.cs.mu.OZ.AU at Sun Mar 17 14:55:56 ICT 2002]  And the relevant part of my .mh_profile ...  delta$ mhparam pick -seq sel -list   Since the pick command works  the sequence (actually  both of them  the one that's explicit on the command line  from the search popup  and the one that comes from .mh_profile) do get created.  kre  ps: this is still using the version of the code form a day ago  I haven't been able to reach the cvs repository today (local routing issue I think).    _______________________________________________ Exmh-workers mailing list Exmh-workers@redhat.com https://listman.redhat.com/mailman/listinfo/exmh-workers\n",
      "********************************************************\n"
     ]
    }
   ],
   "source": [
    "cleaned_ham_dataset = extract_pure_email(emails_dataset_raw_ham)\n",
    "\n",
    "counter = 0\n",
    "for element in cleaned_ham_dataset:\n",
    "    if counter < 1:\n",
    "        print(\"********************************************************\")\n",
    "        print(f\"{element}\")\n",
    "        print(\"********************************************************\")\n",
    "    else:\n",
    "        break;\n",
    "    counter = counter +1"
   ]
  },
  {
   "cell_type": "code",
   "execution_count": 66,
   "id": "1d87399d-12ed-4f0b-beaa-b971d56a9a0f",
   "metadata": {},
   "outputs": [
    {
     "name": "stdout",
     "output_type": "stream",
     "text": [
      "********************************************************\n",
      "Date: Thu  22 Aug 2002 18:26:25 +0700      Date:        Wed  21 Aug 2002 10:54:46 -0500     From:        Chris Garrigues <cwg-dated-1030377287.06fa6d@DeepEddy.Com>     Message-ID:  <1029945287.4797.TMDA@deepeddy.vircio.com>     | I can't reproduce this error.  For me it is very repeatable... (like every time  without fail).  This is the debug log of the pick happening ...  18:19:03 Pick_It {exec pick +inbox -list -lbrace -lbrace -subject ftp -rbrace -rbrace} {4852-4852 -sequence mercury} 18:19:03 exec pick +inbox -list -lbrace -lbrace -subject ftp -rbrace -rbrace 4852-4852 -sequence mercury 18:19:04 Ftoc_PickMsgs {{1 hit}} 18:19:04 Marking 1 hits 18:19:04 tkerror: syntax error in expression \"int ...  Note  if I run the pick command by hand ...  delta$ pick +inbox -list -lbrace -lbrace -subject ftp -rbrace -rbrace  4852-4852 -sequence mercury 1 hit  That's where the \"1 hit\" comes from (obviously).  The version of nmh I'm using is ...  delta$ pick -version pick -- nmh-1.0.4 [compiled on fuchsia.cs.mu.OZ.AU at Sun Mar 17 14:55:56 ICT 2002]  And the relevant part of my .mh_profile ...  delta$ mhparam pick -seq sel -list   Since the pick command works  the sequence (actually  both of them  the one that's explicit on the command line  from the search popup  and the one that comes from .mh_profile) do get created.  kre  ps: this is still using the version of the code form a day ago  I haven't been able to reach the cvs repository today (local routing issue I think).    _______________________________________________ Exmh-workers mailing list Exmh-workers@redhat.com https://listman.redhat.com/mailman/listinfo/exmh-workers\n",
      "********************************************************\n"
     ]
    }
   ],
   "source": [
    "cleaned_spam_dataset = extract_pure_email(emails_dataset_raw_spam)\n",
    "\n",
    "counter = 0\n",
    "for element in cleaned_ham_dataset:\n",
    "    if counter < 1:\n",
    "        print(\"********************************************************\")\n",
    "        print(f\"{element}\")\n",
    "        print(\"********************************************************\")\n",
    "    else:\n",
    "        break;\n",
    "    counter = counter +1"
   ]
  },
  {
   "cell_type": "code",
   "execution_count": 71,
   "id": "9ebd750a-0c4e-4333-a009-1b55b085f5bc",
   "metadata": {},
   "outputs": [
    {
     "name": "stdout",
     "output_type": "stream",
     "text": [
      "Spam dataset emails quantity: 500\n",
      "Spam dataset emails quantity: 2551\n"
     ]
    }
   ],
   "source": [
    "# checking dataset - how meny raws in each HAM / SPAM dataset.\n",
    "spam_emails_quantity = len(cleaned_spam_dataset)\n",
    "ham_emails_quantity = len(cleaned_ham_dataset)\n",
    "print(f\"Spam dataset emails quantity: {spam_emails_quantity}\")\n",
    "print(f\"Spam dataset emails quantity: {ham_emails_quantity}\")\n"
   ]
  },
  {
   "cell_type": "code",
   "execution_count": null,
   "id": "7e357b5c-f7b0-4c3a-9bce-8009b61a699a",
   "metadata": {},
   "outputs": [],
   "source": [
    "# Data cleaned to have only emails body\n",
    "# Data are cleaned and divided to HAM and SPAM\n",
    "# SPAM : cleaned_spam_dataset\n",
    "# HAM : cleaned_ham_dataset\n",
    "\n",
    "\n"
   ]
  },
  {
   "cell_type": "code",
   "execution_count": 70,
   "id": "420b48ba-d88a-4ea4-8883-622db78a0322",
   "metadata": {},
   "outputs": [],
   "source": [
    "# Step I : Data collection and data pre processing.\n",
    "#     * Lebel the data\n",
    "\n"
   ]
  },
  {
   "cell_type": "code",
   "execution_count": null,
   "id": "deffe025-397a-403f-af90-8e16059df630",
   "metadata": {},
   "outputs": [],
   "source": []
  }
 ],
 "metadata": {
  "kernelspec": {
   "display_name": "Python 3 (ipykernel)",
   "language": "python",
   "name": "python3"
  },
  "language_info": {
   "codemirror_mode": {
    "name": "ipython",
    "version": 3
   },
   "file_extension": ".py",
   "mimetype": "text/x-python",
   "name": "python",
   "nbconvert_exporter": "python",
   "pygments_lexer": "ipython3",
   "version": "3.12.3"
  }
 },
 "nbformat": 4,
 "nbformat_minor": 5
}
