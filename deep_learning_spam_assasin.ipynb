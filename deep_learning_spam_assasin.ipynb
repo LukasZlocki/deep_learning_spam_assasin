{
 "cells": [
  {
   "cell_type": "code",
   "execution_count": 37,
   "id": "906f497c-f85a-432b-be11-3b9645a4b6a8",
   "metadata": {},
   "outputs": [],
   "source": [
    "# Deep Learning Spam Assasing Project\n",
    "# Goal: Implement neural network to filter spam form email messages\n",
    "\n"
   ]
  },
  {
   "cell_type": "code",
   "execution_count": 38,
   "id": "2a6b2c1f-3464-4264-b1c9-8acf0049fcb7",
   "metadata": {},
   "outputs": [],
   "source": [
    "# Activity plan:\n",
    "# Step I : Data collection and data pre processing.\n",
    "#     * Gather data - done :)\n",
    "#     * Clean data - done :)\n",
    "#     * Lebel the data - done :)\n",
    "#\n",
    "# Step II : Model selection.\n",
    "#     * Choose model(RNN, CNN, LSTM)\n",
    "#     * Model implementation\n",
    "#\n",
    "# Step III : Model implementation\n",
    "#     * Design model\n",
    "#     * Split data into training/test sets\n",
    "#     * Train model\n",
    "#\n",
    "# Step IV : Model quality evaluation\n",
    "#     * Setup quality tools\n",
    "#     * Perform tests to evaluate performance\n",
    "#\n",
    "# Step V : Project documentation\n",
    "#     * Add comments to code\n",
    "\n"
   ]
  },
  {
   "cell_type": "code",
   "execution_count": 39,
   "id": "0d31e427-0c93-4715-bacf-77f131ca9e02",
   "metadata": {},
   "outputs": [],
   "source": [
    "# import packages\n",
    "import pandas as pd # manipulating the data purpose\n",
    "import csv\n",
    "import os\n",
    "import numpy as np\n",
    "from sklearn.model_selection import train_test_split # Split test/train data randomly\n",
    "from sklearn.feature_extraction.text import CountVectorizer # Convert a collection of text documents to a matrix of token counts\n",
    "from sklearn.naive_bayes import MultinomialNB # add classifier for classification of words\n",
    "import re"
   ]
  },
  {
   "cell_type": "code",
   "execution_count": 40,
   "id": "4130ec2d-cf4a-44e2-ae0c-7323214e1726",
   "metadata": {},
   "outputs": [],
   "source": [
    "# Step I : Data collection and data pre processing.\n",
    "#     * Gather data\n",
    "\n"
   ]
  },
  {
   "cell_type": "code",
   "execution_count": 41,
   "id": "486cf292-e8ba-4dd3-9704-67beb906b103",
   "metadata": {},
   "outputs": [],
   "source": [
    "# Define input directory containing the files and output CSV file path\n",
    "input_directory_non_spam = 'C:/VirtualServer/src_spam_assasin/srcdata/easy_ham'\n",
    "input_directory_spam = 'C:/VirtualServer/src_spam_assasin/srcdata/spam'\n",
    "output_csv_non_spam = 'output_emails_non_spam.csv'\n",
    "output_csv_spam = 'output_emails_spam.csv'"
   ]
  },
  {
   "cell_type": "code",
   "execution_count": 42,
   "id": "93fbfbd5-33db-4a0d-b6d5-21b3ad26aacb",
   "metadata": {},
   "outputs": [],
   "source": [
    "def load_emails_data(input_directory):\n",
    "    '''\n",
    "    Load all emails from given directory\n",
    "\n",
    "    Returns\n",
    "    List of emails dataset\n",
    "    '''\n",
    "    \n",
    "    # List to hold all rows of data\n",
    "    emails_dataset = []\n",
    "\n",
    "    # Iterate over all files in the input directory\n",
    "    for filename in os.listdir(input_directory):\n",
    "        file_path = os.path.join(input_directory, filename)\n",
    "        # Only process if it's a file\n",
    "        if os.path.isfile(file_path):\n",
    "            with open(file_path, 'r', encoding='utf-8', errors='ignore') as file:\n",
    "                file_content = file.read().strip()\n",
    "                # Replace newlines with spaces to have one constant text\n",
    "                file_content_single_line = file_content.replace('\\n', ' ')\n",
    "                file_content_no_sign = file_content_single_line.replace(',', ' ')\n",
    "                emails_dataset.append(file_content_no_sign)\n",
    "    return emails_dataset"
   ]
  },
  {
   "cell_type": "code",
   "execution_count": 43,
   "id": "b5f6000a-72e9-456f-be56-5eed8ab695e0",
   "metadata": {},
   "outputs": [
    {
     "name": "stdout",
     "output_type": "stream",
     "text": [
      "********************************************************\n",
      "From exmh-workers-admin@redhat.com  Thu Aug 22 12:36:23 2002 Return-Path: <exmh-workers-admin@example.com> Delivered-To: zzzz@localhost.netnoteinc.com Received: from localhost (localhost [127.0.0.1]) \tby phobos.labs.netnoteinc.com (Postfix) with ESMTP id D03E543C36 \tfor <zzzz@localhost>; Thu  22 Aug 2002 07:36:16 -0400 (EDT) Received: from phobos [127.0.0.1] \tby localhost with IMAP (fetchmail-5.9.0) \tfor zzzz@localhost (single-drop); Thu  22 Aug 2002 12:36:16 +0100 (IST) Received: from listman.example.com (listman.example.com [66.187.233.211]) by     dogma.slashnull.org (8.11.6/8.11.6) with ESMTP id g7MBYrZ04811 for     <zzzz-exmh@example.com>; Thu  22 Aug 2002 12:34:53 +0100 Received: from listman.example.com (localhost.localdomain [127.0.0.1]) by     listman.redhat.com (Postfix) with ESMTP id 8386540858; Thu  22 Aug 2002     07:35:02 -0400 (EDT) Delivered-To: exmh-workers@listman.example.com Received: from int-mx1.corp.example.com (int-mx1.corp.example.com     [172.16.52.254]) by listman.redhat.com (Postfix) with ESMTP id 10CF8406D7     for <exmh-workers@listman.redhat.com>; Thu  22 Aug 2002 07:34:10 -0400     (EDT) Received: (from mail@localhost) by int-mx1.corp.example.com (8.11.6/8.11.6)     id g7MBY7g11259 for exmh-workers@listman.redhat.com; Thu  22 Aug 2002     07:34:07 -0400 Received: from mx1.example.com (mx1.example.com [172.16.48.31]) by     int-mx1.corp.redhat.com (8.11.6/8.11.6) with SMTP id g7MBY7Y11255 for     <exmh-workers@redhat.com>; Thu  22 Aug 2002 07:34:07 -0400 Received: from ratree.psu.ac.th ([202.28.97.6]) by mx1.example.com     (8.11.6/8.11.6) with SMTP id g7MBIhl25223 for <exmh-workers@redhat.com>;     Thu  22 Aug 2002 07:18:55 -0400 Received: from delta.cs.mu.OZ.AU (delta.coe.psu.ac.th [172.30.0.98]) by     ratree.psu.ac.th (8.11.6/8.11.6) with ESMTP id g7MBWel29762;     Thu  22 Aug 2002 18:32:40 +0700 (ICT) Received: from munnari.OZ.AU (localhost [127.0.0.1]) by delta.cs.mu.OZ.AU     (8.11.6/8.11.6) with ESMTP id g7MBQPW13260; Thu  22 Aug 2002 18:26:25     +0700 (ICT) From: Robert Elz <kre@munnari.OZ.AU> To: Chris Garrigues <cwg-dated-1030377287.06fa6d@DeepEddy.Com> Cc: exmh-workers@example.com Subject: Re: New Sequences Window In-Reply-To: <1029945287.4797.TMDA@deepeddy.vircio.com> References: <1029945287.4797.TMDA@deepeddy.vircio.com>     <1029882468.3116.TMDA@deepeddy.vircio.com> <9627.1029933001@munnari.OZ.AU>     <1029943066.26919.TMDA@deepeddy.vircio.com>     <1029944441.398.TMDA@deepeddy.vircio.com> MIME-Version: 1.0 Content-Type: text/plain; charset=us-ascii Message-Id: <13258.1030015585@munnari.OZ.AU> X-Loop: exmh-workers@example.com Sender: exmh-workers-admin@example.com Errors-To: exmh-workers-admin@example.com X-Beenthere: exmh-workers@example.com X-Mailman-Version: 2.0.1 Precedence: bulk List-Help: <mailto:exmh-workers-request@example.com?subject=help> List-Post: <mailto:exmh-workers@example.com> List-Subscribe: <https://listman.example.com/mailman/listinfo/exmh-workers>      <mailto:exmh-workers-request@redhat.com?subject=subscribe> List-Id: Discussion list for EXMH developers <exmh-workers.example.com> List-Unsubscribe: <https://listman.example.com/mailman/listinfo/exmh-workers>      <mailto:exmh-workers-request@redhat.com?subject=unsubscribe> List-Archive: <https://listman.example.com/mailman/private/exmh-workers/> Date: Thu  22 Aug 2002 18:26:25 +0700      Date:        Wed  21 Aug 2002 10:54:46 -0500     From:        Chris Garrigues <cwg-dated-1030377287.06fa6d@DeepEddy.Com>     Message-ID:  <1029945287.4797.TMDA@deepeddy.vircio.com>     | I can't reproduce this error.  For me it is very repeatable... (like every time  without fail).  This is the debug log of the pick happening ...  18:19:03 Pick_It {exec pick +inbox -list -lbrace -lbrace -subject ftp -rbrace -rbrace} {4852-4852 -sequence mercury} 18:19:03 exec pick +inbox -list -lbrace -lbrace -subject ftp -rbrace -rbrace 4852-4852 -sequence mercury 18:19:04 Ftoc_PickMsgs {{1 hit}} 18:19:04 Marking 1 hits 18:19:04 tkerror: syntax error in expression \"int ...  Note  if I run the pick command by hand ...  delta$ pick +inbox -list -lbrace -lbrace -subject ftp -rbrace -rbrace  4852-4852 -sequence mercury 1 hit  That's where the \"1 hit\" comes from (obviously).  The version of nmh I'm using is ...  delta$ pick -version pick -- nmh-1.0.4 [compiled on fuchsia.cs.mu.OZ.AU at Sun Mar 17 14:55:56 ICT 2002]  And the relevant part of my .mh_profile ...  delta$ mhparam pick -seq sel -list   Since the pick command works  the sequence (actually  both of them  the one that's explicit on the command line  from the search popup  and the one that comes from .mh_profile) do get created.  kre  ps: this is still using the version of the code form a day ago  I haven't been able to reach the cvs repository today (local routing issue I think).    _______________________________________________ Exmh-workers mailing list Exmh-workers@redhat.com https://listman.redhat.com/mailman/listinfo/exmh-workers\n",
      "********************************************************\n",
      "********************************************************\n",
      "From Steve_Burt@cursor-system.com  Thu Aug 22 12:46:39 2002 Return-Path: <Steve_Burt@cursor-system.com> Delivered-To: zzzz@localhost.netnoteinc.com Received: from localhost (localhost [127.0.0.1]) \tby phobos.labs.netnoteinc.com (Postfix) with ESMTP id BE12E43C34 \tfor <zzzz@localhost>; Thu  22 Aug 2002 07:46:38 -0400 (EDT) Received: from phobos [127.0.0.1] \tby localhost with IMAP (fetchmail-5.9.0) \tfor zzzz@localhost (single-drop); Thu  22 Aug 2002 12:46:38 +0100 (IST) Received: from n20.grp.scd.yahoo.com (n20.grp.scd.yahoo.com     [66.218.66.76]) by dogma.slashnull.org (8.11.6/8.11.6) with SMTP id     g7MBkTZ05087 for <zzzz@example.com>; Thu  22 Aug 2002 12:46:29 +0100 X-Egroups-Return: sentto-2242572-52726-1030016790-zzzz=example.com@returns.groups.yahoo.com Received: from [66.218.67.196] by n20.grp.scd.yahoo.com with NNFMP;     22 Aug 2002 11:46:30 -0000 X-Sender: steve.burt@cursor-system.com X-Apparently-To: zzzzteana@yahoogroups.com Received: (EGP: mail-8_1_0_1); 22 Aug 2002 11:46:29 -0000 Received: (qmail 11764 invoked from network); 22 Aug 2002 11:46:29 -0000 Received: from unknown (66.218.66.217) by m3.grp.scd.yahoo.com with QMQP;     22 Aug 2002 11:46:29 -0000 Received: from unknown (HELO mailgateway.cursor-system.com) (62.189.7.27)     by mta2.grp.scd.yahoo.com with SMTP; 22 Aug 2002 11:46:29 -0000 Received: from exchange1.cps.local (unverified) by     mailgateway.cursor-system.com (Content Technologies SMTPRS 4.2.10) with     ESMTP id <T5cde81f695ac1d100407d@mailgateway.cursor-system.com> for     <forteana@yahoogroups.com>; Thu  22 Aug 2002 13:14:10 +0100 Received: by exchange1.cps.local with Internet Mail Service (5.5.2653.19)     id <PXX6AT23>; Thu  22 Aug 2002 12:46:27 +0100 Message-Id: <5EC2AD6D2314D14FB64BDA287D25D9EF12B4F6@exchange1.cps.local> To: \"'zzzzteana@yahoogroups.com'\" <zzzzteana@yahoogroups.com> X-Mailer: Internet Mail Service (5.5.2653.19) X-Egroups-From: Steve Burt <steve.burt@cursor-system.com> From: Steve Burt <Steve_Burt@cursor-system.com> X-Yahoo-Profile: pyruse MIME-Version: 1.0 Mailing-List: list zzzzteana@yahoogroups.com; contact     forteana-owner@yahoogroups.com Delivered-To: mailing list zzzzteana@yahoogroups.com Precedence: bulk List-Unsubscribe: <mailto:zzzzteana-unsubscribe@yahoogroups.com> Date: Thu  22 Aug 2002 12:46:18 +0100 Subject: [zzzzteana] RE: Alexander Reply-To: zzzzteana@yahoogroups.com Content-Type: text/plain; charset=US-ASCII Content-Transfer-Encoding: 7bit  Martin A posted: Tassos Papadopoulos  the Greek sculptor behind the plan  judged that the  limestone of Mount Kerdylio  70 miles east of Salonika and not far from the  Mount Athos monastic community  was ideal for the patriotic sculpture.     As well as Alexander's granite features  240 ft high and 170 ft wide  a  museum  a restored amphitheatre and car park for admiring crowds are planned --------------------- So is this mountain limestone or granite? If it's limestone  it'll weather pretty fast.  ------------------------ Yahoo! Groups Sponsor ---------------------~--> 4 DVDs Free +s&p Join Now http://us.click.yahoo.com/pt6YBB/NXiEAA/mG3HAA/7gSolB/TM ---------------------------------------------------------------------~->  To unsubscribe from this group  send an email to: forteana-unsubscribe@egroups.com     Your use of Yahoo! Groups is subject to http://docs.yahoo.com/info/terms/\n",
      "********************************************************\n",
      "********************************************************\n",
      "From timc@2ubh.com  Thu Aug 22 13:52:59 2002 Return-Path: <timc@2ubh.com> Delivered-To: zzzz@localhost.netnoteinc.com Received: from localhost (localhost [127.0.0.1]) \tby phobos.labs.netnoteinc.com (Postfix) with ESMTP id 0314547C66 \tfor <zzzz@localhost>; Thu  22 Aug 2002 08:52:58 -0400 (EDT) Received: from phobos [127.0.0.1] \tby localhost with IMAP (fetchmail-5.9.0) \tfor zzzz@localhost (single-drop); Thu  22 Aug 2002 13:52:59 +0100 (IST) Received: from n16.grp.scd.yahoo.com (n16.grp.scd.yahoo.com     [66.218.66.71]) by dogma.slashnull.org (8.11.6/8.11.6) with SMTP id     g7MCrdZ07070 for <zzzz@example.com>; Thu  22 Aug 2002 13:53:39 +0100 X-Egroups-Return: sentto-2242572-52733-1030020820-zzzz=example.com@returns.groups.yahoo.com Received: from [66.218.67.198] by n16.grp.scd.yahoo.com with NNFMP;     22 Aug 2002 12:53:40 -0000 X-Sender: timc@2ubh.com X-Apparently-To: zzzzteana@yahoogroups.com Received: (EGP: mail-8_1_0_1); 22 Aug 2002 12:53:39 -0000 Received: (qmail 76099 invoked from network); 22 Aug 2002 12:53:39 -0000 Received: from unknown (66.218.66.218) by m5.grp.scd.yahoo.com with QMQP;     22 Aug 2002 12:53:39 -0000 Received: from unknown (HELO rhenium.btinternet.com) (194.73.73.93) by     mta3.grp.scd.yahoo.com with SMTP; 22 Aug 2002 12:53:39 -0000 Received: from host217-36-23-185.in-addr.btopenworld.com ([217.36.23.185])     by rhenium.btinternet.com with esmtp (Exim 3.22 #8) id 17hrT0-0004gj-00     for forteana@yahoogroups.com; Thu  22 Aug 2002 13:53:38 +0100 X-Mailer: Microsoft Outlook Express Macintosh Edition - 4.5 (0410) To: zzzzteana <zzzzteana@yahoogroups.com> X-Priority: 3 Message-Id: <E17hrT0-0004gj-00@rhenium.btinternet.com> From: \"Tim Chapman\" <timc@2ubh.com> X-Yahoo-Profile: tim2ubh MIME-Version: 1.0 Mailing-List: list zzzzteana@yahoogroups.com; contact     forteana-owner@yahoogroups.com Delivered-To: mailing list zzzzteana@yahoogroups.com Precedence: bulk List-Unsubscribe: <mailto:zzzzteana-unsubscribe@yahoogroups.com> Date: Thu  22 Aug 2002 13:52:38 +0100 Subject: [zzzzteana] Moscow bomber Reply-To: zzzzteana@yahoogroups.com Content-Type: text/plain; charset=US-ASCII Content-Transfer-Encoding: 7bit  Man Threatens Explosion In Moscow   Thursday August 22  2002 1:40 PM MOSCOW (AP) - Security officers on Thursday seized an unidentified man who said he was armed with explosives and threatened to blow up his truck in front of Russia's Federal Security Services headquarters in Moscow  NTV television reported. The officers seized an automatic rifle the man was carrying  then the man got out of the truck and was taken into custody  NTV said. No other details were immediately available. The man had demanded talks with high government officials  the Interfax and ITAR-Tass news agencies said. Ekho Moskvy radio reported that he wanted to talk with Russian President Vladimir Putin. Police and security forces rushed to the Security Service building  within blocks of the Kremlin  Red Square and the Bolshoi Ballet  and surrounded the man  who claimed to have one and a half tons of explosives  the news agencies said. Negotiations continued for about one and a half hours outside the building  ITAR-Tass and Interfax reported  citing witnesses. The man later drove away from the building  under police escort  and drove to a street near Moscow's Olympic Penta Hotel  where authorities held further negotiations with him  the Moscow police press service said. The move appeared to be an attempt by security services to get him to a more secure location.   ------------------------ Yahoo! Groups Sponsor ---------------------~--> 4 DVDs Free +s&p Join Now http://us.click.yahoo.com/pt6YBB/NXiEAA/mG3HAA/7gSolB/TM ---------------------------------------------------------------------~->  To unsubscribe from this group  send an email to: forteana-unsubscribe@egroups.com     Your use of Yahoo! Groups is subject to http://docs.yahoo.com/info/terms/\n",
      "********************************************************\n"
     ]
    }
   ],
   "source": [
    "# Load ONLY ham emails\n",
    "emails_dataset_raw_ham =  load_emails_data(input_directory_non_spam)\n",
    "\n",
    "counter = 0\n",
    "for element in emails_dataset_raw_ham:\n",
    "    if counter < 3:\n",
    "        print(\"********************************************************\")\n",
    "        print(f\"{element}\")\n",
    "        print(\"********************************************************\")\n",
    "    else:\n",
    "        break;\n",
    "    counter = counter +1"
   ]
  },
  {
   "cell_type": "code",
   "execution_count": 44,
   "id": "f1a86674-2ca7-4b59-862b-43330b3aab32",
   "metadata": {},
   "outputs": [
    {
     "name": "stdout",
     "output_type": "stream",
     "text": [
      "********************************************************\n",
      "From exmh-workers-admin@redhat.com  Thu Aug 22 12:36:23 2002 Return-Path: <exmh-workers-admin@example.com> Delivered-To: zzzz@localhost.netnoteinc.com Received: from localhost (localhost [127.0.0.1]) \tby phobos.labs.netnoteinc.com (Postfix) with ESMTP id D03E543C36 \tfor <zzzz@localhost>; Thu  22 Aug 2002 07:36:16 -0400 (EDT) Received: from phobos [127.0.0.1] \tby localhost with IMAP (fetchmail-5.9.0) \tfor zzzz@localhost (single-drop); Thu  22 Aug 2002 12:36:16 +0100 (IST) Received: from listman.example.com (listman.example.com [66.187.233.211]) by     dogma.slashnull.org (8.11.6/8.11.6) with ESMTP id g7MBYrZ04811 for     <zzzz-exmh@example.com>; Thu  22 Aug 2002 12:34:53 +0100 Received: from listman.example.com (localhost.localdomain [127.0.0.1]) by     listman.redhat.com (Postfix) with ESMTP id 8386540858; Thu  22 Aug 2002     07:35:02 -0400 (EDT) Delivered-To: exmh-workers@listman.example.com Received: from int-mx1.corp.example.com (int-mx1.corp.example.com     [172.16.52.254]) by listman.redhat.com (Postfix) with ESMTP id 10CF8406D7     for <exmh-workers@listman.redhat.com>; Thu  22 Aug 2002 07:34:10 -0400     (EDT) Received: (from mail@localhost) by int-mx1.corp.example.com (8.11.6/8.11.6)     id g7MBY7g11259 for exmh-workers@listman.redhat.com; Thu  22 Aug 2002     07:34:07 -0400 Received: from mx1.example.com (mx1.example.com [172.16.48.31]) by     int-mx1.corp.redhat.com (8.11.6/8.11.6) with SMTP id g7MBY7Y11255 for     <exmh-workers@redhat.com>; Thu  22 Aug 2002 07:34:07 -0400 Received: from ratree.psu.ac.th ([202.28.97.6]) by mx1.example.com     (8.11.6/8.11.6) with SMTP id g7MBIhl25223 for <exmh-workers@redhat.com>;     Thu  22 Aug 2002 07:18:55 -0400 Received: from delta.cs.mu.OZ.AU (delta.coe.psu.ac.th [172.30.0.98]) by     ratree.psu.ac.th (8.11.6/8.11.6) with ESMTP id g7MBWel29762;     Thu  22 Aug 2002 18:32:40 +0700 (ICT) Received: from munnari.OZ.AU (localhost [127.0.0.1]) by delta.cs.mu.OZ.AU     (8.11.6/8.11.6) with ESMTP id g7MBQPW13260; Thu  22 Aug 2002 18:26:25     +0700 (ICT) From: Robert Elz <kre@munnari.OZ.AU> To: Chris Garrigues <cwg-dated-1030377287.06fa6d@DeepEddy.Com> Cc: exmh-workers@example.com Subject: Re: New Sequences Window In-Reply-To: <1029945287.4797.TMDA@deepeddy.vircio.com> References: <1029945287.4797.TMDA@deepeddy.vircio.com>     <1029882468.3116.TMDA@deepeddy.vircio.com> <9627.1029933001@munnari.OZ.AU>     <1029943066.26919.TMDA@deepeddy.vircio.com>     <1029944441.398.TMDA@deepeddy.vircio.com> MIME-Version: 1.0 Content-Type: text/plain; charset=us-ascii Message-Id: <13258.1030015585@munnari.OZ.AU> X-Loop: exmh-workers@example.com Sender: exmh-workers-admin@example.com Errors-To: exmh-workers-admin@example.com X-Beenthere: exmh-workers@example.com X-Mailman-Version: 2.0.1 Precedence: bulk List-Help: <mailto:exmh-workers-request@example.com?subject=help> List-Post: <mailto:exmh-workers@example.com> List-Subscribe: <https://listman.example.com/mailman/listinfo/exmh-workers>      <mailto:exmh-workers-request@redhat.com?subject=subscribe> List-Id: Discussion list for EXMH developers <exmh-workers.example.com> List-Unsubscribe: <https://listman.example.com/mailman/listinfo/exmh-workers>      <mailto:exmh-workers-request@redhat.com?subject=unsubscribe> List-Archive: <https://listman.example.com/mailman/private/exmh-workers/> Date: Thu  22 Aug 2002 18:26:25 +0700      Date:        Wed  21 Aug 2002 10:54:46 -0500     From:        Chris Garrigues <cwg-dated-1030377287.06fa6d@DeepEddy.Com>     Message-ID:  <1029945287.4797.TMDA@deepeddy.vircio.com>     | I can't reproduce this error.  For me it is very repeatable... (like every time  without fail).  This is the debug log of the pick happening ...  18:19:03 Pick_It {exec pick +inbox -list -lbrace -lbrace -subject ftp -rbrace -rbrace} {4852-4852 -sequence mercury} 18:19:03 exec pick +inbox -list -lbrace -lbrace -subject ftp -rbrace -rbrace 4852-4852 -sequence mercury 18:19:04 Ftoc_PickMsgs {{1 hit}} 18:19:04 Marking 1 hits 18:19:04 tkerror: syntax error in expression \"int ...  Note  if I run the pick command by hand ...  delta$ pick +inbox -list -lbrace -lbrace -subject ftp -rbrace -rbrace  4852-4852 -sequence mercury 1 hit  That's where the \"1 hit\" comes from (obviously).  The version of nmh I'm using is ...  delta$ pick -version pick -- nmh-1.0.4 [compiled on fuchsia.cs.mu.OZ.AU at Sun Mar 17 14:55:56 ICT 2002]  And the relevant part of my .mh_profile ...  delta$ mhparam pick -seq sel -list   Since the pick command works  the sequence (actually  both of them  the one that's explicit on the command line  from the search popup  and the one that comes from .mh_profile) do get created.  kre  ps: this is still using the version of the code form a day ago  I haven't been able to reach the cvs repository today (local routing issue I think).    _______________________________________________ Exmh-workers mailing list Exmh-workers@redhat.com https://listman.redhat.com/mailman/listinfo/exmh-workers\n",
      "********************************************************\n",
      "********************************************************\n",
      "From Steve_Burt@cursor-system.com  Thu Aug 22 12:46:39 2002 Return-Path: <Steve_Burt@cursor-system.com> Delivered-To: zzzz@localhost.netnoteinc.com Received: from localhost (localhost [127.0.0.1]) \tby phobos.labs.netnoteinc.com (Postfix) with ESMTP id BE12E43C34 \tfor <zzzz@localhost>; Thu  22 Aug 2002 07:46:38 -0400 (EDT) Received: from phobos [127.0.0.1] \tby localhost with IMAP (fetchmail-5.9.0) \tfor zzzz@localhost (single-drop); Thu  22 Aug 2002 12:46:38 +0100 (IST) Received: from n20.grp.scd.yahoo.com (n20.grp.scd.yahoo.com     [66.218.66.76]) by dogma.slashnull.org (8.11.6/8.11.6) with SMTP id     g7MBkTZ05087 for <zzzz@example.com>; Thu  22 Aug 2002 12:46:29 +0100 X-Egroups-Return: sentto-2242572-52726-1030016790-zzzz=example.com@returns.groups.yahoo.com Received: from [66.218.67.196] by n20.grp.scd.yahoo.com with NNFMP;     22 Aug 2002 11:46:30 -0000 X-Sender: steve.burt@cursor-system.com X-Apparently-To: zzzzteana@yahoogroups.com Received: (EGP: mail-8_1_0_1); 22 Aug 2002 11:46:29 -0000 Received: (qmail 11764 invoked from network); 22 Aug 2002 11:46:29 -0000 Received: from unknown (66.218.66.217) by m3.grp.scd.yahoo.com with QMQP;     22 Aug 2002 11:46:29 -0000 Received: from unknown (HELO mailgateway.cursor-system.com) (62.189.7.27)     by mta2.grp.scd.yahoo.com with SMTP; 22 Aug 2002 11:46:29 -0000 Received: from exchange1.cps.local (unverified) by     mailgateway.cursor-system.com (Content Technologies SMTPRS 4.2.10) with     ESMTP id <T5cde81f695ac1d100407d@mailgateway.cursor-system.com> for     <forteana@yahoogroups.com>; Thu  22 Aug 2002 13:14:10 +0100 Received: by exchange1.cps.local with Internet Mail Service (5.5.2653.19)     id <PXX6AT23>; Thu  22 Aug 2002 12:46:27 +0100 Message-Id: <5EC2AD6D2314D14FB64BDA287D25D9EF12B4F6@exchange1.cps.local> To: \"'zzzzteana@yahoogroups.com'\" <zzzzteana@yahoogroups.com> X-Mailer: Internet Mail Service (5.5.2653.19) X-Egroups-From: Steve Burt <steve.burt@cursor-system.com> From: Steve Burt <Steve_Burt@cursor-system.com> X-Yahoo-Profile: pyruse MIME-Version: 1.0 Mailing-List: list zzzzteana@yahoogroups.com; contact     forteana-owner@yahoogroups.com Delivered-To: mailing list zzzzteana@yahoogroups.com Precedence: bulk List-Unsubscribe: <mailto:zzzzteana-unsubscribe@yahoogroups.com> Date: Thu  22 Aug 2002 12:46:18 +0100 Subject: [zzzzteana] RE: Alexander Reply-To: zzzzteana@yahoogroups.com Content-Type: text/plain; charset=US-ASCII Content-Transfer-Encoding: 7bit  Martin A posted: Tassos Papadopoulos  the Greek sculptor behind the plan  judged that the  limestone of Mount Kerdylio  70 miles east of Salonika and not far from the  Mount Athos monastic community  was ideal for the patriotic sculpture.     As well as Alexander's granite features  240 ft high and 170 ft wide  a  museum  a restored amphitheatre and car park for admiring crowds are planned --------------------- So is this mountain limestone or granite? If it's limestone  it'll weather pretty fast.  ------------------------ Yahoo! Groups Sponsor ---------------------~--> 4 DVDs Free +s&p Join Now http://us.click.yahoo.com/pt6YBB/NXiEAA/mG3HAA/7gSolB/TM ---------------------------------------------------------------------~->  To unsubscribe from this group  send an email to: forteana-unsubscribe@egroups.com     Your use of Yahoo! Groups is subject to http://docs.yahoo.com/info/terms/\n",
      "********************************************************\n",
      "********************************************************\n",
      "From timc@2ubh.com  Thu Aug 22 13:52:59 2002 Return-Path: <timc@2ubh.com> Delivered-To: zzzz@localhost.netnoteinc.com Received: from localhost (localhost [127.0.0.1]) \tby phobos.labs.netnoteinc.com (Postfix) with ESMTP id 0314547C66 \tfor <zzzz@localhost>; Thu  22 Aug 2002 08:52:58 -0400 (EDT) Received: from phobos [127.0.0.1] \tby localhost with IMAP (fetchmail-5.9.0) \tfor zzzz@localhost (single-drop); Thu  22 Aug 2002 13:52:59 +0100 (IST) Received: from n16.grp.scd.yahoo.com (n16.grp.scd.yahoo.com     [66.218.66.71]) by dogma.slashnull.org (8.11.6/8.11.6) with SMTP id     g7MCrdZ07070 for <zzzz@example.com>; Thu  22 Aug 2002 13:53:39 +0100 X-Egroups-Return: sentto-2242572-52733-1030020820-zzzz=example.com@returns.groups.yahoo.com Received: from [66.218.67.198] by n16.grp.scd.yahoo.com with NNFMP;     22 Aug 2002 12:53:40 -0000 X-Sender: timc@2ubh.com X-Apparently-To: zzzzteana@yahoogroups.com Received: (EGP: mail-8_1_0_1); 22 Aug 2002 12:53:39 -0000 Received: (qmail 76099 invoked from network); 22 Aug 2002 12:53:39 -0000 Received: from unknown (66.218.66.218) by m5.grp.scd.yahoo.com with QMQP;     22 Aug 2002 12:53:39 -0000 Received: from unknown (HELO rhenium.btinternet.com) (194.73.73.93) by     mta3.grp.scd.yahoo.com with SMTP; 22 Aug 2002 12:53:39 -0000 Received: from host217-36-23-185.in-addr.btopenworld.com ([217.36.23.185])     by rhenium.btinternet.com with esmtp (Exim 3.22 #8) id 17hrT0-0004gj-00     for forteana@yahoogroups.com; Thu  22 Aug 2002 13:53:38 +0100 X-Mailer: Microsoft Outlook Express Macintosh Edition - 4.5 (0410) To: zzzzteana <zzzzteana@yahoogroups.com> X-Priority: 3 Message-Id: <E17hrT0-0004gj-00@rhenium.btinternet.com> From: \"Tim Chapman\" <timc@2ubh.com> X-Yahoo-Profile: tim2ubh MIME-Version: 1.0 Mailing-List: list zzzzteana@yahoogroups.com; contact     forteana-owner@yahoogroups.com Delivered-To: mailing list zzzzteana@yahoogroups.com Precedence: bulk List-Unsubscribe: <mailto:zzzzteana-unsubscribe@yahoogroups.com> Date: Thu  22 Aug 2002 13:52:38 +0100 Subject: [zzzzteana] Moscow bomber Reply-To: zzzzteana@yahoogroups.com Content-Type: text/plain; charset=US-ASCII Content-Transfer-Encoding: 7bit  Man Threatens Explosion In Moscow   Thursday August 22  2002 1:40 PM MOSCOW (AP) - Security officers on Thursday seized an unidentified man who said he was armed with explosives and threatened to blow up his truck in front of Russia's Federal Security Services headquarters in Moscow  NTV television reported. The officers seized an automatic rifle the man was carrying  then the man got out of the truck and was taken into custody  NTV said. No other details were immediately available. The man had demanded talks with high government officials  the Interfax and ITAR-Tass news agencies said. Ekho Moskvy radio reported that he wanted to talk with Russian President Vladimir Putin. Police and security forces rushed to the Security Service building  within blocks of the Kremlin  Red Square and the Bolshoi Ballet  and surrounded the man  who claimed to have one and a half tons of explosives  the news agencies said. Negotiations continued for about one and a half hours outside the building  ITAR-Tass and Interfax reported  citing witnesses. The man later drove away from the building  under police escort  and drove to a street near Moscow's Olympic Penta Hotel  where authorities held further negotiations with him  the Moscow police press service said. The move appeared to be an attempt by security services to get him to a more secure location.   ------------------------ Yahoo! Groups Sponsor ---------------------~--> 4 DVDs Free +s&p Join Now http://us.click.yahoo.com/pt6YBB/NXiEAA/mG3HAA/7gSolB/TM ---------------------------------------------------------------------~->  To unsubscribe from this group  send an email to: forteana-unsubscribe@egroups.com     Your use of Yahoo! Groups is subject to http://docs.yahoo.com/info/terms/\n",
      "********************************************************\n"
     ]
    }
   ],
   "source": [
    "# Load ONLY spam emails\n",
    "emails_dataset_raw_spam =  load_emails_data(input_directory_spam)\n",
    "\n",
    "counter = 0\n",
    "for element in emails_dataset_raw_ham:\n",
    "    if counter < 3:\n",
    "        print(\"********************************************************\")\n",
    "        print(f\"{element}\")\n",
    "        print(\"********************************************************\")\n",
    "    else:\n",
    "        break;\n",
    "    counter = counter +1"
   ]
  },
  {
   "cell_type": "code",
   "execution_count": 45,
   "id": "30d20e23-6076-4e52-910f-ab208ab13a51",
   "metadata": {},
   "outputs": [],
   "source": [
    "# Data are loaded and divided to HAM and SPAM\n",
    "# SPAM : emails_dataset_raw_spam \n",
    "# HAM : emails_dataset_raw_ham\n",
    "\n"
   ]
  },
  {
   "cell_type": "code",
   "execution_count": 46,
   "id": "5eeb6da2-8db2-45ae-9e5f-d590de9fbcd0",
   "metadata": {},
   "outputs": [],
   "source": [
    "# Step I : Data collection and data pre processing.\n",
    "#     * Clean data\n",
    "\n"
   ]
  },
  {
   "cell_type": "code",
   "execution_count": 47,
   "id": "232b0037-359b-40cd-9428-38ed8e4ddb25",
   "metadata": {},
   "outputs": [],
   "source": [
    "# extracting pure email body - cleaning the data\n",
    "def extract_pure_email(raw_emails):\n",
    "    key_word = 'Date:'\n",
    "    cleaned_email = []\n",
    "    for email in raw_emails:\n",
    "        # Find the line with \"Subject:\" and extract everything from that line onward\n",
    "        subject_start = re.search(key_word, email, re.MULTILINE)\n",
    "        if subject_start:\n",
    "            extracted_content = email[subject_start.start():]\n",
    "            cleaned_email.append(extracted_content)\n",
    "    return cleaned_email"
   ]
  },
  {
   "cell_type": "code",
   "execution_count": 48,
   "id": "e2910a9a-ebf0-4b63-be54-8fc94e3ad96e",
   "metadata": {},
   "outputs": [
    {
     "name": "stdout",
     "output_type": "stream",
     "text": [
      "********************************************************\n",
      "Date: Thu  22 Aug 2002 18:26:25 +0700      Date:        Wed  21 Aug 2002 10:54:46 -0500     From:        Chris Garrigues <cwg-dated-1030377287.06fa6d@DeepEddy.Com>     Message-ID:  <1029945287.4797.TMDA@deepeddy.vircio.com>     | I can't reproduce this error.  For me it is very repeatable... (like every time  without fail).  This is the debug log of the pick happening ...  18:19:03 Pick_It {exec pick +inbox -list -lbrace -lbrace -subject ftp -rbrace -rbrace} {4852-4852 -sequence mercury} 18:19:03 exec pick +inbox -list -lbrace -lbrace -subject ftp -rbrace -rbrace 4852-4852 -sequence mercury 18:19:04 Ftoc_PickMsgs {{1 hit}} 18:19:04 Marking 1 hits 18:19:04 tkerror: syntax error in expression \"int ...  Note  if I run the pick command by hand ...  delta$ pick +inbox -list -lbrace -lbrace -subject ftp -rbrace -rbrace  4852-4852 -sequence mercury 1 hit  That's where the \"1 hit\" comes from (obviously).  The version of nmh I'm using is ...  delta$ pick -version pick -- nmh-1.0.4 [compiled on fuchsia.cs.mu.OZ.AU at Sun Mar 17 14:55:56 ICT 2002]  And the relevant part of my .mh_profile ...  delta$ mhparam pick -seq sel -list   Since the pick command works  the sequence (actually  both of them  the one that's explicit on the command line  from the search popup  and the one that comes from .mh_profile) do get created.  kre  ps: this is still using the version of the code form a day ago  I haven't been able to reach the cvs repository today (local routing issue I think).    _______________________________________________ Exmh-workers mailing list Exmh-workers@redhat.com https://listman.redhat.com/mailman/listinfo/exmh-workers\n",
      "********************************************************\n",
      "********************************************************\n",
      "Date: Thu  22 Aug 2002 12:46:18 +0100 Subject: [zzzzteana] RE: Alexander Reply-To: zzzzteana@yahoogroups.com Content-Type: text/plain; charset=US-ASCII Content-Transfer-Encoding: 7bit  Martin A posted: Tassos Papadopoulos  the Greek sculptor behind the plan  judged that the  limestone of Mount Kerdylio  70 miles east of Salonika and not far from the  Mount Athos monastic community  was ideal for the patriotic sculpture.     As well as Alexander's granite features  240 ft high and 170 ft wide  a  museum  a restored amphitheatre and car park for admiring crowds are planned --------------------- So is this mountain limestone or granite? If it's limestone  it'll weather pretty fast.  ------------------------ Yahoo! Groups Sponsor ---------------------~--> 4 DVDs Free +s&p Join Now http://us.click.yahoo.com/pt6YBB/NXiEAA/mG3HAA/7gSolB/TM ---------------------------------------------------------------------~->  To unsubscribe from this group  send an email to: forteana-unsubscribe@egroups.com     Your use of Yahoo! Groups is subject to http://docs.yahoo.com/info/terms/\n",
      "********************************************************\n",
      "********************************************************\n",
      "Date: Thu  22 Aug 2002 13:52:38 +0100 Subject: [zzzzteana] Moscow bomber Reply-To: zzzzteana@yahoogroups.com Content-Type: text/plain; charset=US-ASCII Content-Transfer-Encoding: 7bit  Man Threatens Explosion In Moscow   Thursday August 22  2002 1:40 PM MOSCOW (AP) - Security officers on Thursday seized an unidentified man who said he was armed with explosives and threatened to blow up his truck in front of Russia's Federal Security Services headquarters in Moscow  NTV television reported. The officers seized an automatic rifle the man was carrying  then the man got out of the truck and was taken into custody  NTV said. No other details were immediately available. The man had demanded talks with high government officials  the Interfax and ITAR-Tass news agencies said. Ekho Moskvy radio reported that he wanted to talk with Russian President Vladimir Putin. Police and security forces rushed to the Security Service building  within blocks of the Kremlin  Red Square and the Bolshoi Ballet  and surrounded the man  who claimed to have one and a half tons of explosives  the news agencies said. Negotiations continued for about one and a half hours outside the building  ITAR-Tass and Interfax reported  citing witnesses. The man later drove away from the building  under police escort  and drove to a street near Moscow's Olympic Penta Hotel  where authorities held further negotiations with him  the Moscow police press service said. The move appeared to be an attempt by security services to get him to a more secure location.   ------------------------ Yahoo! Groups Sponsor ---------------------~--> 4 DVDs Free +s&p Join Now http://us.click.yahoo.com/pt6YBB/NXiEAA/mG3HAA/7gSolB/TM ---------------------------------------------------------------------~->  To unsubscribe from this group  send an email to: forteana-unsubscribe@egroups.com     Your use of Yahoo! Groups is subject to http://docs.yahoo.com/info/terms/\n",
      "********************************************************\n"
     ]
    }
   ],
   "source": [
    "cleaned_ham_dataset = extract_pure_email(emails_dataset_raw_ham)\n",
    "\n",
    "counter = 0\n",
    "for element in cleaned_ham_dataset:\n",
    "    if counter < 3:\n",
    "        print(\"********************************************************\")\n",
    "        print(f\"{element}\")\n",
    "        print(\"********************************************************\")\n",
    "    else:\n",
    "        break;\n",
    "    counter = counter +1"
   ]
  },
  {
   "cell_type": "code",
   "execution_count": 49,
   "id": "1d87399d-12ed-4f0b-beaa-b971d56a9a0f",
   "metadata": {},
   "outputs": [
    {
     "name": "stdout",
     "output_type": "stream",
     "text": [
      "********************************************************\n",
      "Date: Thu  22 Aug 2002 18:26:25 +0700      Date:        Wed  21 Aug 2002 10:54:46 -0500     From:        Chris Garrigues <cwg-dated-1030377287.06fa6d@DeepEddy.Com>     Message-ID:  <1029945287.4797.TMDA@deepeddy.vircio.com>     | I can't reproduce this error.  For me it is very repeatable... (like every time  without fail).  This is the debug log of the pick happening ...  18:19:03 Pick_It {exec pick +inbox -list -lbrace -lbrace -subject ftp -rbrace -rbrace} {4852-4852 -sequence mercury} 18:19:03 exec pick +inbox -list -lbrace -lbrace -subject ftp -rbrace -rbrace 4852-4852 -sequence mercury 18:19:04 Ftoc_PickMsgs {{1 hit}} 18:19:04 Marking 1 hits 18:19:04 tkerror: syntax error in expression \"int ...  Note  if I run the pick command by hand ...  delta$ pick +inbox -list -lbrace -lbrace -subject ftp -rbrace -rbrace  4852-4852 -sequence mercury 1 hit  That's where the \"1 hit\" comes from (obviously).  The version of nmh I'm using is ...  delta$ pick -version pick -- nmh-1.0.4 [compiled on fuchsia.cs.mu.OZ.AU at Sun Mar 17 14:55:56 ICT 2002]  And the relevant part of my .mh_profile ...  delta$ mhparam pick -seq sel -list   Since the pick command works  the sequence (actually  both of them  the one that's explicit on the command line  from the search popup  and the one that comes from .mh_profile) do get created.  kre  ps: this is still using the version of the code form a day ago  I haven't been able to reach the cvs repository today (local routing issue I think).    _______________________________________________ Exmh-workers mailing list Exmh-workers@redhat.com https://listman.redhat.com/mailman/listinfo/exmh-workers\n",
      "********************************************************\n",
      "********************************************************\n",
      "Date: Thu  22 Aug 2002 12:46:18 +0100 Subject: [zzzzteana] RE: Alexander Reply-To: zzzzteana@yahoogroups.com Content-Type: text/plain; charset=US-ASCII Content-Transfer-Encoding: 7bit  Martin A posted: Tassos Papadopoulos  the Greek sculptor behind the plan  judged that the  limestone of Mount Kerdylio  70 miles east of Salonika and not far from the  Mount Athos monastic community  was ideal for the patriotic sculpture.     As well as Alexander's granite features  240 ft high and 170 ft wide  a  museum  a restored amphitheatre and car park for admiring crowds are planned --------------------- So is this mountain limestone or granite? If it's limestone  it'll weather pretty fast.  ------------------------ Yahoo! Groups Sponsor ---------------------~--> 4 DVDs Free +s&p Join Now http://us.click.yahoo.com/pt6YBB/NXiEAA/mG3HAA/7gSolB/TM ---------------------------------------------------------------------~->  To unsubscribe from this group  send an email to: forteana-unsubscribe@egroups.com     Your use of Yahoo! Groups is subject to http://docs.yahoo.com/info/terms/\n",
      "********************************************************\n",
      "********************************************************\n",
      "Date: Thu  22 Aug 2002 13:52:38 +0100 Subject: [zzzzteana] Moscow bomber Reply-To: zzzzteana@yahoogroups.com Content-Type: text/plain; charset=US-ASCII Content-Transfer-Encoding: 7bit  Man Threatens Explosion In Moscow   Thursday August 22  2002 1:40 PM MOSCOW (AP) - Security officers on Thursday seized an unidentified man who said he was armed with explosives and threatened to blow up his truck in front of Russia's Federal Security Services headquarters in Moscow  NTV television reported. The officers seized an automatic rifle the man was carrying  then the man got out of the truck and was taken into custody  NTV said. No other details were immediately available. The man had demanded talks with high government officials  the Interfax and ITAR-Tass news agencies said. Ekho Moskvy radio reported that he wanted to talk with Russian President Vladimir Putin. Police and security forces rushed to the Security Service building  within blocks of the Kremlin  Red Square and the Bolshoi Ballet  and surrounded the man  who claimed to have one and a half tons of explosives  the news agencies said. Negotiations continued for about one and a half hours outside the building  ITAR-Tass and Interfax reported  citing witnesses. The man later drove away from the building  under police escort  and drove to a street near Moscow's Olympic Penta Hotel  where authorities held further negotiations with him  the Moscow police press service said. The move appeared to be an attempt by security services to get him to a more secure location.   ------------------------ Yahoo! Groups Sponsor ---------------------~--> 4 DVDs Free +s&p Join Now http://us.click.yahoo.com/pt6YBB/NXiEAA/mG3HAA/7gSolB/TM ---------------------------------------------------------------------~->  To unsubscribe from this group  send an email to: forteana-unsubscribe@egroups.com     Your use of Yahoo! Groups is subject to http://docs.yahoo.com/info/terms/\n",
      "********************************************************\n"
     ]
    }
   ],
   "source": [
    "cleaned_spam_dataset = extract_pure_email(emails_dataset_raw_spam)\n",
    "\n",
    "counter = 0\n",
    "for element in cleaned_ham_dataset:\n",
    "    if counter < 3:\n",
    "        print(\"********************************************************\")\n",
    "        print(f\"{element}\")\n",
    "        print(\"********************************************************\")\n",
    "    else:\n",
    "        break;\n",
    "    counter = counter +1"
   ]
  },
  {
   "cell_type": "code",
   "execution_count": 50,
   "id": "9ebd750a-0c4e-4333-a009-1b55b085f5bc",
   "metadata": {},
   "outputs": [
    {
     "name": "stdout",
     "output_type": "stream",
     "text": [
      "Spam dataset emails quantity: 500\n",
      "Spam dataset emails quantity: 2551\n"
     ]
    }
   ],
   "source": [
    "# checking dataset - how many raws in each HAM / SPAM dataset.\n",
    "spam_emails_quantity = len(cleaned_spam_dataset)\n",
    "ham_emails_quantity = len(cleaned_ham_dataset)\n",
    "print(f\"Spam dataset emails quantity: {spam_emails_quantity}\")\n",
    "print(f\"Spam dataset emails quantity: {ham_emails_quantity}\")\n"
   ]
  },
  {
   "cell_type": "code",
   "execution_count": 51,
   "id": "7e357b5c-f7b0-4c3a-9bce-8009b61a699a",
   "metadata": {},
   "outputs": [],
   "source": [
    "# Data are cleaned and divided to HAM and SPAM\n",
    "# SPAM : cleaned_spam_dataset\n",
    "# HAM : cleaned_ham_dataset\n",
    "\n",
    "\n"
   ]
  },
  {
   "cell_type": "code",
   "execution_count": 52,
   "id": "420b48ba-d88a-4ea4-8883-622db78a0322",
   "metadata": {},
   "outputs": [],
   "source": [
    "# Step I : Data collection and data pre processing.\n",
    "#     * Lebel the data\n",
    "\n"
   ]
  },
  {
   "cell_type": "code",
   "execution_count": 53,
   "id": "deffe025-397a-403f-af90-8e16059df630",
   "metadata": {},
   "outputs": [],
   "source": [
    "# Labeling the data\n",
    "def label_dataset(dataset, label):\n",
    "    labeled_dataset = []\n",
    "    \n",
    "    for email in dataset:\n",
    "        labeled_dataset.append([email, label])\n",
    "    return labeled_dataset"
   ]
  },
  {
   "cell_type": "code",
   "execution_count": 54,
   "id": "eeaf71bc-1260-43af-bd39-8281c60c9f02",
   "metadata": {},
   "outputs": [],
   "source": [
    "spam_dataset = label_dataset(cleaned_spam_dataset, 1)\n",
    "ham_dataset = label_dataset(cleaned_ham_dataset, 0)"
   ]
  },
  {
   "cell_type": "code",
   "execution_count": 55,
   "id": "dc8710d8-80e8-4c58-9721-7be588f69172",
   "metadata": {},
   "outputs": [
    {
     "name": "stdout",
     "output_type": "stream",
     "text": [
      "Spam dataset emails quantity: 500\n",
      "Spam dataset emails quantity: 2551\n"
     ]
    }
   ],
   "source": [
    "# checking dataset - how many raws in each HAM / SPAM dataset.\n",
    "spam_emails_quantity = len(spam_dataset)\n",
    "ham_emails_quantity = len(ham_dataset)\n",
    "print(f\"Spam dataset emails quantity: {spam_emails_quantity}\")\n",
    "print(f\"Spam dataset emails quantity: {ham_emails_quantity}\")"
   ]
  },
  {
   "cell_type": "code",
   "execution_count": 56,
   "id": "1e44cc94-9339-4cef-9b43-6fedc4e3aef2",
   "metadata": {},
   "outputs": [
    {
     "name": "stdout",
     "output_type": "stream",
     "text": [
      "********************************************************\n",
      "['Date: Wed  21 Aug 2002 20:31:57 -1600 MIME-Version: 1.0 Message-ID: <0103c1042001882DD_IT7@dd_it7> Content-Type: text/html; charset=\"iso-8859-1\" Content-Transfer-Encoding: quoted-printable  <!DOCTYPE HTML PUBLIC \"-//W3C//DTD HTML 4.0 Transitional//EN\"> <HTML><HEAD> <META content=3D\"text/html; charset=3Dwindows-1252\" http-equiv=3DContent-T= ype> <META content=3D\"MSHTML 5.00.2314.1000\" name=3DGENERATOR></HEAD> <BODY><!-- Inserted by Calypso --> <TABLE border=3D0 cellPadding=3D0 cellSpacing=3D2 id=3D_CalyPrintHeader_ r= ules=3Dnone  style=3D\"COLOR: black; DISPLAY: none\" width=3D\"100%\">   <TBODY>   <TR>     <TD colSpan=3D3>       <HR color=3Dblack noShade SIZE=3D1>     </TD></TR></TD></TR>   <TR>     <TD colSpan=3D3>       <HR color=3Dblack noShade SIZE=3D1>     </TD></TR></TBODY></TABLE><!-- End Calypso --><!-- Inserted by Calypso=  --><FONT  color=3D#000000 face=3DVERDANA ARIAL HELVETICA size=3D-2><BR></FONT></TD><= /TR></TABLE><!-- End Calypso --><FONT color=3D#ff0000  face=3D\"Copperplate Gothic Bold\" size=3D5 PTSIZE=3D\"10\"> <CENTER>Save up to 70% on Life Insurance.</CENTER></FONT><FONT color=3D#ff= 0000  face=3D\"Copperplate Gothic Bold\" size=3D5 PTSIZE=3D\"10\"> <CENTER>Why Spend More Than You Have To? <CENTER><FONT color=3D#ff0000 face=3D\"Copperplate Gothic Bold\" size=3D5 PT= SIZE=3D\"10\"> <CENTER>Life Quote Savings <CENTER> <P align=3Dleft></P> <P align=3Dleft></P></FONT></U></I></B><BR></FONT></U></B></U></I> <P></P> <CENTER> <TABLE border=3D0 borderColor=3D#111111 cellPadding=3D0 cellSpacing=3D0 wi= dth=3D650>   <TBODY></TBODY></TABLE> <TABLE border=3D0 borderColor=3D#111111 cellPadding=3D5 cellSpacing=3D0 wi= dth=3D650>   <TBODY>   <TR>     <TD colSpan=3D2 width=3D\"35%\"><B><FONT face=3DVerdana size=3D4>Ensurin= g your        family\\'s financial security is very important. Life Quote Savings ma= kes        buying life insurance simple and affordable. We Provide FREE Access = to The        Very Best Companies and The Lowest Rates.</FONT></B></TD></TR>   <TR>     <TD align=3Dmiddle vAlign=3Dtop width=3D\"18%\">       <TABLE borderColor=3D#111111 width=3D\"100%\">         <TBODY>         <TR>           <TD style=3D\"PADDING-LEFT: 5px; PADDING-RIGHT: 5px\" width=3D\"100= %\"><FONT              face=3DVerdana size=3D4><B>Life Quote Savings</B> is FAST  EAS= Y and              SAVES you money! Let us help you get started with the best val= ues in              the country on new coverage. You can SAVE hundreds or even tho= usands              of dollars by requesting a FREE quote from Lifequote Savings. = Our              service will take you less than 5 minutes to complete. Shop an= d              compare. SAVE up to 70% on all types of Life insurance!  </FONT></TD></TR>         <TR><BR><BR>           <TD height=3D50 style=3D\"PADDING-LEFT: 5px; PADDING-RIGHT: 5px\"            width=3D\"100%\">             <P align=3Dcenter><B><FONT face=3DVerdana size=3D5><A              href=3D\"http://website.e365.cc/savequote/\">Click Here For Your=               Free Quote!</A></FONT></B></P></TD>           <P><FONT face=3DVerdana size=3D4><STRONG>           <CENTER>Protecting your family is the best investment you\\'ll eve= r            make!<BR></B></TD></TR>         <TR><BR><BR></STRONG></FONT></TD></TR></TD></TR>         <TR></TR></TBODY></TABLE>       <P align=3Dleft><FONT face=3D\"Arial  Helvetica  sans-serif\" size=3D2= ></FONT></P>       <P></P>       <CENTER><BR><BR><BR>       <P></P>       <P align=3Dleft><BR></B><BR><BR><BR><BR></P>       <P align=3Dcenter><BR></P>       <P align=3Dleft><BR></B><BR><BR></FONT>If you are in receipt of this=  email        in error and/or wish to be removed from our list  <A        href=3D\"mailto:coins@btamail.net.cn\">PLEASE CLICK HERE</A> AND TYPE = REMOVE. If you        reside in any state which prohibits e-mail solicitations for insuran= ce         please disregard this        email.<BR></FONT><BR><BR><BR><BR><BR><BR><BR><BR><BR><BR><BR><BR><BR= ><BR><BR><BR></FONT></P></CENTER></CENTER></TR></TBODY></TABLE></CENTER></= CENTER></CENTER></CENTER></CENTER></BODY></HTML>', 1]\n",
      "********************************************************\n",
      "********************************************************\n",
      "['Date: Thu  22 Aug 2002 06:18:18 -0600 Message-Id: <59e6301c249d5$ffb7ea20$1606fea9@freeyankeedom.com> MIME-Version: 1.0 Content-Type: text/plain; charset=\"iso-8859-1\" Content-Transfer-Encoding: 7bit X-Mailer: Microsoft CDO for Windows 2000 Thread-Index: AcJJ1f+3FWdz11AmR6uWbmQN5gGxxw== Content-Class: urn:content-classes:message X-Mimeole: Produced By Microsoft MimeOLE V6.00.2462.0000 X-Originalarrivaltime: 22 Aug 2002 12:18:18.0699 (UTC) FILETIME=[FFB949B0:01C249D5] Subject: [ILUG] Guaranteed to lose 10-12 lbs in 30 days 10.206 Sender: ilug-admin@linux.ie Errors-To: ilug-admin@linux.ie X-Mailman-Version: 1.1 Precedence: bulk List-Id: Irish Linux Users\\' Group <ilug.linux.ie> X-Beenthere: ilug@linux.ie  1) Fight The Risk of Cancer! http://www.adclick.ws/p.cfm?o=315&s=pk007  2) Slim Down - Guaranteed to lose 10-12 lbs in 30 days http://www.adclick.ws/p.cfm?o=249&s=pk007  3) Get the Child Support You Deserve - Free Legal Advice http://www.adclick.ws/p.cfm?o=245&s=pk002  4) Join the Web\\'s Fastest Growing Singles Community http://www.adclick.ws/p.cfm?o=259&s=pk007  5) Start Your Private Photo Album Online! http://www.adclick.ws/p.cfm?o=283&s=pk007  Have a Wonderful Day  Offer Manager PrizeMama              If you wish to leave this list please use the link below. http://www.qves.com/trim/?ilug@linux.ie%7C17%7C114258   --  Irish Linux Users\\' Group: ilug@linux.ie http://www.linux.ie/mailman/listinfo/ilug for (un)subscription information. List maintainer: listmaster@linux.ie', 1]\n",
      "********************************************************\n",
      "********************************************************\n",
      "['Date: Thu  22 Aug 2002 07:36:19 -0600 Message-ID: <9a63c01c249e0$e5a9d610$1106fea9@freeyankeedom.com> MIME-Version: 1.0 Content-Type: text/plain; \\tcharset=\"iso-8859-1\" Content-Transfer-Encoding: 7bit X-Mailer: Microsoft CDO for Windows 2000 Thread-Index: AcJJ4OWpowGq7rdNSwCz5HE3x9ZZDQ== Content-Class: urn:content-classes:message X-MimeOLE: Produced By Microsoft MimeOLE V6.00.2462.0000 X-OriginalArrivalTime: 22 Aug 2002 13:36:20.0969 (UTC) FILETIME=[E692FD90:01C249E0]  1) Fight The Risk of Cancer! http://www.adclick.ws/p.cfm?o=315&s=pk007  2) Slim Down - Guaranteed to lose 10-12 lbs in 30 days http://www.adclick.ws/p.cfm?o=249&s=pk007  3) Get the Child Support You Deserve - Free Legal Advice http://www.adclick.ws/p.cfm?o=245&s=pk002  4) Join the Web\\'s Fastest Growing Singles Community http://www.adclick.ws/p.cfm?o=259&s=pk007  5) Start Your Private Photo Album Online! http://www.adclick.ws/p.cfm?o=283&s=pk007  Have a Wonderful Day  Offer Manager PrizeMama              If you wish to leave this list please use the link below. http://www.qves.com/trim/?zzzz@example.com%7C17%7C308417', 1]\n",
      "********************************************************\n"
     ]
    }
   ],
   "source": [
    "counter = 0\n",
    "for element in spam_dataset:\n",
    "    if counter < 3:\n",
    "        print(\"********************************************************\")\n",
    "        print(f\"{element}\")\n",
    "        print(\"********************************************************\")\n",
    "    else:\n",
    "        break;\n",
    "    counter = counter +1"
   ]
  },
  {
   "cell_type": "code",
   "execution_count": 57,
   "id": "224ff112-905a-4d2f-93a9-a37ab2eb17d9",
   "metadata": {},
   "outputs": [
    {
     "name": "stdout",
     "output_type": "stream",
     "text": [
      "********************************************************\n",
      "['Date: Thu  22 Aug 2002 18:26:25 +0700      Date:        Wed  21 Aug 2002 10:54:46 -0500     From:        Chris Garrigues <cwg-dated-1030377287.06fa6d@DeepEddy.Com>     Message-ID:  <1029945287.4797.TMDA@deepeddy.vircio.com>     | I can\\'t reproduce this error.  For me it is very repeatable... (like every time  without fail).  This is the debug log of the pick happening ...  18:19:03 Pick_It {exec pick +inbox -list -lbrace -lbrace -subject ftp -rbrace -rbrace} {4852-4852 -sequence mercury} 18:19:03 exec pick +inbox -list -lbrace -lbrace -subject ftp -rbrace -rbrace 4852-4852 -sequence mercury 18:19:04 Ftoc_PickMsgs {{1 hit}} 18:19:04 Marking 1 hits 18:19:04 tkerror: syntax error in expression \"int ...  Note  if I run the pick command by hand ...  delta$ pick +inbox -list -lbrace -lbrace -subject ftp -rbrace -rbrace  4852-4852 -sequence mercury 1 hit  That\\'s where the \"1 hit\" comes from (obviously).  The version of nmh I\\'m using is ...  delta$ pick -version pick -- nmh-1.0.4 [compiled on fuchsia.cs.mu.OZ.AU at Sun Mar 17 14:55:56 ICT 2002]  And the relevant part of my .mh_profile ...  delta$ mhparam pick -seq sel -list   Since the pick command works  the sequence (actually  both of them  the one that\\'s explicit on the command line  from the search popup  and the one that comes from .mh_profile) do get created.  kre  ps: this is still using the version of the code form a day ago  I haven\\'t been able to reach the cvs repository today (local routing issue I think).    _______________________________________________ Exmh-workers mailing list Exmh-workers@redhat.com https://listman.redhat.com/mailman/listinfo/exmh-workers', 0]\n",
      "********************************************************\n",
      "********************************************************\n",
      "[\"Date: Thu  22 Aug 2002 12:46:18 +0100 Subject: [zzzzteana] RE: Alexander Reply-To: zzzzteana@yahoogroups.com Content-Type: text/plain; charset=US-ASCII Content-Transfer-Encoding: 7bit  Martin A posted: Tassos Papadopoulos  the Greek sculptor behind the plan  judged that the  limestone of Mount Kerdylio  70 miles east of Salonika and not far from the  Mount Athos monastic community  was ideal for the patriotic sculpture.     As well as Alexander's granite features  240 ft high and 170 ft wide  a  museum  a restored amphitheatre and car park for admiring crowds are planned --------------------- So is this mountain limestone or granite? If it's limestone  it'll weather pretty fast.  ------------------------ Yahoo! Groups Sponsor ---------------------~--> 4 DVDs Free +s&p Join Now http://us.click.yahoo.com/pt6YBB/NXiEAA/mG3HAA/7gSolB/TM ---------------------------------------------------------------------~->  To unsubscribe from this group  send an email to: forteana-unsubscribe@egroups.com     Your use of Yahoo! Groups is subject to http://docs.yahoo.com/info/terms/\", 0]\n",
      "********************************************************\n",
      "********************************************************\n",
      "[\"Date: Thu  22 Aug 2002 13:52:38 +0100 Subject: [zzzzteana] Moscow bomber Reply-To: zzzzteana@yahoogroups.com Content-Type: text/plain; charset=US-ASCII Content-Transfer-Encoding: 7bit  Man Threatens Explosion In Moscow   Thursday August 22  2002 1:40 PM MOSCOW (AP) - Security officers on Thursday seized an unidentified man who said he was armed with explosives and threatened to blow up his truck in front of Russia's Federal Security Services headquarters in Moscow  NTV television reported. The officers seized an automatic rifle the man was carrying  then the man got out of the truck and was taken into custody  NTV said. No other details were immediately available. The man had demanded talks with high government officials  the Interfax and ITAR-Tass news agencies said. Ekho Moskvy radio reported that he wanted to talk with Russian President Vladimir Putin. Police and security forces rushed to the Security Service building  within blocks of the Kremlin  Red Square and the Bolshoi Ballet  and surrounded the man  who claimed to have one and a half tons of explosives  the news agencies said. Negotiations continued for about one and a half hours outside the building  ITAR-Tass and Interfax reported  citing witnesses. The man later drove away from the building  under police escort  and drove to a street near Moscow's Olympic Penta Hotel  where authorities held further negotiations with him  the Moscow police press service said. The move appeared to be an attempt by security services to get him to a more secure location.   ------------------------ Yahoo! Groups Sponsor ---------------------~--> 4 DVDs Free +s&p Join Now http://us.click.yahoo.com/pt6YBB/NXiEAA/mG3HAA/7gSolB/TM ---------------------------------------------------------------------~->  To unsubscribe from this group  send an email to: forteana-unsubscribe@egroups.com     Your use of Yahoo! Groups is subject to http://docs.yahoo.com/info/terms/\", 0]\n",
      "********************************************************\n"
     ]
    }
   ],
   "source": [
    "counter = 0\n",
    "for element in ham_dataset:\n",
    "    if counter < 3:\n",
    "        print(\"********************************************************\")\n",
    "        print(f\"{element}\")\n",
    "        print(\"********************************************************\")\n",
    "    else:\n",
    "        break;\n",
    "    counter = counter +1"
   ]
  },
  {
   "cell_type": "code",
   "execution_count": 58,
   "id": "206ebf73-fb79-48bc-9532-f5de06b0a4f1",
   "metadata": {},
   "outputs": [],
   "source": [
    "# Data are labeled\n",
    "# labeled SPAM : spam_dataset\n",
    "# labeled HAM : ham_dataset\n",
    "\n",
    "\n"
   ]
  },
  {
   "cell_type": "code",
   "execution_count": 59,
   "id": "5e1ff6b8-ab62-438e-be01-e6adc3152cfd",
   "metadata": {},
   "outputs": [],
   "source": [
    "# saving dataset for HAM and SPAM to csv file\n",
    "import csv\n",
    "\n",
    "def save_dataset_to_csv(dataset, filename):\n",
    "    '''\n",
    "    Save given dataset to csv file\n",
    "\n",
    "    Parameters:\n",
    "        dataset : string dataser\n",
    "        filename : string file name\n",
    "    '''\n",
    "    \n",
    "    with open(filename, 'w', newline='', encoding='utf-8') as csv_file:\n",
    "        writer = csv.writer(csv_file)\n",
    "        writer.writerow(['text', 'label'])  # Write header\n",
    "        writer.writerows(dataset)"
   ]
  },
  {
   "cell_type": "code",
   "execution_count": 60,
   "id": "cdc3293d-fc7b-413d-910c-376fa7eb33fc",
   "metadata": {},
   "outputs": [],
   "source": [
    "# Saving HAM\n",
    "save_dataset_to_csv(ham_dataset, 'ham_dataset.csv')\n",
    "# Saving SPAM\n",
    "save_dataset_to_csv(spam_dataset, 'spam_dataset.csv')"
   ]
  },
  {
   "cell_type": "code",
   "execution_count": 61,
   "id": "edbff80c-f0de-4bdb-bbe8-b28d46a32798",
   "metadata": {},
   "outputs": [],
   "source": [
    "# *******************************"
   ]
  },
  {
   "cell_type": "code",
   "execution_count": 62,
   "id": "f79206e4-53b9-440a-8114-79929dbdbbd9",
   "metadata": {},
   "outputs": [],
   "source": [
    "# Dataset preparation and check"
   ]
  },
  {
   "cell_type": "code",
   "execution_count": 63,
   "id": "32a628fe-a8f7-4c7c-87d6-24e77b5e5015",
   "metadata": {},
   "outputs": [],
   "source": [
    "# load datasets\n",
    "file_spam = pd.read_csv(\"spam_dataset.csv\")\n",
    "file_ham = pd.read_csv(\"ham_dataset.csv\")\n",
    "\n",
    "# merging spam and ham\n",
    "spam_df = pd.concat([file_spam, file_ham], ignore_index=True) "
   ]
  },
  {
   "cell_type": "code",
   "execution_count": 64,
   "id": "d0f15a13-9335-40a5-868d-94e83fc715fb",
   "metadata": {},
   "outputs": [
    {
     "data": {
      "text/plain": [
       "<Axes: ylabel='count'>"
      ]
     },
     "execution_count": 64,
     "metadata": {},
     "output_type": "execute_result"
    },
    {
     "data": {
      "image/png": "[encoded data removed]",
      "text/plain": [
       "<Figure size 800x500 with 1 Axes>"
      ]
     },
     "metadata": {},
     "output_type": "display_data"
    }
   ],
   "source": [
    "# Show how many spam / ham emails is in given data\n",
    "import matplotlib.pyplot as plt\n",
    "import seaborn as sea\n",
    "labels = ['ham', 'spam']\n",
    "colors = ['green', 'red']\n",
    "plt.figure(figsize=(8, 5)) \n",
    "data = ['ham'] * len(file_ham) + ['spam'] * len(file_spam) \n",
    "sea.countplot(x=data, hue=data, palette=colors, legend=False)"
   ]
  },
  {
   "cell_type": "code",
   "execution_count": 65,
   "id": "18d188b4-7a76-47ac-b5bf-27be6d1f6408",
   "metadata": {},
   "outputs": [
    {
     "data": {
      "text/html": [
       "<div>\n",
       "<style scoped>\n",
       "    .dataframe tbody tr th:only-of-type {\n",
       "        vertical-align: middle;\n",
       "    }\n",
       "\n",
       "    .dataframe tbody tr th {\n",
       "        vertical-align: top;\n",
       "    }\n",
       "\n",
       "    .dataframe thead th {\n",
       "        text-align: right;\n",
       "    }\n",
       "</style>\n",
       "<table border=\"1\" class=\"dataframe\">\n",
       "  <thead>\n",
       "    <tr style=\"text-align: right;\">\n",
       "      <th></th>\n",
       "      <th>text</th>\n",
       "      <th>label</th>\n",
       "    </tr>\n",
       "  </thead>\n",
       "  <tbody>\n",
       "    <tr>\n",
       "      <th>0</th>\n",
       "      <td>Date: Wed  21 Aug 2002 20:31:57 -1600 MIME-Ver...</td>\n",
       "      <td>1</td>\n",
       "    </tr>\n",
       "    <tr>\n",
       "      <th>1</th>\n",
       "      <td>Date: Thu  22 Aug 2002 06:18:18 -0600 Message-...</td>\n",
       "      <td>1</td>\n",
       "    </tr>\n",
       "    <tr>\n",
       "      <th>2</th>\n",
       "      <td>Date: Thu  22 Aug 2002 07:36:19 -0600 Message-...</td>\n",
       "      <td>1</td>\n",
       "    </tr>\n",
       "    <tr>\n",
       "      <th>3</th>\n",
       "      <td>Date: Thu  22 Aug 2002 08:13:35 -0700 X-Mailer...</td>\n",
       "      <td>1</td>\n",
       "    </tr>\n",
       "    <tr>\n",
       "      <th>4</th>\n",
       "      <td>Date: Thu  22 Aug 2002 09:33:07 -0600 Message-...</td>\n",
       "      <td>1</td>\n",
       "    </tr>\n",
       "  </tbody>\n",
       "</table>\n",
       "</div>"
      ],
      "text/plain": [
       "                                                text  label\n",
       "0  Date: Wed  21 Aug 2002 20:31:57 -1600 MIME-Ver...      1\n",
       "1  Date: Thu  22 Aug 2002 06:18:18 -0600 Message-...      1\n",
       "2  Date: Thu  22 Aug 2002 07:36:19 -0600 Message-...      1\n",
       "3  Date: Thu  22 Aug 2002 08:13:35 -0700 X-Mailer...      1\n",
       "4  Date: Thu  22 Aug 2002 09:33:07 -0600 Message-...      1"
      ]
     },
     "execution_count": 65,
     "metadata": {},
     "output_type": "execute_result"
    }
   ],
   "source": [
    "# Check datasets\n",
    "spam_df.head()"
   ]
  },
  {
   "cell_type": "code",
   "execution_count": 66,
   "id": "036dac4a-5173-4317-9e6f-2e3c38ac871d",
   "metadata": {},
   "outputs": [
    {
     "data": {
      "text/plain": [
       "(3051, 2)"
      ]
     },
     "execution_count": 66,
     "metadata": {},
     "output_type": "execute_result"
    }
   ],
   "source": [
    "# Inspect data\n",
    "spam_df.shape"
   ]
  },
  {
   "cell_type": "code",
   "execution_count": 67,
   "id": "cf9ff1da-dbd7-49f5-ac82-074f27f0ea06",
   "metadata": {},
   "outputs": [
    {
     "data": {
      "text/html": [
       "<div>\n",
       "<style scoped>\n",
       "    .dataframe tbody tr th:only-of-type {\n",
       "        vertical-align: middle;\n",
       "    }\n",
       "\n",
       "    .dataframe tbody tr th {\n",
       "        vertical-align: top;\n",
       "    }\n",
       "\n",
       "    .dataframe thead tr th {\n",
       "        text-align: left;\n",
       "    }\n",
       "\n",
       "    .dataframe thead tr:last-of-type th {\n",
       "        text-align: right;\n",
       "    }\n",
       "</style>\n",
       "<table border=\"1\" class=\"dataframe\">\n",
       "  <thead>\n",
       "    <tr>\n",
       "      <th></th>\n",
       "      <th colspan=\"4\" halign=\"left\">text</th>\n",
       "    </tr>\n",
       "    <tr>\n",
       "      <th></th>\n",
       "      <th>count</th>\n",
       "      <th>unique</th>\n",
       "      <th>top</th>\n",
       "      <th>freq</th>\n",
       "    </tr>\n",
       "    <tr>\n",
       "      <th>label</th>\n",
       "      <th></th>\n",
       "      <th></th>\n",
       "      <th></th>\n",
       "      <th></th>\n",
       "    </tr>\n",
       "  </thead>\n",
       "  <tbody>\n",
       "    <tr>\n",
       "      <th>0</th>\n",
       "      <td>2551</td>\n",
       "      <td>2549</td>\n",
       "      <td>Date: Thu  22 Aug 2002 14:55:23 -0700 Date: Th...</td>\n",
       "      <td>2</td>\n",
       "    </tr>\n",
       "    <tr>\n",
       "      <th>1</th>\n",
       "      <td>500</td>\n",
       "      <td>486</td>\n",
       "      <td>Date: Sun  25 Aug 2002 21:21:51 -1900 MIME-Ver...</td>\n",
       "      <td>3</td>\n",
       "    </tr>\n",
       "  </tbody>\n",
       "</table>\n",
       "</div>"
      ],
      "text/plain": [
       "       text                                                               \n",
       "      count unique                                                top freq\n",
       "label                                                                     \n",
       "0      2551   2549  Date: Thu  22 Aug 2002 14:55:23 -0700 Date: Th...    2\n",
       "1       500    486  Date: Sun  25 Aug 2002 21:21:51 -1900 MIME-Ver...    3"
      ]
     },
     "execution_count": 67,
     "metadata": {},
     "output_type": "execute_result"
    }
   ],
   "source": [
    "# goup by category. 0 - no spam, 1 - spam\n",
    "spam_df.groupby('label').describe()"
   ]
  },
  {
   "cell_type": "code",
   "execution_count": null,
   "id": "4df33bb4-4304-4676-841e-ba6b84e6c007",
   "metadata": {},
   "outputs": [],
   "source": []
  },
  {
   "cell_type": "code",
   "execution_count": null,
   "id": "9584ec92-9d88-4b75-a4cb-3b831c32c8f5",
   "metadata": {},
   "outputs": [],
   "source": []
  },
  {
   "cell_type": "code",
   "execution_count": null,
   "id": "db012fbb-5537-43ca-8356-98b10d7f00f0",
   "metadata": {},
   "outputs": [],
   "source": []
  },
  {
   "cell_type": "code",
   "execution_count": 68,
   "id": "c1483a20-d15b-44b1-b364-8341be049bd5",
   "metadata": {},
   "outputs": [],
   "source": [
    "# Step II : Model selection.\n",
    "#     * Choose model(RNN, CNN, LSTM)\n",
    "#     * Model implementation\n",
    "\n",
    "\n"
   ]
  },
  {
   "cell_type": "code",
   "execution_count": null,
   "id": "00429535-28eb-4031-b5ba-8618f0a53372",
   "metadata": {},
   "outputs": [],
   "source": []
  },
  {
   "cell_type": "code",
   "execution_count": 69,
   "id": "b16c862a-c10b-4ad4-b61f-44691740278a",
   "metadata": {},
   "outputs": [],
   "source": [
    "# RNN Implementation"
   ]
  },
  {
   "cell_type": "code",
   "execution_count": 108,
   "id": "83460610-9f47-433a-8009-dfe40fe3388b",
   "metadata": {},
   "outputs": [],
   "source": [
    "import pandas as pd\n",
    "import numpy as np\n",
    "import tensorflow as tf\n",
    "from tensorflow.keras.preprocessing.text import Tokenizer\n",
    "from tensorflow.keras.preprocessing.sequence import pad_sequences\n",
    "from tensorflow.keras.models import Sequential\n",
    "from tensorflow.keras.layers import Embedding, LSTM, Dense, Dropout\n",
    "from sklearn.model_selection import train_test_split\n",
    "from sklearn.metrics import classification_report"
   ]
  },
  {
   "cell_type": "code",
   "execution_count": 109,
   "id": "0012e4b1-76e3-456f-ad9a-d8ad27e6e28a",
   "metadata": {},
   "outputs": [],
   "source": [
    "# Tokenizing the text \n",
    "tokenizer = Tokenizer() \n",
    "tokenizer.fit_on_texts(spam_df['text']) \n",
    "sequences = tokenizer.texts_to_sequences(spam_df['text'])"
   ]
  },
  {
   "cell_type": "code",
   "execution_count": 110,
   "id": "65b8dd33-6496-439f-b342-48ecf99f1051",
   "metadata": {},
   "outputs": [],
   "source": [
    "# Padding sequences to ensure uniform input size \n",
    "maxlen = 2000 # Set how many signs from each email are taken.\n",
    "X = pad_sequences(sequences, maxlen=maxlen) \n",
    "y = np.array(spam_df['label'])"
   ]
  },
  {
   "cell_type": "code",
   "execution_count": 111,
   "id": "1848691b-59c8-4577-8b99-be6b76c2dc06",
   "metadata": {},
   "outputs": [],
   "source": [
    "# Data split into training set and testing set\n",
    "X_train, X_test, y_train, y_test = train_test_split(X, y, test_size=0.2, random_state=42)"
   ]
  },
  {
   "cell_type": "code",
   "execution_count": 112,
   "id": "9b1893d7-ebfe-4828-933a-560e41890ac3",
   "metadata": {},
   "outputs": [],
   "source": [
    "# RNN model building\n",
    "model = Sequential() \n",
    "model.add(Embedding(input_dim=len(tokenizer.word_index)+1, output_dim=128)) \n",
    "model.add(LSTM(units=128, return_sequences=False)) \n",
    "model.add(Dropout(rate=0.5)) \n",
    "model.add(Dense(units=1, activation='sigmoid')) \n",
    "model.compile(optimizer='adam', loss='binary_crossentropy', metrics=['accuracy'])"
   ]
  },
  {
   "cell_type": "code",
   "execution_count": 113,
   "id": "04b14456-bb29-46fd-ad2a-6517742a70ac",
   "metadata": {},
   "outputs": [
    {
     "name": "stdout",
     "output_type": "stream",
     "text": [
      "Epoch 1/3\n",
      "\u001b[1m61/61\u001b[0m \u001b[32m━━━━━━━━━━━━━━━━━━━━\u001b[0m\u001b[37m\u001b[0m \u001b[1m89s\u001b[0m 1s/step - accuracy: 0.8290 - loss: 0.4269 - val_accuracy: 0.9795 - val_loss: 0.0581\n",
      "Epoch 2/3\n",
      "\u001b[1m61/61\u001b[0m \u001b[32m━━━━━━━━━━━━━━━━━━━━\u001b[0m\u001b[37m\u001b[0m \u001b[1m98s\u001b[0m 2s/step - accuracy: 0.9887 - loss: 0.0406 - val_accuracy: 0.9877 - val_loss: 0.0483\n",
      "Epoch 3/3\n",
      "\u001b[1m61/61\u001b[0m \u001b[32m━━━━━━━━━━━━━━━━━━━━\u001b[0m\u001b[37m\u001b[0m \u001b[1m109s\u001b[0m 2s/step - accuracy: 0.9948 - loss: 0.0179 - val_accuracy: 0.9816 - val_loss: 0.0574\n"
     ]
    },
    {
     "data": {
      "text/plain": [
       "<keras.src.callbacks.history.History at 0x18ff59ac950>"
      ]
     },
     "execution_count": 113,
     "metadata": {},
     "output_type": "execute_result"
    }
   ],
   "source": [
    "#Training the model\n",
    "model.fit(X_train, y_train, epochs=3, batch_size=32, validation_split=0.2)\n"
   ]
  },
  {
   "cell_type": "code",
   "execution_count": 114,
   "id": "539bf758-3096-4c56-ba12-bbdffb8588f4",
   "metadata": {},
   "outputs": [
    {
     "name": "stdout",
     "output_type": "stream",
     "text": [
      "\u001b[1m20/20\u001b[0m \u001b[32m━━━━━━━━━━━━━━━━━━━━\u001b[0m\u001b[37m\u001b[0m \u001b[1m13s\u001b[0m 615ms/step\n",
      "              precision    recall  f1-score   support\n",
      "\n",
      "           0       0.99      0.99      0.99       497\n",
      "           1       0.95      0.94      0.94       114\n",
      "\n",
      "    accuracy                           0.98       611\n",
      "   macro avg       0.97      0.96      0.96       611\n",
      "weighted avg       0.98      0.98      0.98       611\n",
      "\n"
     ]
    }
   ],
   "source": [
    "# Predict the probabilities\n",
    "y_pred_prob = model.predict(X_test)\n",
    "\n",
    "# Convert probabilities to binary class predictions\n",
    "y_pred = (y_pred_prob > 0.5).astype(int)\n",
    "\n",
    "# Print the classification report\n",
    "print(classification_report(y_test, y_pred))\n"
   ]
  },
  {
   "cell_type": "code",
   "execution_count": 126,
   "id": "159434d1-aa4c-4860-952f-50301b1b255f",
   "metadata": {},
   "outputs": [
    {
     "name": "stdout",
     "output_type": "stream",
     "text": [
      "\u001b[1m1/1\u001b[0m \u001b[32m━━━━━━━━━━━━━━━━━━━━\u001b[0m\u001b[37m\u001b[0m \u001b[1m0s\u001b[0m 126ms/step\n",
      "Spam\n",
      "Prediction: {0} [[0.9874104]]\n"
     ]
    }
   ],
   "source": [
    "# Example NON spam text\n",
    "text = \"hey lets have a beer together today. Are you in?\"\n",
    "\n",
    "# Tokenize and pad the text\n",
    "sequence = tokenizer.texts_to_sequences([text])\n",
    "padded_sequence = pad_sequences(sequence, maxlen=maxlen)\n",
    "\n",
    "# Predict\n",
    "prediction = model.predict(padded_sequence)\n",
    "\n",
    "# Output the result\n",
    "print(\"Spam\" if prediction > 0.5 else \"Not Spam\")\n",
    "print(\"Prediction: {0}\", prediction)"
   ]
  },
  {
   "cell_type": "code",
   "execution_count": 127,
   "id": "fc587b98-6726-4694-9e6b-f9a3bed8ba62",
   "metadata": {},
   "outputs": [
    {
     "name": "stdout",
     "output_type": "stream",
     "text": [
      "\u001b[1m1/1\u001b[0m \u001b[32m━━━━━━━━━━━━━━━━━━━━\u001b[0m\u001b[37m\u001b[0m \u001b[1m0s\u001b[0m 117ms/step\n",
      "Spam\n",
      "Prediction: {0} [[0.9951054]]\n"
     ]
    }
   ],
   "source": [
    "# Example SPAM text\n",
    "text = \"reward click now you will be reach\"\n",
    "\n",
    "# Tokenize and pad the text\n",
    "sequence = tokenizer.texts_to_sequences([text])\n",
    "padded_sequence = pad_sequences(sequence, maxlen=maxlen)\n",
    "\n",
    "# Predict\n",
    "prediction = model.predict(padded_sequence)\n",
    "\n",
    "# Output the result\n",
    "print(\"Spam\" if prediction > 0.5 else \"Not Spam\")\n",
    "print(\"Prediction: {0}\", prediction)"
   ]
  },
  {
   "cell_type": "code",
   "execution_count": 132,
   "id": "32ade54a-a07d-4c6c-affd-8acfddc57cdb",
   "metadata": {},
   "outputs": [
    {
     "name": "stdout",
     "output_type": "stream",
     "text": [
      "\u001b[1m1/1\u001b[0m \u001b[32m━━━━━━━━━━━━━━━━━━━━\u001b[0m\u001b[37m\u001b[0m \u001b[1m0s\u001b[0m 118ms/step\n",
      "Spam\n",
      "Prediction: {0} [[0.99109834]]\n"
     ]
    }
   ],
   "source": [
    "# Example NPT spam text\n",
    "text = \"my uncle name is bob\"\n",
    "\n",
    "# Tokenize and pad the text\n",
    "sequence = tokenizer.texts_to_sequences([text])\n",
    "padded_sequence = pad_sequences(sequence, maxlen=maxlen)\n",
    "\n",
    "# Predict\n",
    "prediction = model.predict(padded_sequence)\n",
    "\n",
    "# Output the result\n",
    "print(\"Spam\" if prediction > 0.5 else \"Not Spam\")\n",
    "print(\"Prediction: {0}\", prediction)"
   ]
  },
  {
   "cell_type": "code",
   "execution_count": null,
   "id": "1e566c27-cdd2-4f5b-b8f2-5d7cfacfbaa8",
   "metadata": {},
   "outputs": [],
   "source": []
  },
  {
   "cell_type": "code",
   "execution_count": null,
   "id": "7c7e782d-8858-4802-84c8-8d28ec38de1b",
   "metadata": {},
   "outputs": [],
   "source": []
  },
  {
   "cell_type": "code",
   "execution_count": null,
   "id": "5a606090-0789-4695-980b-4f1c8ae7934b",
   "metadata": {},
   "outputs": [],
   "source": []
  }
 ],
 "metadata": {
  "kernelspec": {
   "display_name": "Python 3 (ipykernel)",
   "language": "python",
   "name": "python3"
  },
  "language_info": {
   "codemirror_mode": {
    "name": "ipython",
    "version": 3
   },
   "file_extension": ".py",
   "mimetype": "text/x-python",
   "name": "python",
   "nbconvert_exporter": "python",
   "pygments_lexer": "ipython3",
   "version": "3.12.3"
  }
 },
 "nbformat": 4,
 "nbformat_minor": 5
}
