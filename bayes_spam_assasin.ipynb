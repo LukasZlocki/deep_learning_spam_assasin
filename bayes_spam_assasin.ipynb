{
 "cells": [
  {
   "cell_type": "code",
   "execution_count": 1,
   "id": "906f497c-f85a-432b-be11-3b9645a4b6a8",
   "metadata": {},
   "outputs": [],
   "source": [
    "# Deep Learning Spam Assasing Project\n",
    "# Bayes algorithm\n",
    "# Goal: Implement Bayes base on prepared data\n",
    "\n"
   ]
  },
  {
   "cell_type": "code",
   "execution_count": 2,
   "id": "2a6b2c1f-3464-4264-b1c9-8acf0049fcb7",
   "metadata": {},
   "outputs": [],
   "source": [
    "# Activity plan:\n",
    "# Step I : Data collection and data pre processing.\n",
    "#     * Gather data\n",
    "#     * Clean data\n",
    "#     * Lebel the data\n",
    "#\n",
    "# Step II : Model selection.\n",
    "#     * Choose model(RNN, CNN, LSTM)\n",
    "#     * Model implementation\n",
    "#\n",
    "# Step III : Model implementation\n",
    "#     * Design model\n",
    "#     * Split data into training/test sets\n",
    "#     * Train model\n",
    "#\n",
    "# Step IV : Model quality evaluation\n",
    "#     * Setup quality tools\n",
    "#     * Perform tests to evaluate performance\n",
    "#\n",
    "# Step V : Project documentation\n",
    "#     * Add comments to code\n",
    "\n"
   ]
  },
  {
   "cell_type": "code",
   "execution_count": 3,
   "id": "0d31e427-0c93-4715-bacf-77f131ca9e02",
   "metadata": {},
   "outputs": [],
   "source": [
    "# import packages\n",
    "import pandas as pd # manipulating the data purpose\n",
    "import csv\n",
    "import os\n",
    "import numpy as np\n",
    "from sklearn.model_selection import train_test_split # Split test/train data randomly\n",
    "from sklearn.feature_extraction.text import CountVectorizer # Convert a collection of text documents to a matrix of token counts\n",
    "from sklearn.naive_bayes import MultinomialNB # add classifier for classification of words\n",
    "import re"
   ]
  },
  {
   "cell_type": "code",
   "execution_count": 4,
   "id": "4130ec2d-cf4a-44e2-ae0c-7323214e1726",
   "metadata": {},
   "outputs": [],
   "source": [
    "# Step I : Data collection and data pre processing.\n",
    "#     * Gather data\n",
    "\n"
   ]
  },
  {
   "cell_type": "code",
   "execution_count": 5,
   "id": "486cf292-e8ba-4dd3-9704-67beb906b103",
   "metadata": {},
   "outputs": [],
   "source": [
    "# Define input directory containing the files and output CSV file path\n",
    "input_directory_non_spam = 'C:/VirtualServer/src_spam_assasin/srcdata/easy_ham'\n",
    "input_directory_spam = 'C:/VirtualServer/src_spam_assasin/srcdata/spam'\n",
    "output_csv_non_spam = 'output_emails_non_spam.csv'\n",
    "output_csv_spam = 'output_emails_spam.csv'"
   ]
  },
  {
   "cell_type": "code",
   "execution_count": 6,
   "id": "93fbfbd5-33db-4a0d-b6d5-21b3ad26aacb",
   "metadata": {},
   "outputs": [],
   "source": [
    "def load_emails_data(input_directory):\n",
    "    '''\n",
    "    Load all emails from given directory\n",
    "\n",
    "    Paramater:\n",
    "    input_directory : Folder with data\n",
    "\n",
    "    Returns\n",
    "    List of emails dataset\n",
    "    '''\n",
    "    \n",
    "    # List to hold all rows of data\n",
    "    emails_dataset = []\n",
    "\n",
    "    # Iterate over all files in the input directory\n",
    "    for filename in os.listdir(input_directory):\n",
    "        file_path = os.path.join(input_directory, filename)\n",
    "        # Only process if it's a file\n",
    "        if os.path.isfile(file_path):\n",
    "            with open(file_path, 'r', encoding='utf-8', errors='ignore') as file:\n",
    "                file_content = file.read().strip()\n",
    "                # Replace newlines with spaces to have one constant text\n",
    "                file_content_single_line = file_content.replace('\\n', ' ')\n",
    "                file_content_no_sign = file_content_single_line.replace(',', ' ')\n",
    "                emails_dataset.append(file_content_no_sign)\n",
    "    return emails_dataset"
   ]
  },
  {
   "cell_type": "code",
   "execution_count": 7,
   "id": "b5f6000a-72e9-456f-be56-5eed8ab695e0",
   "metadata": {},
   "outputs": [
    {
     "name": "stdout",
     "output_type": "stream",
     "text": [
      "********************************************************\n",
      "From exmh-workers-admin@redhat.com  Thu Aug 22 12:36:23 2002 Return-Path: <exmh-workers-admin@example.com> Delivered-To: zzzz@localhost.netnoteinc.com Received: from localhost (localhost [127.0.0.1]) \tby phobos.labs.netnoteinc.com (Postfix) with ESMTP id D03E543C36 \tfor <zzzz@localhost>; Thu  22 Aug 2002 07:36:16 -0400 (EDT) Received: from phobos [127.0.0.1] \tby localhost with IMAP (fetchmail-5.9.0) \tfor zzzz@localhost (single-drop); Thu  22 Aug 2002 12:36:16 +0100 (IST) Received: from listman.example.com (listman.example.com [66.187.233.211]) by     dogma.slashnull.org (8.11.6/8.11.6) with ESMTP id g7MBYrZ04811 for     <zzzz-exmh@example.com>; Thu  22 Aug 2002 12:34:53 +0100 Received: from listman.example.com (localhost.localdomain [127.0.0.1]) by     listman.redhat.com (Postfix) with ESMTP id 8386540858; Thu  22 Aug 2002     07:35:02 -0400 (EDT) Delivered-To: exmh-workers@listman.example.com Received: from int-mx1.corp.example.com (int-mx1.corp.example.com     [172.16.52.254]) by listman.redhat.com (Postfix) with ESMTP id 10CF8406D7     for <exmh-workers@listman.redhat.com>; Thu  22 Aug 2002 07:34:10 -0400     (EDT) Received: (from mail@localhost) by int-mx1.corp.example.com (8.11.6/8.11.6)     id g7MBY7g11259 for exmh-workers@listman.redhat.com; Thu  22 Aug 2002     07:34:07 -0400 Received: from mx1.example.com (mx1.example.com [172.16.48.31]) by     int-mx1.corp.redhat.com (8.11.6/8.11.6) with SMTP id g7MBY7Y11255 for     <exmh-workers@redhat.com>; Thu  22 Aug 2002 07:34:07 -0400 Received: from ratree.psu.ac.th ([202.28.97.6]) by mx1.example.com     (8.11.6/8.11.6) with SMTP id g7MBIhl25223 for <exmh-workers@redhat.com>;     Thu  22 Aug 2002 07:18:55 -0400 Received: from delta.cs.mu.OZ.AU (delta.coe.psu.ac.th [172.30.0.98]) by     ratree.psu.ac.th (8.11.6/8.11.6) with ESMTP id g7MBWel29762;     Thu  22 Aug 2002 18:32:40 +0700 (ICT) Received: from munnari.OZ.AU (localhost [127.0.0.1]) by delta.cs.mu.OZ.AU     (8.11.6/8.11.6) with ESMTP id g7MBQPW13260; Thu  22 Aug 2002 18:26:25     +0700 (ICT) From: Robert Elz <kre@munnari.OZ.AU> To: Chris Garrigues <cwg-dated-1030377287.06fa6d@DeepEddy.Com> Cc: exmh-workers@example.com Subject: Re: New Sequences Window In-Reply-To: <1029945287.4797.TMDA@deepeddy.vircio.com> References: <1029945287.4797.TMDA@deepeddy.vircio.com>     <1029882468.3116.TMDA@deepeddy.vircio.com> <9627.1029933001@munnari.OZ.AU>     <1029943066.26919.TMDA@deepeddy.vircio.com>     <1029944441.398.TMDA@deepeddy.vircio.com> MIME-Version: 1.0 Content-Type: text/plain; charset=us-ascii Message-Id: <13258.1030015585@munnari.OZ.AU> X-Loop: exmh-workers@example.com Sender: exmh-workers-admin@example.com Errors-To: exmh-workers-admin@example.com X-Beenthere: exmh-workers@example.com X-Mailman-Version: 2.0.1 Precedence: bulk List-Help: <mailto:exmh-workers-request@example.com?subject=help> List-Post: <mailto:exmh-workers@example.com> List-Subscribe: <https://listman.example.com/mailman/listinfo/exmh-workers>      <mailto:exmh-workers-request@redhat.com?subject=subscribe> List-Id: Discussion list for EXMH developers <exmh-workers.example.com> List-Unsubscribe: <https://listman.example.com/mailman/listinfo/exmh-workers>      <mailto:exmh-workers-request@redhat.com?subject=unsubscribe> List-Archive: <https://listman.example.com/mailman/private/exmh-workers/> Date: Thu  22 Aug 2002 18:26:25 +0700      Date:        Wed  21 Aug 2002 10:54:46 -0500     From:        Chris Garrigues <cwg-dated-1030377287.06fa6d@DeepEddy.Com>     Message-ID:  <1029945287.4797.TMDA@deepeddy.vircio.com>     | I can't reproduce this error.  For me it is very repeatable... (like every time  without fail).  This is the debug log of the pick happening ...  18:19:03 Pick_It {exec pick +inbox -list -lbrace -lbrace -subject ftp -rbrace -rbrace} {4852-4852 -sequence mercury} 18:19:03 exec pick +inbox -list -lbrace -lbrace -subject ftp -rbrace -rbrace 4852-4852 -sequence mercury 18:19:04 Ftoc_PickMsgs {{1 hit}} 18:19:04 Marking 1 hits 18:19:04 tkerror: syntax error in expression \"int ...  Note  if I run the pick command by hand ...  delta$ pick +inbox -list -lbrace -lbrace -subject ftp -rbrace -rbrace  4852-4852 -sequence mercury 1 hit  That's where the \"1 hit\" comes from (obviously).  The version of nmh I'm using is ...  delta$ pick -version pick -- nmh-1.0.4 [compiled on fuchsia.cs.mu.OZ.AU at Sun Mar 17 14:55:56 ICT 2002]  And the relevant part of my .mh_profile ...  delta$ mhparam pick -seq sel -list   Since the pick command works  the sequence (actually  both of them  the one that's explicit on the command line  from the search popup  and the one that comes from .mh_profile) do get created.  kre  ps: this is still using the version of the code form a day ago  I haven't been able to reach the cvs repository today (local routing issue I think).    _______________________________________________ Exmh-workers mailing list Exmh-workers@redhat.com https://listman.redhat.com/mailman/listinfo/exmh-workers\n",
      "********************************************************\n",
      "********************************************************\n",
      "From Steve_Burt@cursor-system.com  Thu Aug 22 12:46:39 2002 Return-Path: <Steve_Burt@cursor-system.com> Delivered-To: zzzz@localhost.netnoteinc.com Received: from localhost (localhost [127.0.0.1]) \tby phobos.labs.netnoteinc.com (Postfix) with ESMTP id BE12E43C34 \tfor <zzzz@localhost>; Thu  22 Aug 2002 07:46:38 -0400 (EDT) Received: from phobos [127.0.0.1] \tby localhost with IMAP (fetchmail-5.9.0) \tfor zzzz@localhost (single-drop); Thu  22 Aug 2002 12:46:38 +0100 (IST) Received: from n20.grp.scd.yahoo.com (n20.grp.scd.yahoo.com     [66.218.66.76]) by dogma.slashnull.org (8.11.6/8.11.6) with SMTP id     g7MBkTZ05087 for <zzzz@example.com>; Thu  22 Aug 2002 12:46:29 +0100 X-Egroups-Return: sentto-2242572-52726-1030016790-zzzz=example.com@returns.groups.yahoo.com Received: from [66.218.67.196] by n20.grp.scd.yahoo.com with NNFMP;     22 Aug 2002 11:46:30 -0000 X-Sender: steve.burt@cursor-system.com X-Apparently-To: zzzzteana@yahoogroups.com Received: (EGP: mail-8_1_0_1); 22 Aug 2002 11:46:29 -0000 Received: (qmail 11764 invoked from network); 22 Aug 2002 11:46:29 -0000 Received: from unknown (66.218.66.217) by m3.grp.scd.yahoo.com with QMQP;     22 Aug 2002 11:46:29 -0000 Received: from unknown (HELO mailgateway.cursor-system.com) (62.189.7.27)     by mta2.grp.scd.yahoo.com with SMTP; 22 Aug 2002 11:46:29 -0000 Received: from exchange1.cps.local (unverified) by     mailgateway.cursor-system.com (Content Technologies SMTPRS 4.2.10) with     ESMTP id <T5cde81f695ac1d100407d@mailgateway.cursor-system.com> for     <forteana@yahoogroups.com>; Thu  22 Aug 2002 13:14:10 +0100 Received: by exchange1.cps.local with Internet Mail Service (5.5.2653.19)     id <PXX6AT23>; Thu  22 Aug 2002 12:46:27 +0100 Message-Id: <5EC2AD6D2314D14FB64BDA287D25D9EF12B4F6@exchange1.cps.local> To: \"'zzzzteana@yahoogroups.com'\" <zzzzteana@yahoogroups.com> X-Mailer: Internet Mail Service (5.5.2653.19) X-Egroups-From: Steve Burt <steve.burt@cursor-system.com> From: Steve Burt <Steve_Burt@cursor-system.com> X-Yahoo-Profile: pyruse MIME-Version: 1.0 Mailing-List: list zzzzteana@yahoogroups.com; contact     forteana-owner@yahoogroups.com Delivered-To: mailing list zzzzteana@yahoogroups.com Precedence: bulk List-Unsubscribe: <mailto:zzzzteana-unsubscribe@yahoogroups.com> Date: Thu  22 Aug 2002 12:46:18 +0100 Subject: [zzzzteana] RE: Alexander Reply-To: zzzzteana@yahoogroups.com Content-Type: text/plain; charset=US-ASCII Content-Transfer-Encoding: 7bit  Martin A posted: Tassos Papadopoulos  the Greek sculptor behind the plan  judged that the  limestone of Mount Kerdylio  70 miles east of Salonika and not far from the  Mount Athos monastic community  was ideal for the patriotic sculpture.     As well as Alexander's granite features  240 ft high and 170 ft wide  a  museum  a restored amphitheatre and car park for admiring crowds are planned --------------------- So is this mountain limestone or granite? If it's limestone  it'll weather pretty fast.  ------------------------ Yahoo! Groups Sponsor ---------------------~--> 4 DVDs Free +s&p Join Now http://us.click.yahoo.com/pt6YBB/NXiEAA/mG3HAA/7gSolB/TM ---------------------------------------------------------------------~->  To unsubscribe from this group  send an email to: forteana-unsubscribe@egroups.com     Your use of Yahoo! Groups is subject to http://docs.yahoo.com/info/terms/\n",
      "********************************************************\n",
      "********************************************************\n",
      "From timc@2ubh.com  Thu Aug 22 13:52:59 2002 Return-Path: <timc@2ubh.com> Delivered-To: zzzz@localhost.netnoteinc.com Received: from localhost (localhost [127.0.0.1]) \tby phobos.labs.netnoteinc.com (Postfix) with ESMTP id 0314547C66 \tfor <zzzz@localhost>; Thu  22 Aug 2002 08:52:58 -0400 (EDT) Received: from phobos [127.0.0.1] \tby localhost with IMAP (fetchmail-5.9.0) \tfor zzzz@localhost (single-drop); Thu  22 Aug 2002 13:52:59 +0100 (IST) Received: from n16.grp.scd.yahoo.com (n16.grp.scd.yahoo.com     [66.218.66.71]) by dogma.slashnull.org (8.11.6/8.11.6) with SMTP id     g7MCrdZ07070 for <zzzz@example.com>; Thu  22 Aug 2002 13:53:39 +0100 X-Egroups-Return: sentto-2242572-52733-1030020820-zzzz=example.com@returns.groups.yahoo.com Received: from [66.218.67.198] by n16.grp.scd.yahoo.com with NNFMP;     22 Aug 2002 12:53:40 -0000 X-Sender: timc@2ubh.com X-Apparently-To: zzzzteana@yahoogroups.com Received: (EGP: mail-8_1_0_1); 22 Aug 2002 12:53:39 -0000 Received: (qmail 76099 invoked from network); 22 Aug 2002 12:53:39 -0000 Received: from unknown (66.218.66.218) by m5.grp.scd.yahoo.com with QMQP;     22 Aug 2002 12:53:39 -0000 Received: from unknown (HELO rhenium.btinternet.com) (194.73.73.93) by     mta3.grp.scd.yahoo.com with SMTP; 22 Aug 2002 12:53:39 -0000 Received: from host217-36-23-185.in-addr.btopenworld.com ([217.36.23.185])     by rhenium.btinternet.com with esmtp (Exim 3.22 #8) id 17hrT0-0004gj-00     for forteana@yahoogroups.com; Thu  22 Aug 2002 13:53:38 +0100 X-Mailer: Microsoft Outlook Express Macintosh Edition - 4.5 (0410) To: zzzzteana <zzzzteana@yahoogroups.com> X-Priority: 3 Message-Id: <E17hrT0-0004gj-00@rhenium.btinternet.com> From: \"Tim Chapman\" <timc@2ubh.com> X-Yahoo-Profile: tim2ubh MIME-Version: 1.0 Mailing-List: list zzzzteana@yahoogroups.com; contact     forteana-owner@yahoogroups.com Delivered-To: mailing list zzzzteana@yahoogroups.com Precedence: bulk List-Unsubscribe: <mailto:zzzzteana-unsubscribe@yahoogroups.com> Date: Thu  22 Aug 2002 13:52:38 +0100 Subject: [zzzzteana] Moscow bomber Reply-To: zzzzteana@yahoogroups.com Content-Type: text/plain; charset=US-ASCII Content-Transfer-Encoding: 7bit  Man Threatens Explosion In Moscow   Thursday August 22  2002 1:40 PM MOSCOW (AP) - Security officers on Thursday seized an unidentified man who said he was armed with explosives and threatened to blow up his truck in front of Russia's Federal Security Services headquarters in Moscow  NTV television reported. The officers seized an automatic rifle the man was carrying  then the man got out of the truck and was taken into custody  NTV said. No other details were immediately available. The man had demanded talks with high government officials  the Interfax and ITAR-Tass news agencies said. Ekho Moskvy radio reported that he wanted to talk with Russian President Vladimir Putin. Police and security forces rushed to the Security Service building  within blocks of the Kremlin  Red Square and the Bolshoi Ballet  and surrounded the man  who claimed to have one and a half tons of explosives  the news agencies said. Negotiations continued for about one and a half hours outside the building  ITAR-Tass and Interfax reported  citing witnesses. The man later drove away from the building  under police escort  and drove to a street near Moscow's Olympic Penta Hotel  where authorities held further negotiations with him  the Moscow police press service said. The move appeared to be an attempt by security services to get him to a more secure location.   ------------------------ Yahoo! Groups Sponsor ---------------------~--> 4 DVDs Free +s&p Join Now http://us.click.yahoo.com/pt6YBB/NXiEAA/mG3HAA/7gSolB/TM ---------------------------------------------------------------------~->  To unsubscribe from this group  send an email to: forteana-unsubscribe@egroups.com     Your use of Yahoo! Groups is subject to http://docs.yahoo.com/info/terms/\n",
      "********************************************************\n"
     ]
    }
   ],
   "source": [
    "# Load ONLY ham emails\n",
    "emails_dataset_raw_ham =  load_emails_data(input_directory_non_spam)\n",
    "\n",
    "counter = 0\n",
    "for element in emails_dataset_raw_ham:\n",
    "    if counter < 3:\n",
    "        print(\"********************************************************\")\n",
    "        print(f\"{element}\")\n",
    "        print(\"********************************************************\")\n",
    "    else:\n",
    "        break;\n",
    "    counter = counter +1"
   ]
  },
  {
   "cell_type": "code",
   "execution_count": 8,
   "id": "f1a86674-2ca7-4b59-862b-43330b3aab32",
   "metadata": {},
   "outputs": [
    {
     "name": "stdout",
     "output_type": "stream",
     "text": [
      "********************************************************\n",
      "From exmh-workers-admin@redhat.com  Thu Aug 22 12:36:23 2002 Return-Path: <exmh-workers-admin@example.com> Delivered-To: zzzz@localhost.netnoteinc.com Received: from localhost (localhost [127.0.0.1]) \tby phobos.labs.netnoteinc.com (Postfix) with ESMTP id D03E543C36 \tfor <zzzz@localhost>; Thu  22 Aug 2002 07:36:16 -0400 (EDT) Received: from phobos [127.0.0.1] \tby localhost with IMAP (fetchmail-5.9.0) \tfor zzzz@localhost (single-drop); Thu  22 Aug 2002 12:36:16 +0100 (IST) Received: from listman.example.com (listman.example.com [66.187.233.211]) by     dogma.slashnull.org (8.11.6/8.11.6) with ESMTP id g7MBYrZ04811 for     <zzzz-exmh@example.com>; Thu  22 Aug 2002 12:34:53 +0100 Received: from listman.example.com (localhost.localdomain [127.0.0.1]) by     listman.redhat.com (Postfix) with ESMTP id 8386540858; Thu  22 Aug 2002     07:35:02 -0400 (EDT) Delivered-To: exmh-workers@listman.example.com Received: from int-mx1.corp.example.com (int-mx1.corp.example.com     [172.16.52.254]) by listman.redhat.com (Postfix) with ESMTP id 10CF8406D7     for <exmh-workers@listman.redhat.com>; Thu  22 Aug 2002 07:34:10 -0400     (EDT) Received: (from mail@localhost) by int-mx1.corp.example.com (8.11.6/8.11.6)     id g7MBY7g11259 for exmh-workers@listman.redhat.com; Thu  22 Aug 2002     07:34:07 -0400 Received: from mx1.example.com (mx1.example.com [172.16.48.31]) by     int-mx1.corp.redhat.com (8.11.6/8.11.6) with SMTP id g7MBY7Y11255 for     <exmh-workers@redhat.com>; Thu  22 Aug 2002 07:34:07 -0400 Received: from ratree.psu.ac.th ([202.28.97.6]) by mx1.example.com     (8.11.6/8.11.6) with SMTP id g7MBIhl25223 for <exmh-workers@redhat.com>;     Thu  22 Aug 2002 07:18:55 -0400 Received: from delta.cs.mu.OZ.AU (delta.coe.psu.ac.th [172.30.0.98]) by     ratree.psu.ac.th (8.11.6/8.11.6) with ESMTP id g7MBWel29762;     Thu  22 Aug 2002 18:32:40 +0700 (ICT) Received: from munnari.OZ.AU (localhost [127.0.0.1]) by delta.cs.mu.OZ.AU     (8.11.6/8.11.6) with ESMTP id g7MBQPW13260; Thu  22 Aug 2002 18:26:25     +0700 (ICT) From: Robert Elz <kre@munnari.OZ.AU> To: Chris Garrigues <cwg-dated-1030377287.06fa6d@DeepEddy.Com> Cc: exmh-workers@example.com Subject: Re: New Sequences Window In-Reply-To: <1029945287.4797.TMDA@deepeddy.vircio.com> References: <1029945287.4797.TMDA@deepeddy.vircio.com>     <1029882468.3116.TMDA@deepeddy.vircio.com> <9627.1029933001@munnari.OZ.AU>     <1029943066.26919.TMDA@deepeddy.vircio.com>     <1029944441.398.TMDA@deepeddy.vircio.com> MIME-Version: 1.0 Content-Type: text/plain; charset=us-ascii Message-Id: <13258.1030015585@munnari.OZ.AU> X-Loop: exmh-workers@example.com Sender: exmh-workers-admin@example.com Errors-To: exmh-workers-admin@example.com X-Beenthere: exmh-workers@example.com X-Mailman-Version: 2.0.1 Precedence: bulk List-Help: <mailto:exmh-workers-request@example.com?subject=help> List-Post: <mailto:exmh-workers@example.com> List-Subscribe: <https://listman.example.com/mailman/listinfo/exmh-workers>      <mailto:exmh-workers-request@redhat.com?subject=subscribe> List-Id: Discussion list for EXMH developers <exmh-workers.example.com> List-Unsubscribe: <https://listman.example.com/mailman/listinfo/exmh-workers>      <mailto:exmh-workers-request@redhat.com?subject=unsubscribe> List-Archive: <https://listman.example.com/mailman/private/exmh-workers/> Date: Thu  22 Aug 2002 18:26:25 +0700      Date:        Wed  21 Aug 2002 10:54:46 -0500     From:        Chris Garrigues <cwg-dated-1030377287.06fa6d@DeepEddy.Com>     Message-ID:  <1029945287.4797.TMDA@deepeddy.vircio.com>     | I can't reproduce this error.  For me it is very repeatable... (like every time  without fail).  This is the debug log of the pick happening ...  18:19:03 Pick_It {exec pick +inbox -list -lbrace -lbrace -subject ftp -rbrace -rbrace} {4852-4852 -sequence mercury} 18:19:03 exec pick +inbox -list -lbrace -lbrace -subject ftp -rbrace -rbrace 4852-4852 -sequence mercury 18:19:04 Ftoc_PickMsgs {{1 hit}} 18:19:04 Marking 1 hits 18:19:04 tkerror: syntax error in expression \"int ...  Note  if I run the pick command by hand ...  delta$ pick +inbox -list -lbrace -lbrace -subject ftp -rbrace -rbrace  4852-4852 -sequence mercury 1 hit  That's where the \"1 hit\" comes from (obviously).  The version of nmh I'm using is ...  delta$ pick -version pick -- nmh-1.0.4 [compiled on fuchsia.cs.mu.OZ.AU at Sun Mar 17 14:55:56 ICT 2002]  And the relevant part of my .mh_profile ...  delta$ mhparam pick -seq sel -list   Since the pick command works  the sequence (actually  both of them  the one that's explicit on the command line  from the search popup  and the one that comes from .mh_profile) do get created.  kre  ps: this is still using the version of the code form a day ago  I haven't been able to reach the cvs repository today (local routing issue I think).    _______________________________________________ Exmh-workers mailing list Exmh-workers@redhat.com https://listman.redhat.com/mailman/listinfo/exmh-workers\n",
      "********************************************************\n",
      "********************************************************\n",
      "From Steve_Burt@cursor-system.com  Thu Aug 22 12:46:39 2002 Return-Path: <Steve_Burt@cursor-system.com> Delivered-To: zzzz@localhost.netnoteinc.com Received: from localhost (localhost [127.0.0.1]) \tby phobos.labs.netnoteinc.com (Postfix) with ESMTP id BE12E43C34 \tfor <zzzz@localhost>; Thu  22 Aug 2002 07:46:38 -0400 (EDT) Received: from phobos [127.0.0.1] \tby localhost with IMAP (fetchmail-5.9.0) \tfor zzzz@localhost (single-drop); Thu  22 Aug 2002 12:46:38 +0100 (IST) Received: from n20.grp.scd.yahoo.com (n20.grp.scd.yahoo.com     [66.218.66.76]) by dogma.slashnull.org (8.11.6/8.11.6) with SMTP id     g7MBkTZ05087 for <zzzz@example.com>; Thu  22 Aug 2002 12:46:29 +0100 X-Egroups-Return: sentto-2242572-52726-1030016790-zzzz=example.com@returns.groups.yahoo.com Received: from [66.218.67.196] by n20.grp.scd.yahoo.com with NNFMP;     22 Aug 2002 11:46:30 -0000 X-Sender: steve.burt@cursor-system.com X-Apparently-To: zzzzteana@yahoogroups.com Received: (EGP: mail-8_1_0_1); 22 Aug 2002 11:46:29 -0000 Received: (qmail 11764 invoked from network); 22 Aug 2002 11:46:29 -0000 Received: from unknown (66.218.66.217) by m3.grp.scd.yahoo.com with QMQP;     22 Aug 2002 11:46:29 -0000 Received: from unknown (HELO mailgateway.cursor-system.com) (62.189.7.27)     by mta2.grp.scd.yahoo.com with SMTP; 22 Aug 2002 11:46:29 -0000 Received: from exchange1.cps.local (unverified) by     mailgateway.cursor-system.com (Content Technologies SMTPRS 4.2.10) with     ESMTP id <T5cde81f695ac1d100407d@mailgateway.cursor-system.com> for     <forteana@yahoogroups.com>; Thu  22 Aug 2002 13:14:10 +0100 Received: by exchange1.cps.local with Internet Mail Service (5.5.2653.19)     id <PXX6AT23>; Thu  22 Aug 2002 12:46:27 +0100 Message-Id: <5EC2AD6D2314D14FB64BDA287D25D9EF12B4F6@exchange1.cps.local> To: \"'zzzzteana@yahoogroups.com'\" <zzzzteana@yahoogroups.com> X-Mailer: Internet Mail Service (5.5.2653.19) X-Egroups-From: Steve Burt <steve.burt@cursor-system.com> From: Steve Burt <Steve_Burt@cursor-system.com> X-Yahoo-Profile: pyruse MIME-Version: 1.0 Mailing-List: list zzzzteana@yahoogroups.com; contact     forteana-owner@yahoogroups.com Delivered-To: mailing list zzzzteana@yahoogroups.com Precedence: bulk List-Unsubscribe: <mailto:zzzzteana-unsubscribe@yahoogroups.com> Date: Thu  22 Aug 2002 12:46:18 +0100 Subject: [zzzzteana] RE: Alexander Reply-To: zzzzteana@yahoogroups.com Content-Type: text/plain; charset=US-ASCII Content-Transfer-Encoding: 7bit  Martin A posted: Tassos Papadopoulos  the Greek sculptor behind the plan  judged that the  limestone of Mount Kerdylio  70 miles east of Salonika and not far from the  Mount Athos monastic community  was ideal for the patriotic sculpture.     As well as Alexander's granite features  240 ft high and 170 ft wide  a  museum  a restored amphitheatre and car park for admiring crowds are planned --------------------- So is this mountain limestone or granite? If it's limestone  it'll weather pretty fast.  ------------------------ Yahoo! Groups Sponsor ---------------------~--> 4 DVDs Free +s&p Join Now http://us.click.yahoo.com/pt6YBB/NXiEAA/mG3HAA/7gSolB/TM ---------------------------------------------------------------------~->  To unsubscribe from this group  send an email to: forteana-unsubscribe@egroups.com     Your use of Yahoo! Groups is subject to http://docs.yahoo.com/info/terms/\n",
      "********************************************************\n",
      "********************************************************\n",
      "From timc@2ubh.com  Thu Aug 22 13:52:59 2002 Return-Path: <timc@2ubh.com> Delivered-To: zzzz@localhost.netnoteinc.com Received: from localhost (localhost [127.0.0.1]) \tby phobos.labs.netnoteinc.com (Postfix) with ESMTP id 0314547C66 \tfor <zzzz@localhost>; Thu  22 Aug 2002 08:52:58 -0400 (EDT) Received: from phobos [127.0.0.1] \tby localhost with IMAP (fetchmail-5.9.0) \tfor zzzz@localhost (single-drop); Thu  22 Aug 2002 13:52:59 +0100 (IST) Received: from n16.grp.scd.yahoo.com (n16.grp.scd.yahoo.com     [66.218.66.71]) by dogma.slashnull.org (8.11.6/8.11.6) with SMTP id     g7MCrdZ07070 for <zzzz@example.com>; Thu  22 Aug 2002 13:53:39 +0100 X-Egroups-Return: sentto-2242572-52733-1030020820-zzzz=example.com@returns.groups.yahoo.com Received: from [66.218.67.198] by n16.grp.scd.yahoo.com with NNFMP;     22 Aug 2002 12:53:40 -0000 X-Sender: timc@2ubh.com X-Apparently-To: zzzzteana@yahoogroups.com Received: (EGP: mail-8_1_0_1); 22 Aug 2002 12:53:39 -0000 Received: (qmail 76099 invoked from network); 22 Aug 2002 12:53:39 -0000 Received: from unknown (66.218.66.218) by m5.grp.scd.yahoo.com with QMQP;     22 Aug 2002 12:53:39 -0000 Received: from unknown (HELO rhenium.btinternet.com) (194.73.73.93) by     mta3.grp.scd.yahoo.com with SMTP; 22 Aug 2002 12:53:39 -0000 Received: from host217-36-23-185.in-addr.btopenworld.com ([217.36.23.185])     by rhenium.btinternet.com with esmtp (Exim 3.22 #8) id 17hrT0-0004gj-00     for forteana@yahoogroups.com; Thu  22 Aug 2002 13:53:38 +0100 X-Mailer: Microsoft Outlook Express Macintosh Edition - 4.5 (0410) To: zzzzteana <zzzzteana@yahoogroups.com> X-Priority: 3 Message-Id: <E17hrT0-0004gj-00@rhenium.btinternet.com> From: \"Tim Chapman\" <timc@2ubh.com> X-Yahoo-Profile: tim2ubh MIME-Version: 1.0 Mailing-List: list zzzzteana@yahoogroups.com; contact     forteana-owner@yahoogroups.com Delivered-To: mailing list zzzzteana@yahoogroups.com Precedence: bulk List-Unsubscribe: <mailto:zzzzteana-unsubscribe@yahoogroups.com> Date: Thu  22 Aug 2002 13:52:38 +0100 Subject: [zzzzteana] Moscow bomber Reply-To: zzzzteana@yahoogroups.com Content-Type: text/plain; charset=US-ASCII Content-Transfer-Encoding: 7bit  Man Threatens Explosion In Moscow   Thursday August 22  2002 1:40 PM MOSCOW (AP) - Security officers on Thursday seized an unidentified man who said he was armed with explosives and threatened to blow up his truck in front of Russia's Federal Security Services headquarters in Moscow  NTV television reported. The officers seized an automatic rifle the man was carrying  then the man got out of the truck and was taken into custody  NTV said. No other details were immediately available. The man had demanded talks with high government officials  the Interfax and ITAR-Tass news agencies said. Ekho Moskvy radio reported that he wanted to talk with Russian President Vladimir Putin. Police and security forces rushed to the Security Service building  within blocks of the Kremlin  Red Square and the Bolshoi Ballet  and surrounded the man  who claimed to have one and a half tons of explosives  the news agencies said. Negotiations continued for about one and a half hours outside the building  ITAR-Tass and Interfax reported  citing witnesses. The man later drove away from the building  under police escort  and drove to a street near Moscow's Olympic Penta Hotel  where authorities held further negotiations with him  the Moscow police press service said. The move appeared to be an attempt by security services to get him to a more secure location.   ------------------------ Yahoo! Groups Sponsor ---------------------~--> 4 DVDs Free +s&p Join Now http://us.click.yahoo.com/pt6YBB/NXiEAA/mG3HAA/7gSolB/TM ---------------------------------------------------------------------~->  To unsubscribe from this group  send an email to: forteana-unsubscribe@egroups.com     Your use of Yahoo! Groups is subject to http://docs.yahoo.com/info/terms/\n",
      "********************************************************\n"
     ]
    }
   ],
   "source": [
    "# Load ONLY spam emails\n",
    "emails_dataset_raw_spam =  load_emails_data(input_directory_spam)\n",
    "\n",
    "counter = 0\n",
    "for element in emails_dataset_raw_ham:\n",
    "    if counter < 3:\n",
    "        print(\"********************************************************\")\n",
    "        print(f\"{element}\")\n",
    "        print(\"********************************************************\")\n",
    "    else:\n",
    "        break;\n",
    "    counter = counter +1"
   ]
  },
  {
   "cell_type": "code",
   "execution_count": 9,
   "id": "30d20e23-6076-4e52-910f-ab208ab13a51",
   "metadata": {},
   "outputs": [],
   "source": [
    "# Data are loaded and divided to HAM and SPAM\n",
    "# SPAM : emails_dataset_raw_spam \n",
    "# HAM : emails_dataset_raw_ham\n",
    "\n"
   ]
  },
  {
   "cell_type": "code",
   "execution_count": 10,
   "id": "5eeb6da2-8db2-45ae-9e5f-d590de9fbcd0",
   "metadata": {},
   "outputs": [],
   "source": [
    "# Step I : Data collection and data pre processing.\n",
    "#     * Clean data\n",
    "\n"
   ]
  },
  {
   "cell_type": "code",
   "execution_count": 11,
   "id": "232b0037-359b-40cd-9428-38ed8e4ddb25",
   "metadata": {},
   "outputs": [],
   "source": [
    "# extracting pure email body - cleaning the data\n",
    "def extract_pure_email(raw_emails):\n",
    "    key_word = 'Date:'\n",
    "    cleaned_email = []\n",
    "    for email in raw_emails:\n",
    "        # Find the line with \"Subject:\" and extract everything from that line onward\n",
    "        subject_start = re.search(key_word, email, re.MULTILINE)\n",
    "        if subject_start:\n",
    "            extracted_content = email[subject_start.start():]\n",
    "            cleaned_email.append(extracted_content)\n",
    "    return cleaned_email"
   ]
  },
  {
   "cell_type": "code",
   "execution_count": 12,
   "id": "e2910a9a-ebf0-4b63-be54-8fc94e3ad96e",
   "metadata": {},
   "outputs": [
    {
     "name": "stdout",
     "output_type": "stream",
     "text": [
      "********************************************************\n",
      "Date: Thu  22 Aug 2002 18:26:25 +0700      Date:        Wed  21 Aug 2002 10:54:46 -0500     From:        Chris Garrigues <cwg-dated-1030377287.06fa6d@DeepEddy.Com>     Message-ID:  <1029945287.4797.TMDA@deepeddy.vircio.com>     | I can't reproduce this error.  For me it is very repeatable... (like every time  without fail).  This is the debug log of the pick happening ...  18:19:03 Pick_It {exec pick +inbox -list -lbrace -lbrace -subject ftp -rbrace -rbrace} {4852-4852 -sequence mercury} 18:19:03 exec pick +inbox -list -lbrace -lbrace -subject ftp -rbrace -rbrace 4852-4852 -sequence mercury 18:19:04 Ftoc_PickMsgs {{1 hit}} 18:19:04 Marking 1 hits 18:19:04 tkerror: syntax error in expression \"int ...  Note  if I run the pick command by hand ...  delta$ pick +inbox -list -lbrace -lbrace -subject ftp -rbrace -rbrace  4852-4852 -sequence mercury 1 hit  That's where the \"1 hit\" comes from (obviously).  The version of nmh I'm using is ...  delta$ pick -version pick -- nmh-1.0.4 [compiled on fuchsia.cs.mu.OZ.AU at Sun Mar 17 14:55:56 ICT 2002]  And the relevant part of my .mh_profile ...  delta$ mhparam pick -seq sel -list   Since the pick command works  the sequence (actually  both of them  the one that's explicit on the command line  from the search popup  and the one that comes from .mh_profile) do get created.  kre  ps: this is still using the version of the code form a day ago  I haven't been able to reach the cvs repository today (local routing issue I think).    _______________________________________________ Exmh-workers mailing list Exmh-workers@redhat.com https://listman.redhat.com/mailman/listinfo/exmh-workers\n",
      "********************************************************\n",
      "********************************************************\n",
      "Date: Thu  22 Aug 2002 12:46:18 +0100 Subject: [zzzzteana] RE: Alexander Reply-To: zzzzteana@yahoogroups.com Content-Type: text/plain; charset=US-ASCII Content-Transfer-Encoding: 7bit  Martin A posted: Tassos Papadopoulos  the Greek sculptor behind the plan  judged that the  limestone of Mount Kerdylio  70 miles east of Salonika and not far from the  Mount Athos monastic community  was ideal for the patriotic sculpture.     As well as Alexander's granite features  240 ft high and 170 ft wide  a  museum  a restored amphitheatre and car park for admiring crowds are planned --------------------- So is this mountain limestone or granite? If it's limestone  it'll weather pretty fast.  ------------------------ Yahoo! Groups Sponsor ---------------------~--> 4 DVDs Free +s&p Join Now http://us.click.yahoo.com/pt6YBB/NXiEAA/mG3HAA/7gSolB/TM ---------------------------------------------------------------------~->  To unsubscribe from this group  send an email to: forteana-unsubscribe@egroups.com     Your use of Yahoo! Groups is subject to http://docs.yahoo.com/info/terms/\n",
      "********************************************************\n",
      "********************************************************\n",
      "Date: Thu  22 Aug 2002 13:52:38 +0100 Subject: [zzzzteana] Moscow bomber Reply-To: zzzzteana@yahoogroups.com Content-Type: text/plain; charset=US-ASCII Content-Transfer-Encoding: 7bit  Man Threatens Explosion In Moscow   Thursday August 22  2002 1:40 PM MOSCOW (AP) - Security officers on Thursday seized an unidentified man who said he was armed with explosives and threatened to blow up his truck in front of Russia's Federal Security Services headquarters in Moscow  NTV television reported. The officers seized an automatic rifle the man was carrying  then the man got out of the truck and was taken into custody  NTV said. No other details were immediately available. The man had demanded talks with high government officials  the Interfax and ITAR-Tass news agencies said. Ekho Moskvy radio reported that he wanted to talk with Russian President Vladimir Putin. Police and security forces rushed to the Security Service building  within blocks of the Kremlin  Red Square and the Bolshoi Ballet  and surrounded the man  who claimed to have one and a half tons of explosives  the news agencies said. Negotiations continued for about one and a half hours outside the building  ITAR-Tass and Interfax reported  citing witnesses. The man later drove away from the building  under police escort  and drove to a street near Moscow's Olympic Penta Hotel  where authorities held further negotiations with him  the Moscow police press service said. The move appeared to be an attempt by security services to get him to a more secure location.   ------------------------ Yahoo! Groups Sponsor ---------------------~--> 4 DVDs Free +s&p Join Now http://us.click.yahoo.com/pt6YBB/NXiEAA/mG3HAA/7gSolB/TM ---------------------------------------------------------------------~->  To unsubscribe from this group  send an email to: forteana-unsubscribe@egroups.com     Your use of Yahoo! Groups is subject to http://docs.yahoo.com/info/terms/\n",
      "********************************************************\n"
     ]
    }
   ],
   "source": [
    "cleaned_ham_dataset = extract_pure_email(emails_dataset_raw_ham)\n",
    "\n",
    "counter = 0\n",
    "for element in cleaned_ham_dataset:\n",
    "    if counter < 3:\n",
    "        print(\"********************************************************\")\n",
    "        print(f\"{element}\")\n",
    "        print(\"********************************************************\")\n",
    "    else:\n",
    "        break;\n",
    "    counter = counter +1"
   ]
  },
  {
   "cell_type": "code",
   "execution_count": 13,
   "id": "1d87399d-12ed-4f0b-beaa-b971d56a9a0f",
   "metadata": {},
   "outputs": [
    {
     "name": "stdout",
     "output_type": "stream",
     "text": [
      "********************************************************\n",
      "Date: Thu  22 Aug 2002 18:26:25 +0700      Date:        Wed  21 Aug 2002 10:54:46 -0500     From:        Chris Garrigues <cwg-dated-1030377287.06fa6d@DeepEddy.Com>     Message-ID:  <1029945287.4797.TMDA@deepeddy.vircio.com>     | I can't reproduce this error.  For me it is very repeatable... (like every time  without fail).  This is the debug log of the pick happening ...  18:19:03 Pick_It {exec pick +inbox -list -lbrace -lbrace -subject ftp -rbrace -rbrace} {4852-4852 -sequence mercury} 18:19:03 exec pick +inbox -list -lbrace -lbrace -subject ftp -rbrace -rbrace 4852-4852 -sequence mercury 18:19:04 Ftoc_PickMsgs {{1 hit}} 18:19:04 Marking 1 hits 18:19:04 tkerror: syntax error in expression \"int ...  Note  if I run the pick command by hand ...  delta$ pick +inbox -list -lbrace -lbrace -subject ftp -rbrace -rbrace  4852-4852 -sequence mercury 1 hit  That's where the \"1 hit\" comes from (obviously).  The version of nmh I'm using is ...  delta$ pick -version pick -- nmh-1.0.4 [compiled on fuchsia.cs.mu.OZ.AU at Sun Mar 17 14:55:56 ICT 2002]  And the relevant part of my .mh_profile ...  delta$ mhparam pick -seq sel -list   Since the pick command works  the sequence (actually  both of them  the one that's explicit on the command line  from the search popup  and the one that comes from .mh_profile) do get created.  kre  ps: this is still using the version of the code form a day ago  I haven't been able to reach the cvs repository today (local routing issue I think).    _______________________________________________ Exmh-workers mailing list Exmh-workers@redhat.com https://listman.redhat.com/mailman/listinfo/exmh-workers\n",
      "********************************************************\n",
      "********************************************************\n",
      "Date: Thu  22 Aug 2002 12:46:18 +0100 Subject: [zzzzteana] RE: Alexander Reply-To: zzzzteana@yahoogroups.com Content-Type: text/plain; charset=US-ASCII Content-Transfer-Encoding: 7bit  Martin A posted: Tassos Papadopoulos  the Greek sculptor behind the plan  judged that the  limestone of Mount Kerdylio  70 miles east of Salonika and not far from the  Mount Athos monastic community  was ideal for the patriotic sculpture.     As well as Alexander's granite features  240 ft high and 170 ft wide  a  museum  a restored amphitheatre and car park for admiring crowds are planned --------------------- So is this mountain limestone or granite? If it's limestone  it'll weather pretty fast.  ------------------------ Yahoo! Groups Sponsor ---------------------~--> 4 DVDs Free +s&p Join Now http://us.click.yahoo.com/pt6YBB/NXiEAA/mG3HAA/7gSolB/TM ---------------------------------------------------------------------~->  To unsubscribe from this group  send an email to: forteana-unsubscribe@egroups.com     Your use of Yahoo! Groups is subject to http://docs.yahoo.com/info/terms/\n",
      "********************************************************\n",
      "********************************************************\n",
      "Date: Thu  22 Aug 2002 13:52:38 +0100 Subject: [zzzzteana] Moscow bomber Reply-To: zzzzteana@yahoogroups.com Content-Type: text/plain; charset=US-ASCII Content-Transfer-Encoding: 7bit  Man Threatens Explosion In Moscow   Thursday August 22  2002 1:40 PM MOSCOW (AP) - Security officers on Thursday seized an unidentified man who said he was armed with explosives and threatened to blow up his truck in front of Russia's Federal Security Services headquarters in Moscow  NTV television reported. The officers seized an automatic rifle the man was carrying  then the man got out of the truck and was taken into custody  NTV said. No other details were immediately available. The man had demanded talks with high government officials  the Interfax and ITAR-Tass news agencies said. Ekho Moskvy radio reported that he wanted to talk with Russian President Vladimir Putin. Police and security forces rushed to the Security Service building  within blocks of the Kremlin  Red Square and the Bolshoi Ballet  and surrounded the man  who claimed to have one and a half tons of explosives  the news agencies said. Negotiations continued for about one and a half hours outside the building  ITAR-Tass and Interfax reported  citing witnesses. The man later drove away from the building  under police escort  and drove to a street near Moscow's Olympic Penta Hotel  where authorities held further negotiations with him  the Moscow police press service said. The move appeared to be an attempt by security services to get him to a more secure location.   ------------------------ Yahoo! Groups Sponsor ---------------------~--> 4 DVDs Free +s&p Join Now http://us.click.yahoo.com/pt6YBB/NXiEAA/mG3HAA/7gSolB/TM ---------------------------------------------------------------------~->  To unsubscribe from this group  send an email to: forteana-unsubscribe@egroups.com     Your use of Yahoo! Groups is subject to http://docs.yahoo.com/info/terms/\n",
      "********************************************************\n"
     ]
    }
   ],
   "source": [
    "cleaned_spam_dataset = extract_pure_email(emails_dataset_raw_spam)\n",
    "\n",
    "counter = 0\n",
    "for element in cleaned_ham_dataset:\n",
    "    if counter < 3:\n",
    "        print(\"********************************************************\")\n",
    "        print(f\"{element}\")\n",
    "        print(\"********************************************************\")\n",
    "    else:\n",
    "        break;\n",
    "    counter = counter +1"
   ]
  },
  {
   "cell_type": "code",
   "execution_count": 14,
   "id": "9ebd750a-0c4e-4333-a009-1b55b085f5bc",
   "metadata": {},
   "outputs": [
    {
     "name": "stdout",
     "output_type": "stream",
     "text": [
      "Spam dataset emails quantity: 500\n",
      "Spam dataset emails quantity: 2551\n"
     ]
    }
   ],
   "source": [
    "# checking dataset - how many raws in each HAM / SPAM dataset.\n",
    "spam_emails_quantity = len(cleaned_spam_dataset)\n",
    "ham_emails_quantity = len(cleaned_ham_dataset)\n",
    "print(f\"Spam dataset emails quantity: {spam_emails_quantity}\")\n",
    "print(f\"Spam dataset emails quantity: {ham_emails_quantity}\")\n"
   ]
  },
  {
   "cell_type": "code",
   "execution_count": 15,
   "id": "7e357b5c-f7b0-4c3a-9bce-8009b61a699a",
   "metadata": {},
   "outputs": [],
   "source": [
    "# Data are cleaned and divided to HAM and SPAM\n",
    "# SPAM : cleaned_spam_dataset\n",
    "# HAM : cleaned_ham_dataset\n",
    "\n",
    "\n"
   ]
  },
  {
   "cell_type": "code",
   "execution_count": 16,
   "id": "420b48ba-d88a-4ea4-8883-622db78a0322",
   "metadata": {},
   "outputs": [],
   "source": [
    "# Step I : Data collection and data pre processing.\n",
    "#     * Lebel the data\n",
    "\n"
   ]
  },
  {
   "cell_type": "code",
   "execution_count": 17,
   "id": "deffe025-397a-403f-af90-8e16059df630",
   "metadata": {},
   "outputs": [],
   "source": [
    "# Labeling the data\n",
    "def label_dataset(dataset, label):\n",
    "    labeled_dataset = []\n",
    "    \n",
    "    for email in dataset:\n",
    "        labeled_dataset.append([email, label])\n",
    "    return labeled_dataset"
   ]
  },
  {
   "cell_type": "code",
   "execution_count": 18,
   "id": "eeaf71bc-1260-43af-bd39-8281c60c9f02",
   "metadata": {},
   "outputs": [],
   "source": [
    "spam_dataset = label_dataset(cleaned_spam_dataset, 1)\n",
    "ham_dataset = label_dataset(cleaned_ham_dataset, 0)"
   ]
  },
  {
   "cell_type": "code",
   "execution_count": 19,
   "id": "dc8710d8-80e8-4c58-9721-7be588f69172",
   "metadata": {},
   "outputs": [
    {
     "name": "stdout",
     "output_type": "stream",
     "text": [
      "Spam dataset emails quantity: 500\n",
      "Spam dataset emails quantity: 2551\n"
     ]
    }
   ],
   "source": [
    "# checking dataset - how many raws in each HAM / SPAM dataset.\n",
    "spam_emails_quantity = len(spam_dataset)\n",
    "ham_emails_quantity = len(ham_dataset)\n",
    "print(f\"Spam dataset emails quantity: {spam_emails_quantity}\")\n",
    "print(f\"Spam dataset emails quantity: {ham_emails_quantity}\")"
   ]
  },
  {
   "cell_type": "code",
   "execution_count": 20,
   "id": "1e44cc94-9339-4cef-9b43-6fedc4e3aef2",
   "metadata": {},
   "outputs": [
    {
     "name": "stdout",
     "output_type": "stream",
     "text": [
      "********************************************************\n",
      "['Date: Wed  21 Aug 2002 20:31:57 -1600 MIME-Version: 1.0 Message-ID: <0103c1042001882DD_IT7@dd_it7> Content-Type: text/html; charset=\"iso-8859-1\" Content-Transfer-Encoding: quoted-printable  <!DOCTYPE HTML PUBLIC \"-//W3C//DTD HTML 4.0 Transitional//EN\"> <HTML><HEAD> <META content=3D\"text/html; charset=3Dwindows-1252\" http-equiv=3DContent-T= ype> <META content=3D\"MSHTML 5.00.2314.1000\" name=3DGENERATOR></HEAD> <BODY><!-- Inserted by Calypso --> <TABLE border=3D0 cellPadding=3D0 cellSpacing=3D2 id=3D_CalyPrintHeader_ r= ules=3Dnone  style=3D\"COLOR: black; DISPLAY: none\" width=3D\"100%\">   <TBODY>   <TR>     <TD colSpan=3D3>       <HR color=3Dblack noShade SIZE=3D1>     </TD></TR></TD></TR>   <TR>     <TD colSpan=3D3>       <HR color=3Dblack noShade SIZE=3D1>     </TD></TR></TBODY></TABLE><!-- End Calypso --><!-- Inserted by Calypso=  --><FONT  color=3D#000000 face=3DVERDANA ARIAL HELVETICA size=3D-2><BR></FONT></TD><= /TR></TABLE><!-- End Calypso --><FONT color=3D#ff0000  face=3D\"Copperplate Gothic Bold\" size=3D5 PTSIZE=3D\"10\"> <CENTER>Save up to 70% on Life Insurance.</CENTER></FONT><FONT color=3D#ff= 0000  face=3D\"Copperplate Gothic Bold\" size=3D5 PTSIZE=3D\"10\"> <CENTER>Why Spend More Than You Have To? <CENTER><FONT color=3D#ff0000 face=3D\"Copperplate Gothic Bold\" size=3D5 PT= SIZE=3D\"10\"> <CENTER>Life Quote Savings <CENTER> <P align=3Dleft></P> <P align=3Dleft></P></FONT></U></I></B><BR></FONT></U></B></U></I> <P></P> <CENTER> <TABLE border=3D0 borderColor=3D#111111 cellPadding=3D0 cellSpacing=3D0 wi= dth=3D650>   <TBODY></TBODY></TABLE> <TABLE border=3D0 borderColor=3D#111111 cellPadding=3D5 cellSpacing=3D0 wi= dth=3D650>   <TBODY>   <TR>     <TD colSpan=3D2 width=3D\"35%\"><B><FONT face=3DVerdana size=3D4>Ensurin= g your        family\\'s financial security is very important. Life Quote Savings ma= kes        buying life insurance simple and affordable. We Provide FREE Access = to The        Very Best Companies and The Lowest Rates.</FONT></B></TD></TR>   <TR>     <TD align=3Dmiddle vAlign=3Dtop width=3D\"18%\">       <TABLE borderColor=3D#111111 width=3D\"100%\">         <TBODY>         <TR>           <TD style=3D\"PADDING-LEFT: 5px; PADDING-RIGHT: 5px\" width=3D\"100= %\"><FONT              face=3DVerdana size=3D4><B>Life Quote Savings</B> is FAST  EAS= Y and              SAVES you money! Let us help you get started with the best val= ues in              the country on new coverage. You can SAVE hundreds or even tho= usands              of dollars by requesting a FREE quote from Lifequote Savings. = Our              service will take you less than 5 minutes to complete. Shop an= d              compare. SAVE up to 70% on all types of Life insurance!  </FONT></TD></TR>         <TR><BR><BR>           <TD height=3D50 style=3D\"PADDING-LEFT: 5px; PADDING-RIGHT: 5px\"            width=3D\"100%\">             <P align=3Dcenter><B><FONT face=3DVerdana size=3D5><A              href=3D\"http://website.e365.cc/savequote/\">Click Here For Your=               Free Quote!</A></FONT></B></P></TD>           <P><FONT face=3DVerdana size=3D4><STRONG>           <CENTER>Protecting your family is the best investment you\\'ll eve= r            make!<BR></B></TD></TR>         <TR><BR><BR></STRONG></FONT></TD></TR></TD></TR>         <TR></TR></TBODY></TABLE>       <P align=3Dleft><FONT face=3D\"Arial  Helvetica  sans-serif\" size=3D2= ></FONT></P>       <P></P>       <CENTER><BR><BR><BR>       <P></P>       <P align=3Dleft><BR></B><BR><BR><BR><BR></P>       <P align=3Dcenter><BR></P>       <P align=3Dleft><BR></B><BR><BR></FONT>If you are in receipt of this=  email        in error and/or wish to be removed from our list  <A        href=3D\"mailto:coins@btamail.net.cn\">PLEASE CLICK HERE</A> AND TYPE = REMOVE. If you        reside in any state which prohibits e-mail solicitations for insuran= ce         please disregard this        email.<BR></FONT><BR><BR><BR><BR><BR><BR><BR><BR><BR><BR><BR><BR><BR= ><BR><BR><BR></FONT></P></CENTER></CENTER></TR></TBODY></TABLE></CENTER></= CENTER></CENTER></CENTER></CENTER></BODY></HTML>', 1]\n",
      "********************************************************\n",
      "********************************************************\n",
      "['Date: Thu  22 Aug 2002 06:18:18 -0600 Message-Id: <59e6301c249d5$ffb7ea20$1606fea9@freeyankeedom.com> MIME-Version: 1.0 Content-Type: text/plain; charset=\"iso-8859-1\" Content-Transfer-Encoding: 7bit X-Mailer: Microsoft CDO for Windows 2000 Thread-Index: AcJJ1f+3FWdz11AmR6uWbmQN5gGxxw== Content-Class: urn:content-classes:message X-Mimeole: Produced By Microsoft MimeOLE V6.00.2462.0000 X-Originalarrivaltime: 22 Aug 2002 12:18:18.0699 (UTC) FILETIME=[FFB949B0:01C249D5] Subject: [ILUG] Guaranteed to lose 10-12 lbs in 30 days 10.206 Sender: ilug-admin@linux.ie Errors-To: ilug-admin@linux.ie X-Mailman-Version: 1.1 Precedence: bulk List-Id: Irish Linux Users\\' Group <ilug.linux.ie> X-Beenthere: ilug@linux.ie  1) Fight The Risk of Cancer! http://www.adclick.ws/p.cfm?o=315&s=pk007  2) Slim Down - Guaranteed to lose 10-12 lbs in 30 days http://www.adclick.ws/p.cfm?o=249&s=pk007  3) Get the Child Support You Deserve - Free Legal Advice http://www.adclick.ws/p.cfm?o=245&s=pk002  4) Join the Web\\'s Fastest Growing Singles Community http://www.adclick.ws/p.cfm?o=259&s=pk007  5) Start Your Private Photo Album Online! http://www.adclick.ws/p.cfm?o=283&s=pk007  Have a Wonderful Day  Offer Manager PrizeMama              If you wish to leave this list please use the link below. http://www.qves.com/trim/?ilug@linux.ie%7C17%7C114258   --  Irish Linux Users\\' Group: ilug@linux.ie http://www.linux.ie/mailman/listinfo/ilug for (un)subscription information. List maintainer: listmaster@linux.ie', 1]\n",
      "********************************************************\n",
      "********************************************************\n",
      "['Date: Thu  22 Aug 2002 07:36:19 -0600 Message-ID: <9a63c01c249e0$e5a9d610$1106fea9@freeyankeedom.com> MIME-Version: 1.0 Content-Type: text/plain; \\tcharset=\"iso-8859-1\" Content-Transfer-Encoding: 7bit X-Mailer: Microsoft CDO for Windows 2000 Thread-Index: AcJJ4OWpowGq7rdNSwCz5HE3x9ZZDQ== Content-Class: urn:content-classes:message X-MimeOLE: Produced By Microsoft MimeOLE V6.00.2462.0000 X-OriginalArrivalTime: 22 Aug 2002 13:36:20.0969 (UTC) FILETIME=[E692FD90:01C249E0]  1) Fight The Risk of Cancer! http://www.adclick.ws/p.cfm?o=315&s=pk007  2) Slim Down - Guaranteed to lose 10-12 lbs in 30 days http://www.adclick.ws/p.cfm?o=249&s=pk007  3) Get the Child Support You Deserve - Free Legal Advice http://www.adclick.ws/p.cfm?o=245&s=pk002  4) Join the Web\\'s Fastest Growing Singles Community http://www.adclick.ws/p.cfm?o=259&s=pk007  5) Start Your Private Photo Album Online! http://www.adclick.ws/p.cfm?o=283&s=pk007  Have a Wonderful Day  Offer Manager PrizeMama              If you wish to leave this list please use the link below. http://www.qves.com/trim/?zzzz@example.com%7C17%7C308417', 1]\n",
      "********************************************************\n"
     ]
    }
   ],
   "source": [
    "counter = 0\n",
    "for element in spam_dataset:\n",
    "    if counter < 3:\n",
    "        print(\"********************************************************\")\n",
    "        print(f\"{element}\")\n",
    "        print(\"********************************************************\")\n",
    "    else:\n",
    "        break;\n",
    "    counter = counter +1"
   ]
  },
  {
   "cell_type": "code",
   "execution_count": 21,
   "id": "224ff112-905a-4d2f-93a9-a37ab2eb17d9",
   "metadata": {},
   "outputs": [
    {
     "name": "stdout",
     "output_type": "stream",
     "text": [
      "********************************************************\n",
      "['Date: Thu  22 Aug 2002 18:26:25 +0700      Date:        Wed  21 Aug 2002 10:54:46 -0500     From:        Chris Garrigues <cwg-dated-1030377287.06fa6d@DeepEddy.Com>     Message-ID:  <1029945287.4797.TMDA@deepeddy.vircio.com>     | I can\\'t reproduce this error.  For me it is very repeatable... (like every time  without fail).  This is the debug log of the pick happening ...  18:19:03 Pick_It {exec pick +inbox -list -lbrace -lbrace -subject ftp -rbrace -rbrace} {4852-4852 -sequence mercury} 18:19:03 exec pick +inbox -list -lbrace -lbrace -subject ftp -rbrace -rbrace 4852-4852 -sequence mercury 18:19:04 Ftoc_PickMsgs {{1 hit}} 18:19:04 Marking 1 hits 18:19:04 tkerror: syntax error in expression \"int ...  Note  if I run the pick command by hand ...  delta$ pick +inbox -list -lbrace -lbrace -subject ftp -rbrace -rbrace  4852-4852 -sequence mercury 1 hit  That\\'s where the \"1 hit\" comes from (obviously).  The version of nmh I\\'m using is ...  delta$ pick -version pick -- nmh-1.0.4 [compiled on fuchsia.cs.mu.OZ.AU at Sun Mar 17 14:55:56 ICT 2002]  And the relevant part of my .mh_profile ...  delta$ mhparam pick -seq sel -list   Since the pick command works  the sequence (actually  both of them  the one that\\'s explicit on the command line  from the search popup  and the one that comes from .mh_profile) do get created.  kre  ps: this is still using the version of the code form a day ago  I haven\\'t been able to reach the cvs repository today (local routing issue I think).    _______________________________________________ Exmh-workers mailing list Exmh-workers@redhat.com https://listman.redhat.com/mailman/listinfo/exmh-workers', 0]\n",
      "********************************************************\n",
      "********************************************************\n",
      "[\"Date: Thu  22 Aug 2002 12:46:18 +0100 Subject: [zzzzteana] RE: Alexander Reply-To: zzzzteana@yahoogroups.com Content-Type: text/plain; charset=US-ASCII Content-Transfer-Encoding: 7bit  Martin A posted: Tassos Papadopoulos  the Greek sculptor behind the plan  judged that the  limestone of Mount Kerdylio  70 miles east of Salonika and not far from the  Mount Athos monastic community  was ideal for the patriotic sculpture.     As well as Alexander's granite features  240 ft high and 170 ft wide  a  museum  a restored amphitheatre and car park for admiring crowds are planned --------------------- So is this mountain limestone or granite? If it's limestone  it'll weather pretty fast.  ------------------------ Yahoo! Groups Sponsor ---------------------~--> 4 DVDs Free +s&p Join Now http://us.click.yahoo.com/pt6YBB/NXiEAA/mG3HAA/7gSolB/TM ---------------------------------------------------------------------~->  To unsubscribe from this group  send an email to: forteana-unsubscribe@egroups.com     Your use of Yahoo! Groups is subject to http://docs.yahoo.com/info/terms/\", 0]\n",
      "********************************************************\n",
      "********************************************************\n",
      "[\"Date: Thu  22 Aug 2002 13:52:38 +0100 Subject: [zzzzteana] Moscow bomber Reply-To: zzzzteana@yahoogroups.com Content-Type: text/plain; charset=US-ASCII Content-Transfer-Encoding: 7bit  Man Threatens Explosion In Moscow   Thursday August 22  2002 1:40 PM MOSCOW (AP) - Security officers on Thursday seized an unidentified man who said he was armed with explosives and threatened to blow up his truck in front of Russia's Federal Security Services headquarters in Moscow  NTV television reported. The officers seized an automatic rifle the man was carrying  then the man got out of the truck and was taken into custody  NTV said. No other details were immediately available. The man had demanded talks with high government officials  the Interfax and ITAR-Tass news agencies said. Ekho Moskvy radio reported that he wanted to talk with Russian President Vladimir Putin. Police and security forces rushed to the Security Service building  within blocks of the Kremlin  Red Square and the Bolshoi Ballet  and surrounded the man  who claimed to have one and a half tons of explosives  the news agencies said. Negotiations continued for about one and a half hours outside the building  ITAR-Tass and Interfax reported  citing witnesses. The man later drove away from the building  under police escort  and drove to a street near Moscow's Olympic Penta Hotel  where authorities held further negotiations with him  the Moscow police press service said. The move appeared to be an attempt by security services to get him to a more secure location.   ------------------------ Yahoo! Groups Sponsor ---------------------~--> 4 DVDs Free +s&p Join Now http://us.click.yahoo.com/pt6YBB/NXiEAA/mG3HAA/7gSolB/TM ---------------------------------------------------------------------~->  To unsubscribe from this group  send an email to: forteana-unsubscribe@egroups.com     Your use of Yahoo! Groups is subject to http://docs.yahoo.com/info/terms/\", 0]\n",
      "********************************************************\n"
     ]
    }
   ],
   "source": [
    "counter = 0\n",
    "for element in ham_dataset:\n",
    "    if counter < 3:\n",
    "        print(\"********************************************************\")\n",
    "        print(f\"{element}\")\n",
    "        print(\"********************************************************\")\n",
    "    else:\n",
    "        break;\n",
    "    counter = counter +1"
   ]
  },
  {
   "cell_type": "code",
   "execution_count": 38,
   "id": "206ebf73-fb79-48bc-9532-f5de06b0a4f1",
   "metadata": {},
   "outputs": [],
   "source": [
    "# Data are labeled\n",
    "# labeled SPAM : spam_dataset\n",
    "# labeled HAM : ham_dataset\n",
    "\n",
    "\n"
   ]
  },
  {
   "cell_type": "code",
   "execution_count": 61,
   "id": "1e021fdf-00b5-45c2-a8b1-2c9c1995113b",
   "metadata": {},
   "outputs": [],
   "source": [
    "# saving dataset for HAM and SPAM to csv file\n",
    "import csv\n",
    "\n",
    "def save_dataset_to_csv(dataset, filename):\n",
    "    '''\n",
    "    Save given dataset to csv file\n",
    "\n",
    "    Parameters:\n",
    "        dataset : string dataser\n",
    "        filename : string file name\n",
    "    '''\n",
    "    \n",
    "    with open(filename, 'w', newline='', encoding='utf-8') as csv_file:\n",
    "        writer = csv.writer(csv_file)\n",
    "        writer.writerow(['text', 'label'])  # Write header\n",
    "        writer.writerows(dataset)\n"
   ]
  },
  {
   "cell_type": "code",
   "execution_count": 62,
   "id": "8c2e3af2-c201-48b8-bb39-32d28d0acae1",
   "metadata": {},
   "outputs": [],
   "source": [
    "# Saving HAM\n",
    "save_dataset_to_csv(ham_dataset, 'ham_dataset.csv')\n",
    "# Saving SPAM\n",
    "save_dataset_to_csv(spam_dataset, 'spam_dataset.csv')"
   ]
  },
  {
   "cell_type": "code",
   "execution_count": null,
   "id": "c6b5e87b-9eeb-47e6-a697-653b5659176e",
   "metadata": {},
   "outputs": [],
   "source": []
  },
  {
   "cell_type": "code",
   "execution_count": null,
   "id": "f7d9cb1d-fc1c-4f39-b5fb-043c7a2c94b9",
   "metadata": {},
   "outputs": [],
   "source": []
  },
  {
   "cell_type": "code",
   "execution_count": 63,
   "id": "8cc9f617-fd1c-4406-9af6-a6c92623a274",
   "metadata": {},
   "outputs": [],
   "source": [
    "# load datasets\n",
    "file_spam = pd.read_csv(\"spam_dataset.csv\")\n",
    "file_ham = pd.read_csv(\"ham_dataset.csv\")\n",
    "\n",
    "# merging spam and ham\n",
    "spam_df = pd.concat([file_spam, file_ham], ignore_index=True) "
   ]
  },
  {
   "cell_type": "code",
   "execution_count": 64,
   "id": "4539574c-be98-4ad7-84fa-04eea938b28c",
   "metadata": {},
   "outputs": [
    {
     "data": {
      "text/plain": [
       "<Axes: ylabel='count'>"
      ]
     },
     "execution_count": 64,
     "metadata": {},
     "output_type": "execute_result"
    },
    {
     "data": {
      "image/png": "[encoded data removed]",
      "text/plain": [
       "<Figure size 800x500 with 1 Axes>"
      ]
     },
     "metadata": {},
     "output_type": "display_data"
    }
   ],
   "source": [
    "# Show how many spam / ham emails is in given data\n",
    "import matplotlib.pyplot as plt\n",
    "import seaborn as sea\n",
    "labels = ['ham', 'spam']\n",
    "colors = ['green', 'red']\n",
    "plt.figure(figsize=(8, 5)) \n",
    "data = ['ham'] * len(file_ham) + ['spam'] * len(file_spam) \n",
    "sea.countplot(x=data, hue=data, palette=colors, legend=False)"
   ]
  },
  {
   "cell_type": "code",
   "execution_count": 65,
   "id": "de2673b9-19df-4e98-bc26-1fb7535aa21b",
   "metadata": {},
   "outputs": [
    {
     "data": {
      "text/html": [
       "<div>\n",
       "<style scoped>\n",
       "    .dataframe tbody tr th:only-of-type {\n",
       "        vertical-align: middle;\n",
       "    }\n",
       "\n",
       "    .dataframe tbody tr th {\n",
       "        vertical-align: top;\n",
       "    }\n",
       "\n",
       "    .dataframe thead th {\n",
       "        text-align: right;\n",
       "    }\n",
       "</style>\n",
       "<table border=\"1\" class=\"dataframe\">\n",
       "  <thead>\n",
       "    <tr style=\"text-align: right;\">\n",
       "      <th></th>\n",
       "      <th>text</th>\n",
       "      <th>label</th>\n",
       "    </tr>\n",
       "  </thead>\n",
       "  <tbody>\n",
       "    <tr>\n",
       "      <th>0</th>\n",
       "      <td>Date: Wed  21 Aug 2002 20:31:57 -1600 MIME-Ver...</td>\n",
       "      <td>1</td>\n",
       "    </tr>\n",
       "    <tr>\n",
       "      <th>1</th>\n",
       "      <td>Date: Thu  22 Aug 2002 06:18:18 -0600 Message-...</td>\n",
       "      <td>1</td>\n",
       "    </tr>\n",
       "    <tr>\n",
       "      <th>2</th>\n",
       "      <td>Date: Thu  22 Aug 2002 07:36:19 -0600 Message-...</td>\n",
       "      <td>1</td>\n",
       "    </tr>\n",
       "    <tr>\n",
       "      <th>3</th>\n",
       "      <td>Date: Thu  22 Aug 2002 08:13:35 -0700 X-Mailer...</td>\n",
       "      <td>1</td>\n",
       "    </tr>\n",
       "    <tr>\n",
       "      <th>4</th>\n",
       "      <td>Date: Thu  22 Aug 2002 09:33:07 -0600 Message-...</td>\n",
       "      <td>1</td>\n",
       "    </tr>\n",
       "  </tbody>\n",
       "</table>\n",
       "</div>"
      ],
      "text/plain": [
       "                                                text  label\n",
       "0  Date: Wed  21 Aug 2002 20:31:57 -1600 MIME-Ver...      1\n",
       "1  Date: Thu  22 Aug 2002 06:18:18 -0600 Message-...      1\n",
       "2  Date: Thu  22 Aug 2002 07:36:19 -0600 Message-...      1\n",
       "3  Date: Thu  22 Aug 2002 08:13:35 -0700 X-Mailer...      1\n",
       "4  Date: Thu  22 Aug 2002 09:33:07 -0600 Message-...      1"
      ]
     },
     "execution_count": 65,
     "metadata": {},
     "output_type": "execute_result"
    }
   ],
   "source": [
    "# Check datasets\n",
    "spam_df.head()"
   ]
  },
  {
   "cell_type": "code",
   "execution_count": 66,
   "id": "b231bce4-f6d3-40d8-9313-97b030cc0d17",
   "metadata": {},
   "outputs": [
    {
     "data": {
      "text/plain": [
       "(3051, 2)"
      ]
     },
     "execution_count": 66,
     "metadata": {},
     "output_type": "execute_result"
    }
   ],
   "source": [
    "# Inspect data\n",
    "spam_df.shape"
   ]
  },
  {
   "cell_type": "code",
   "execution_count": 48,
   "id": "190938dc-d74d-4f22-81b2-f10d756178d3",
   "metadata": {},
   "outputs": [
    {
     "data": {
      "text/html": [
       "<div>\n",
       "<style scoped>\n",
       "    .dataframe tbody tr th:only-of-type {\n",
       "        vertical-align: middle;\n",
       "    }\n",
       "\n",
       "    .dataframe tbody tr th {\n",
       "        vertical-align: top;\n",
       "    }\n",
       "\n",
       "    .dataframe thead tr th {\n",
       "        text-align: left;\n",
       "    }\n",
       "\n",
       "    .dataframe thead tr:last-of-type th {\n",
       "        text-align: right;\n",
       "    }\n",
       "</style>\n",
       "<table border=\"1\" class=\"dataframe\">\n",
       "  <thead>\n",
       "    <tr>\n",
       "      <th></th>\n",
       "      <th colspan=\"4\" halign=\"left\">text</th>\n",
       "    </tr>\n",
       "    <tr>\n",
       "      <th></th>\n",
       "      <th>count</th>\n",
       "      <th>unique</th>\n",
       "      <th>top</th>\n",
       "      <th>freq</th>\n",
       "    </tr>\n",
       "    <tr>\n",
       "      <th>label</th>\n",
       "      <th></th>\n",
       "      <th></th>\n",
       "      <th></th>\n",
       "      <th></th>\n",
       "    </tr>\n",
       "  </thead>\n",
       "  <tbody>\n",
       "    <tr>\n",
       "      <th>0</th>\n",
       "      <td>2551</td>\n",
       "      <td>2549</td>\n",
       "      <td>Date: Thu  22 Aug 2002 14:55:23 -0700 Date: Th...</td>\n",
       "      <td>2</td>\n",
       "    </tr>\n",
       "    <tr>\n",
       "      <th>1</th>\n",
       "      <td>500</td>\n",
       "      <td>486</td>\n",
       "      <td>Date: Sun  25 Aug 2002 21:21:51 -1900 MIME-Ver...</td>\n",
       "      <td>3</td>\n",
       "    </tr>\n",
       "  </tbody>\n",
       "</table>\n",
       "</div>"
      ],
      "text/plain": [
       "       text                                                               \n",
       "      count unique                                                top freq\n",
       "label                                                                     \n",
       "0      2551   2549  Date: Thu  22 Aug 2002 14:55:23 -0700 Date: Th...    2\n",
       "1       500    486  Date: Sun  25 Aug 2002 21:21:51 -1900 MIME-Ver...    3"
      ]
     },
     "execution_count": 48,
     "metadata": {},
     "output_type": "execute_result"
    }
   ],
   "source": [
    "# goup by category. 0 - no spam, 1 - spam\n",
    "spam_df.groupby('label').describe()"
   ]
  },
  {
   "cell_type": "code",
   "execution_count": 49,
   "id": "c1483a20-d15b-44b1-b364-8341be049bd5",
   "metadata": {},
   "outputs": [],
   "source": [
    "# create train/test split w proporcji 25%\n",
    "x_train, x_test, y_train, y_test = train_test_split(spam_df.text, spam_df.label, test_size = 0.25)"
   ]
  },
  {
   "cell_type": "code",
   "execution_count": 50,
   "id": "89128b2b-e2ac-49a5-9284-644e52b10391",
   "metadata": {},
   "outputs": [
    {
     "data": {
      "text/plain": [
       "2841    Date: Thu  03 Oct 2002 08:01:20 -0000 Content-...\n",
       "2953    Date: Mon  07 Oct 2002 08:00:51 -0000 Content-...\n",
       "2569    Date: Thu  26 Sep 2002 15:31:51 -0000 Content-...\n",
       "2282    Date: Sat Sep  7 01:06:56 2002 From: tim.one@c...\n",
       "862     Date: Mon  26 Aug 2002 10:51:29 -0500 (CDT) X-...\n",
       "Name: text, dtype: object"
      ]
     },
     "execution_count": 50,
     "metadata": {},
     "output_type": "execute_result"
    }
   ],
   "source": [
    "# check training data\n",
    "x_train.head()"
   ]
  },
  {
   "cell_type": "code",
   "execution_count": 51,
   "id": "8142b33e-300f-49cf-a099-54e860aed8ff",
   "metadata": {},
   "outputs": [
    {
     "data": {
      "text/plain": [
       "count                                                  2288\n",
       "unique                                                 2278\n",
       "top       Date: Fri  23 Aug 2002 13:03:04 -0400 Subject:...\n",
       "freq                                                      3\n",
       "Name: text, dtype: object"
      ]
     },
     "execution_count": 51,
     "metadata": {},
     "output_type": "execute_result"
    }
   ],
   "source": [
    "# check training data\n",
    "x_train.describe()"
   ]
  },
  {
   "cell_type": "code",
   "execution_count": 52,
   "id": "a6b69782-281a-46e2-bc36-a6ae5a0c0664",
   "metadata": {},
   "outputs": [
    {
     "data": {
      "text/plain": [
       "0.0"
      ]
     },
     "execution_count": 52,
     "metadata": {},
     "output_type": "execute_result"
    }
   ],
   "source": [
    "# Check if any nulls are present\n",
    "x_train.isnull().mean()"
   ]
  },
  {
   "cell_type": "code",
   "execution_count": 53,
   "id": "3226a6f0-4d67-4dfc-8226-efe812a6e219",
   "metadata": {},
   "outputs": [],
   "source": [
    "# find key words and store data as matrix of words\n",
    "cv = CountVectorizer()\n",
    "x_train_count = cv.fit_transform(x_train.values) # all text transforming to matrix of words"
   ]
  },
  {
   "cell_type": "code",
   "execution_count": 54,
   "id": "4aa065a9-c4d1-4314-8857-cf4c6b4b0e1e",
   "metadata": {},
   "outputs": [
    {
     "data": {
      "text/plain": [
       "<2288x48892 sparse matrix of type '<class 'numpy.int64'>'\n",
       "\twith 379344 stored elements in Compressed Sparse Row format>"
      ]
     },
     "execution_count": 54,
     "metadata": {},
     "output_type": "execute_result"
    }
   ],
   "source": [
    "# see matrix shape\n",
    "x_train_count"
   ]
  },
  {
   "cell_type": "code",
   "execution_count": 55,
   "id": "d5742e8c-4910-492f-a9dc-28c29344bff4",
   "metadata": {},
   "outputs": [
    {
     "data": {
      "text/plain": [
       "array([[0, 0, 1, ..., 0, 0, 0],\n",
       "       [2, 0, 1, ..., 0, 0, 0],\n",
       "       [1, 0, 1, ..., 0, 0, 0],\n",
       "       ...,\n",
       "       [2, 0, 1, ..., 0, 0, 0],\n",
       "       [1, 0, 1, ..., 0, 0, 0],\n",
       "       [0, 0, 0, ..., 0, 0, 0]], dtype=int64)"
      ]
     },
     "execution_count": 55,
     "metadata": {},
     "output_type": "execute_result"
    }
   ],
   "source": [
    "x_train_count.toarray()"
   ]
  },
  {
   "cell_type": "code",
   "execution_count": null,
   "id": "b5fe43b7-f91b-493f-bb23-3cbf7ba78ef9",
   "metadata": {},
   "outputs": [],
   "source": []
  },
  {
   "cell_type": "code",
   "execution_count": null,
   "id": "83b793cf-22d1-4c59-bbc9-8cb7cc498d09",
   "metadata": {},
   "outputs": [],
   "source": [
    "# Model Training"
   ]
  },
  {
   "cell_type": "code",
   "execution_count": 56,
   "id": "502371a8-e39c-43f7-bc33-43689c0e2ba6",
   "metadata": {},
   "outputs": [
    {
     "data": {
      "text/html": [
       "<style>#sk-container-id-1 {\n",
       "  /* Definition of color scheme common for light and dark mode */\n",
       "  --sklearn-color-text: black;\n",
       "  --sklearn-color-line: gray;\n",
       "  /* Definition of color scheme for unfitted estimators */\n",
       "  --sklearn-color-unfitted-level-0: #fff5e6;\n",
       "  --sklearn-color-unfitted-level-1: #f6e4d2;\n",
       "  --sklearn-color-unfitted-level-2: #ffe0b3;\n",
       "  --sklearn-color-unfitted-level-3: chocolate;\n",
       "  /* Definition of color scheme for fitted estimators */\n",
       "  --sklearn-color-fitted-level-0: #f0f8ff;\n",
       "  --sklearn-color-fitted-level-1: #d4ebff;\n",
       "  --sklearn-color-fitted-level-2: #b3dbfd;\n",
       "  --sklearn-color-fitted-level-3: cornflowerblue;\n",
       "\n",
       "  /* Specific color for light theme */\n",
       "  --sklearn-color-text-on-default-background: var(--sg-text-color, var(--theme-code-foreground, var(--jp-content-font-color1, black)));\n",
       "  --sklearn-color-background: var(--sg-background-color, var(--theme-background, var(--jp-layout-color0, white)));\n",
       "  --sklearn-color-border-box: var(--sg-text-color, var(--theme-code-foreground, var(--jp-content-font-color1, black)));\n",
       "  --sklearn-color-icon: #696969;\n",
       "\n",
       "  @media (prefers-color-scheme: dark) {\n",
       "    /* Redefinition of color scheme for dark theme */\n",
       "    --sklearn-color-text-on-default-background: var(--sg-text-color, var(--theme-code-foreground, var(--jp-content-font-color1, white)));\n",
       "    --sklearn-color-background: var(--sg-background-color, var(--theme-background, var(--jp-layout-color0, #111)));\n",
       "    --sklearn-color-border-box: var(--sg-text-color, var(--theme-code-foreground, var(--jp-content-font-color1, white)));\n",
       "    --sklearn-color-icon: #878787;\n",
       "  }\n",
       "}\n",
       "\n",
       "#sk-container-id-1 {\n",
       "  color: var(--sklearn-color-text);\n",
       "}\n",
       "\n",
       "#sk-container-id-1 pre {\n",
       "  padding: 0;\n",
       "}\n",
       "\n",
       "#sk-container-id-1 input.sk-hidden--visually {\n",
       "  border: 0;\n",
       "  clip: rect(1px 1px 1px 1px);\n",
       "  clip: rect(1px, 1px, 1px, 1px);\n",
       "  height: 1px;\n",
       "  margin: -1px;\n",
       "  overflow: hidden;\n",
       "  padding: 0;\n",
       "  position: absolute;\n",
       "  width: 1px;\n",
       "}\n",
       "\n",
       "#sk-container-id-1 div.sk-dashed-wrapped {\n",
       "  border: 1px dashed var(--sklearn-color-line);\n",
       "  margin: 0 0.4em 0.5em 0.4em;\n",
       "  box-sizing: border-box;\n",
       "  padding-bottom: 0.4em;\n",
       "  background-color: var(--sklearn-color-background);\n",
       "}\n",
       "\n",
       "#sk-container-id-1 div.sk-container {\n",
       "  /* jupyter's `normalize.less` sets `[hidden] { display: none; }`\n",
       "     but bootstrap.min.css set `[hidden] { display: none !important; }`\n",
       "     so we also need the `!important` here to be able to override the\n",
       "     default hidden behavior on the sphinx rendered scikit-learn.org.\n",
       "     See: https://github.com/scikit-learn/scikit-learn/issues/21755 */\n",
       "  display: inline-block !important;\n",
       "  position: relative;\n",
       "}\n",
       "\n",
       "#sk-container-id-1 div.sk-text-repr-fallback {\n",
       "  display: none;\n",
       "}\n",
       "\n",
       "div.sk-parallel-item,\n",
       "div.sk-serial,\n",
       "div.sk-item {\n",
       "  /* draw centered vertical line to link estimators */\n",
       "  background-image: linear-gradient(var(--sklearn-color-text-on-default-background), var(--sklearn-color-text-on-default-background));\n",
       "  background-size: 2px 100%;\n",
       "  background-repeat: no-repeat;\n",
       "  background-position: center center;\n",
       "}\n",
       "\n",
       "/* Parallel-specific style estimator block */\n",
       "\n",
       "#sk-container-id-1 div.sk-parallel-item::after {\n",
       "  content: \"\";\n",
       "  width: 100%;\n",
       "  border-bottom: 2px solid var(--sklearn-color-text-on-default-background);\n",
       "  flex-grow: 1;\n",
       "}\n",
       "\n",
       "#sk-container-id-1 div.sk-parallel {\n",
       "  display: flex;\n",
       "  align-items: stretch;\n",
       "  justify-content: center;\n",
       "  background-color: var(--sklearn-color-background);\n",
       "  position: relative;\n",
       "}\n",
       "\n",
       "#sk-container-id-1 div.sk-parallel-item {\n",
       "  display: flex;\n",
       "  flex-direction: column;\n",
       "}\n",
       "\n",
       "#sk-container-id-1 div.sk-parallel-item:first-child::after {\n",
       "  align-self: flex-end;\n",
       "  width: 50%;\n",
       "}\n",
       "\n",
       "#sk-container-id-1 div.sk-parallel-item:last-child::after {\n",
       "  align-self: flex-start;\n",
       "  width: 50%;\n",
       "}\n",
       "\n",
       "#sk-container-id-1 div.sk-parallel-item:only-child::after {\n",
       "  width: 0;\n",
       "}\n",
       "\n",
       "/* Serial-specific style estimator block */\n",
       "\n",
       "#sk-container-id-1 div.sk-serial {\n",
       "  display: flex;\n",
       "  flex-direction: column;\n",
       "  align-items: center;\n",
       "  background-color: var(--sklearn-color-background);\n",
       "  padding-right: 1em;\n",
       "  padding-left: 1em;\n",
       "}\n",
       "\n",
       "\n",
       "/* Toggleable style: style used for estimator/Pipeline/ColumnTransformer box that is\n",
       "clickable and can be expanded/collapsed.\n",
       "- Pipeline and ColumnTransformer use this feature and define the default style\n",
       "- Estimators will overwrite some part of the style using the `sk-estimator` class\n",
       "*/\n",
       "\n",
       "/* Pipeline and ColumnTransformer style (default) */\n",
       "\n",
       "#sk-container-id-1 div.sk-toggleable {\n",
       "  /* Default theme specific background. It is overwritten whether we have a\n",
       "  specific estimator or a Pipeline/ColumnTransformer */\n",
       "  background-color: var(--sklearn-color-background);\n",
       "}\n",
       "\n",
       "/* Toggleable label */\n",
       "#sk-container-id-1 label.sk-toggleable__label {\n",
       "  cursor: pointer;\n",
       "  display: block;\n",
       "  width: 100%;\n",
       "  margin-bottom: 0;\n",
       "  padding: 0.5em;\n",
       "  box-sizing: border-box;\n",
       "  text-align: center;\n",
       "}\n",
       "\n",
       "#sk-container-id-1 label.sk-toggleable__label-arrow:before {\n",
       "  /* Arrow on the left of the label */\n",
       "  content: \"▸\";\n",
       "  float: left;\n",
       "  margin-right: 0.25em;\n",
       "  color: var(--sklearn-color-icon);\n",
       "}\n",
       "\n",
       "#sk-container-id-1 label.sk-toggleable__label-arrow:hover:before {\n",
       "  color: var(--sklearn-color-text);\n",
       "}\n",
       "\n",
       "/* Toggleable content - dropdown */\n",
       "\n",
       "#sk-container-id-1 div.sk-toggleable__content {\n",
       "  max-height: 0;\n",
       "  max-width: 0;\n",
       "  overflow: hidden;\n",
       "  text-align: left;\n",
       "  /* unfitted */\n",
       "  background-color: var(--sklearn-color-unfitted-level-0);\n",
       "}\n",
       "\n",
       "#sk-container-id-1 div.sk-toggleable__content.fitted {\n",
       "  /* fitted */\n",
       "  background-color: var(--sklearn-color-fitted-level-0);\n",
       "}\n",
       "\n",
       "#sk-container-id-1 div.sk-toggleable__content pre {\n",
       "  margin: 0.2em;\n",
       "  border-radius: 0.25em;\n",
       "  color: var(--sklearn-color-text);\n",
       "  /* unfitted */\n",
       "  background-color: var(--sklearn-color-unfitted-level-0);\n",
       "}\n",
       "\n",
       "#sk-container-id-1 div.sk-toggleable__content.fitted pre {\n",
       "  /* unfitted */\n",
       "  background-color: var(--sklearn-color-fitted-level-0);\n",
       "}\n",
       "\n",
       "#sk-container-id-1 input.sk-toggleable__control:checked~div.sk-toggleable__content {\n",
       "  /* Expand drop-down */\n",
       "  max-height: 200px;\n",
       "  max-width: 100%;\n",
       "  overflow: auto;\n",
       "}\n",
       "\n",
       "#sk-container-id-1 input.sk-toggleable__control:checked~label.sk-toggleable__label-arrow:before {\n",
       "  content: \"▾\";\n",
       "}\n",
       "\n",
       "/* Pipeline/ColumnTransformer-specific style */\n",
       "\n",
       "#sk-container-id-1 div.sk-label input.sk-toggleable__control:checked~label.sk-toggleable__label {\n",
       "  color: var(--sklearn-color-text);\n",
       "  background-color: var(--sklearn-color-unfitted-level-2);\n",
       "}\n",
       "\n",
       "#sk-container-id-1 div.sk-label.fitted input.sk-toggleable__control:checked~label.sk-toggleable__label {\n",
       "  background-color: var(--sklearn-color-fitted-level-2);\n",
       "}\n",
       "\n",
       "/* Estimator-specific style */\n",
       "\n",
       "/* Colorize estimator box */\n",
       "#sk-container-id-1 div.sk-estimator input.sk-toggleable__control:checked~label.sk-toggleable__label {\n",
       "  /* unfitted */\n",
       "  background-color: var(--sklearn-color-unfitted-level-2);\n",
       "}\n",
       "\n",
       "#sk-container-id-1 div.sk-estimator.fitted input.sk-toggleable__control:checked~label.sk-toggleable__label {\n",
       "  /* fitted */\n",
       "  background-color: var(--sklearn-color-fitted-level-2);\n",
       "}\n",
       "\n",
       "#sk-container-id-1 div.sk-label label.sk-toggleable__label,\n",
       "#sk-container-id-1 div.sk-label label {\n",
       "  /* The background is the default theme color */\n",
       "  color: var(--sklearn-color-text-on-default-background);\n",
       "}\n",
       "\n",
       "/* On hover, darken the color of the background */\n",
       "#sk-container-id-1 div.sk-label:hover label.sk-toggleable__label {\n",
       "  color: var(--sklearn-color-text);\n",
       "  background-color: var(--sklearn-color-unfitted-level-2);\n",
       "}\n",
       "\n",
       "/* Label box, darken color on hover, fitted */\n",
       "#sk-container-id-1 div.sk-label.fitted:hover label.sk-toggleable__label.fitted {\n",
       "  color: var(--sklearn-color-text);\n",
       "  background-color: var(--sklearn-color-fitted-level-2);\n",
       "}\n",
       "\n",
       "/* Estimator label */\n",
       "\n",
       "#sk-container-id-1 div.sk-label label {\n",
       "  font-family: monospace;\n",
       "  font-weight: bold;\n",
       "  display: inline-block;\n",
       "  line-height: 1.2em;\n",
       "}\n",
       "\n",
       "#sk-container-id-1 div.sk-label-container {\n",
       "  text-align: center;\n",
       "}\n",
       "\n",
       "/* Estimator-specific */\n",
       "#sk-container-id-1 div.sk-estimator {\n",
       "  font-family: monospace;\n",
       "  border: 1px dotted var(--sklearn-color-border-box);\n",
       "  border-radius: 0.25em;\n",
       "  box-sizing: border-box;\n",
       "  margin-bottom: 0.5em;\n",
       "  /* unfitted */\n",
       "  background-color: var(--sklearn-color-unfitted-level-0);\n",
       "}\n",
       "\n",
       "#sk-container-id-1 div.sk-estimator.fitted {\n",
       "  /* fitted */\n",
       "  background-color: var(--sklearn-color-fitted-level-0);\n",
       "}\n",
       "\n",
       "/* on hover */\n",
       "#sk-container-id-1 div.sk-estimator:hover {\n",
       "  /* unfitted */\n",
       "  background-color: var(--sklearn-color-unfitted-level-2);\n",
       "}\n",
       "\n",
       "#sk-container-id-1 div.sk-estimator.fitted:hover {\n",
       "  /* fitted */\n",
       "  background-color: var(--sklearn-color-fitted-level-2);\n",
       "}\n",
       "\n",
       "/* Specification for estimator info (e.g. \"i\" and \"?\") */\n",
       "\n",
       "/* Common style for \"i\" and \"?\" */\n",
       "\n",
       ".sk-estimator-doc-link,\n",
       "a:link.sk-estimator-doc-link,\n",
       "a:visited.sk-estimator-doc-link {\n",
       "  float: right;\n",
       "  font-size: smaller;\n",
       "  line-height: 1em;\n",
       "  font-family: monospace;\n",
       "  background-color: var(--sklearn-color-background);\n",
       "  border-radius: 1em;\n",
       "  height: 1em;\n",
       "  width: 1em;\n",
       "  text-decoration: none !important;\n",
       "  margin-left: 1ex;\n",
       "  /* unfitted */\n",
       "  border: var(--sklearn-color-unfitted-level-1) 1pt solid;\n",
       "  color: var(--sklearn-color-unfitted-level-1);\n",
       "}\n",
       "\n",
       ".sk-estimator-doc-link.fitted,\n",
       "a:link.sk-estimator-doc-link.fitted,\n",
       "a:visited.sk-estimator-doc-link.fitted {\n",
       "  /* fitted */\n",
       "  border: var(--sklearn-color-fitted-level-1) 1pt solid;\n",
       "  color: var(--sklearn-color-fitted-level-1);\n",
       "}\n",
       "\n",
       "/* On hover */\n",
       "div.sk-estimator:hover .sk-estimator-doc-link:hover,\n",
       ".sk-estimator-doc-link:hover,\n",
       "div.sk-label-container:hover .sk-estimator-doc-link:hover,\n",
       ".sk-estimator-doc-link:hover {\n",
       "  /* unfitted */\n",
       "  background-color: var(--sklearn-color-unfitted-level-3);\n",
       "  color: var(--sklearn-color-background);\n",
       "  text-decoration: none;\n",
       "}\n",
       "\n",
       "div.sk-estimator.fitted:hover .sk-estimator-doc-link.fitted:hover,\n",
       ".sk-estimator-doc-link.fitted:hover,\n",
       "div.sk-label-container:hover .sk-estimator-doc-link.fitted:hover,\n",
       ".sk-estimator-doc-link.fitted:hover {\n",
       "  /* fitted */\n",
       "  background-color: var(--sklearn-color-fitted-level-3);\n",
       "  color: var(--sklearn-color-background);\n",
       "  text-decoration: none;\n",
       "}\n",
       "\n",
       "/* Span, style for the box shown on hovering the info icon */\n",
       ".sk-estimator-doc-link span {\n",
       "  display: none;\n",
       "  z-index: 9999;\n",
       "  position: relative;\n",
       "  font-weight: normal;\n",
       "  right: .2ex;\n",
       "  padding: .5ex;\n",
       "  margin: .5ex;\n",
       "  width: min-content;\n",
       "  min-width: 20ex;\n",
       "  max-width: 50ex;\n",
       "  color: var(--sklearn-color-text);\n",
       "  box-shadow: 2pt 2pt 4pt #999;\n",
       "  /* unfitted */\n",
       "  background: var(--sklearn-color-unfitted-level-0);\n",
       "  border: .5pt solid var(--sklearn-color-unfitted-level-3);\n",
       "}\n",
       "\n",
       ".sk-estimator-doc-link.fitted span {\n",
       "  /* fitted */\n",
       "  background: var(--sklearn-color-fitted-level-0);\n",
       "  border: var(--sklearn-color-fitted-level-3);\n",
       "}\n",
       "\n",
       ".sk-estimator-doc-link:hover span {\n",
       "  display: block;\n",
       "}\n",
       "\n",
       "/* \"?\"-specific style due to the `<a>` HTML tag */\n",
       "\n",
       "#sk-container-id-1 a.estimator_doc_link {\n",
       "  float: right;\n",
       "  font-size: 1rem;\n",
       "  line-height: 1em;\n",
       "  font-family: monospace;\n",
       "  background-color: var(--sklearn-color-background);\n",
       "  border-radius: 1rem;\n",
       "  height: 1rem;\n",
       "  width: 1rem;\n",
       "  text-decoration: none;\n",
       "  /* unfitted */\n",
       "  color: var(--sklearn-color-unfitted-level-1);\n",
       "  border: var(--sklearn-color-unfitted-level-1) 1pt solid;\n",
       "}\n",
       "\n",
       "#sk-container-id-1 a.estimator_doc_link.fitted {\n",
       "  /* fitted */\n",
       "  border: var(--sklearn-color-fitted-level-1) 1pt solid;\n",
       "  color: var(--sklearn-color-fitted-level-1);\n",
       "}\n",
       "\n",
       "/* On hover */\n",
       "#sk-container-id-1 a.estimator_doc_link:hover {\n",
       "  /* unfitted */\n",
       "  background-color: var(--sklearn-color-unfitted-level-3);\n",
       "  color: var(--sklearn-color-background);\n",
       "  text-decoration: none;\n",
       "}\n",
       "\n",
       "#sk-container-id-1 a.estimator_doc_link.fitted:hover {\n",
       "  /* fitted */\n",
       "  background-color: var(--sklearn-color-fitted-level-3);\n",
       "}\n",
       "</style><div id=\"sk-container-id-1\" class=\"sk-top-container\"><div class=\"sk-text-repr-fallback\"><pre>MultinomialNB()</pre><b>In a Jupyter environment, please rerun this cell to show the HTML representation or trust the notebook. <br />On GitHub, the HTML representation is unable to render, please try loading this page with nbviewer.org.</b></div><div class=\"sk-container\" hidden><div class=\"sk-item\"><div class=\"sk-estimator fitted sk-toggleable\"><input class=\"sk-toggleable__control sk-hidden--visually\" id=\"sk-estimator-id-1\" type=\"checkbox\" checked><label for=\"sk-estimator-id-1\" class=\"sk-toggleable__label fitted sk-toggleable__label-arrow fitted\">&nbsp;&nbsp;MultinomialNB<a class=\"sk-estimator-doc-link fitted\" rel=\"noreferrer\" target=\"_blank\" href=\"https://scikit-learn.org/1.5/modules/generated/sklearn.naive_bayes.MultinomialNB.html\">?<span>Documentation for MultinomialNB</span></a><span class=\"sk-estimator-doc-link fitted\">i<span>Fitted</span></span></label><div class=\"sk-toggleable__content fitted\"><pre>MultinomialNB()</pre></div> </div></div></div></div>"
      ],
      "text/plain": [
       "MultinomialNB()"
      ]
     },
     "execution_count": 56,
     "metadata": {},
     "output_type": "execute_result"
    }
   ],
   "source": [
    "# train model basis on word matrix and given information spam - 1 , not spam - 0\n",
    "model = MultinomialNB() # word counts for text classification\n",
    "model.fit(x_train_count, y_train)"
   ]
  },
  {
   "cell_type": "code",
   "execution_count": 57,
   "id": "605bba1d-e754-402c-aa25-df31ed17caf6",
   "metadata": {},
   "outputs": [
    {
     "name": "stdout",
     "output_type": "stream",
     "text": [
      "Model accuracy score: 0.97 %\n"
     ]
    }
   ],
   "source": [
    "# test model accuracy\n",
    "x_test_count = cv.transform(x_test)\n",
    "acc = model.score(x_test_count, y_test)\n",
    "print('Model accuracy score: {0:0.2f} %'.format(acc))"
   ]
  },
  {
   "cell_type": "code",
   "execution_count": 58,
   "id": "a2986661-3811-43d6-a986-f3d06f24fcfc",
   "metadata": {},
   "outputs": [
    {
     "data": {
      "text/plain": [
       "array([0], dtype=int64)"
      ]
     },
     "execution_count": 58,
     "metadata": {},
     "output_type": "execute_result"
    }
   ],
   "source": [
    "# test trained model on my custom NON SPAM email message\n",
    "email_ham = [\"hey lets have a beer together today. Are you in?\"]\n",
    "email_ham_count = cv.transform(email_ham)\n",
    "model.predict(email_ham_count)\n",
    "\n",
    "# Result: array([0], dtype=int64)\n",
    "# It is NOT spam. SUCCES."
   ]
  },
  {
   "cell_type": "code",
   "execution_count": 59,
   "id": "3f511b26-248e-4c4a-8417-e36687dc57bf",
   "metadata": {},
   "outputs": [
    {
     "data": {
      "text/plain": [
       "array([1], dtype=int64)"
      ]
     },
     "execution_count": 59,
     "metadata": {},
     "output_type": "execute_result"
    }
   ],
   "source": [
    "# test trained model on my custom SPAM email message\n",
    "email_spam = [\"reward click now you will be reach\"]\n",
    "email_spam_count = cv.transform(email_spam)\n",
    "model.predict(email_spam_count)\n",
    "\n",
    "# Result: array([1], dtype=int64))\n",
    "# It IS spam. SUCCES."
   ]
  },
  {
   "cell_type": "code",
   "execution_count": null,
   "id": "d978606e-06df-49c5-9069-f438dc4bcf37",
   "metadata": {},
   "outputs": [],
   "source": []
  }
 ],
 "metadata": {
  "kernelspec": {
   "display_name": "Python 3 (ipykernel)",
   "language": "python",
   "name": "python3"
  },
  "language_info": {
   "codemirror_mode": {
    "name": "ipython",
    "version": 3
   },
   "file_extension": ".py",
   "mimetype": "text/x-python",
   "name": "python",
   "nbconvert_exporter": "python",
   "pygments_lexer": "ipython3",
   "version": "3.12.3"
  }
 },
 "nbformat": 4,
 "nbformat_minor": 5
}
